{
 "cells": [
  {
   "cell_type": "markdown",
   "metadata": {},
   "source": [
    "## Loading Data\n",
    "Dan Constantini, Tom Hayat et Alexandre Attia\n",
    "This script loads 11 data class from imagenet and sort the files according to their name"
   ]
  },
  {
   "cell_type": "code",
   "execution_count": 232,
   "metadata": {
    "collapsed": false,
    "scrolled": true
   },
   "outputs": [],
   "source": [
    "-- TRAIN SET\n",
    "require 'torch'\n",
    "require 'xlua'\n",
    "require 'image'\n",
    "require 'nn'\n",
    "require 'optim'\n",
    "\n",
    "classes={'bridge', 'building', 'city', 'eiffel_tower','elephant', 'landscape', 'lion', 'monkey', 'people', 'tower', 'water'}\n",
    "\n",
    "imagesAll = torch.Tensor(1721,3,64,64) \n",
    "labelsAll = torch.Tensor(1721)\n",
    "compteur = 0 -- compteur pour label selon les dir\n",
    "compteur2 = 0 --compteur pour les images N&B\n",
    "\n",
    "for dir in paths.iterdirs(\"./dataset/train/\") do\n",
    "    compteur = compteur +1\n",
    "    files = {}\n",
    "    for file in paths.files(paths.concat('./dataset/train/', dir)) do\n",
    "       if file:find('JPEG' .. '$') then\n",
    "          table.insert(files, paths.concat(paths.concat('./dataset/train/',dir), file))\n",
    "       end\n",
    "    end\n",
    "   \n",
    "    if #files == 0 then\n",
    "       error('given directory doesnt contain any files of type: ')\n",
    "    end\n",
    "\n",
    "    -- print(#files)\n",
    "    temp2 = compteur2\n",
    "     for i=1,(#files) do\n",
    "        temp = image.load(files[i])\n",
    "\n",
    "        if (temp:size()[1]==3) then --on ne prend en compte que les images couleurs\n",
    "            compteur2 = compteur2 + 1\n",
    "            imagesAll[temp2 + i] = image.load(files[i]) \n",
    "            labelsAll[temp2 + i] = compteur\n",
    "        end\n",
    "    end\n",
    "    collectgarbage()\n",
    "end\n"
   ]
  },
  {
   "cell_type": "code",
   "execution_count": 233,
   "metadata": {
    "collapsed": false
   },
   "outputs": [],
   "source": [
    "-- TEST SET\n",
    "imagesTestAll = torch.Tensor(331,3,64,64) \n",
    "labelsTestAll = torch.Tensor(331)\n",
    "compteur3 = 0 -- compteur pour label selon les dir\n",
    "compteur4 = 0 --compteur pour les images N&B\n",
    "\n",
    "for dir in paths.iterdirs(\"./dataset/val/\") do\n",
    "    compteur3 = compteur3 +1\n",
    "    filesTest = {}\n",
    "    for file in paths.files(paths.concat('./dataset/val/', dir)) do\n",
    "       if file:find('JPEG' .. '$') then\n",
    "          table.insert(filesTest, paths.concat(paths.concat('./dataset/val/',dir), file))\n",
    "           \n",
    "       end\n",
    "    end\n",
    "   \n",
    "    if #filesTest == 0 then\n",
    "       error('given directory doesnt contain any files of type: ')\n",
    "    end\n",
    "\n",
    "    -- print(#files)\n",
    "    temp3 = compteur4\n",
    "     for i=1,(#filesTest) do\n",
    "        temp4 = image.load(filesTest[i])\n",
    "\n",
    "        if (temp4:size()[1]==3) then --on ne prend en compte que les images couleurs\n",
    "            compteur4 = compteur4 + 1\n",
    "            imagesTestAll[temp3 + i] = image.load(filesTest[i]) \n",
    "            labelsTestAll[temp3 + i] = compteur2\n",
    "        end\n",
    "    end\n",
    "    collectgarbage()\n",
    "end"
   ]
  },
  {
   "cell_type": "code",
   "execution_count": 234,
   "metadata": {
    "collapsed": false
   },
   "outputs": [],
   "source": [
    "-- Nombre d'images couleurs: 1683 \n",
    "-- Creation du dataset\n",
    "trainData = {\n",
    "   data = torch.Tensor(1685, 3, 64, 64),\n",
    "   labels = torch.Tensor(1685),\n",
    "}\n",
    "\n",
    "-- Nombre d'images couleurs : 325\n",
    "-- Creation test set:\n",
    "testData = {\n",
    "      data = torch.Tensor(325, 3, 64, 64),\n",
    "      labels = torch.Tensor(325),\n",
    "   }\n",
    "\n",
    "for i=1,1685 do\n",
    "   trainData.data[i] = imagesAll[i]\n",
    "   trainData.labels[i] = labelsAll[i]\n",
    "end\n",
    "for i=1,325 do\n",
    "   testData.data[i] = imagesTestAll[i]\n",
    "   testData.labels[i] = labelsTestAll[i]\n",
    "end"
   ]
  },
  {
   "cell_type": "code",
   "execution_count": 235,
   "metadata": {
    "collapsed": false
   },
   "outputs": [
    {
     "data": {
      "text/plain": [
       "{\n",
       "  data : FloatTensor - size: 1685x3x64x64\n",
       "  labels : FloatTensor - size: 1685\n",
       "}\n",
       "{\n",
       "  data : FloatTensor - size: 325x3x64x64\n",
       "  labels : FloatTensor - size: 325\n",
       "}\n"
      ]
     },
     "execution_count": 235,
     "metadata": {},
     "output_type": "execute_result"
    }
   ],
   "source": [
    "print(trainData)\n",
    "print(testData)"
   ]
  },
  {
   "cell_type": "code",
   "execution_count": 242,
   "metadata": {
    "collapsed": false
   },
   "outputs": [
    {
     "data": {
      "image/png": "[encoded data removed]",
      "text/plain": [
       "Console does not support images"
      ]
     },
     "metadata": {
      "image/png": {
       "height": 64,
       "width": 64
      }
     },
     "output_type": "display_data"
    },
    {
     "data": {
      "text/plain": [
       "1\t\n"
      ]
     },
     "execution_count": 242,
     "metadata": {},
     "output_type": "execute_result"
    }
   ],
   "source": [
    "itorch.image(trainData.data[160])\n",
    "print(trainData.labels[160])\n"
   ]
  },
  {
   "cell_type": "markdown",
   "metadata": {},
   "source": [
    "## Preprocessing Data"
   ]
  },
  {
   "cell_type": "markdown",
   "metadata": {},
   "source": [
    "On convertit nos images RGB en YUV (par rapport à la luminance) puis on normalize (retranche la moyenne et la deviation). Normalisation locale et globale."
   ]
  },
  {
   "cell_type": "code",
   "execution_count": 243,
   "metadata": {
    "collapsed": false
   },
   "outputs": [
    {
     "data": {
      "text/plain": [
       "==> preprocessing data: colorspace RGB -> YUV\t\n"
      ]
     },
     "execution_count": 243,
     "metadata": {},
     "output_type": "execute_result"
    }
   ],
   "source": [
    "-- Convert all images to YUV\n",
    "print '==> preprocessing data: colorspace RGB -> YUV'\n",
    "for i = 1,1685 do\n",
    "   trainData.data[i] = image.rgb2yuv(trainData.data[i])\n",
    "end\n",
    "for i = 1,325 do\n",
    "   testData.data[i] = image.rgb2yuv(testData.data[i])\n",
    "end\n"
   ]
  },
  {
   "cell_type": "code",
   "execution_count": 244,
   "metadata": {
    "collapsed": false
   },
   "outputs": [
    {
     "data": {
      "text/plain": [
       "==> preprocessing data: normalize each feature (channel) globally\t\n"
      ]
     },
     "execution_count": 244,
     "metadata": {},
     "output_type": "execute_result"
    }
   ],
   "source": [
    "-- Name channels for convenience\n",
    "channels = {'y','u','v'}\n",
    "\n",
    "-- Normalize each channel, and store mean/std\n",
    "-- per channel. These values are important, as they are part of\n",
    "-- the trainable parameters. At test time, test data will be normalized\n",
    "-- using these values.\n",
    "print '==> preprocessing data: normalize each feature (channel) globally'\n",
    "mean = {}\n",
    "std = {}\n",
    "for i,channel in ipairs(channels) do\n",
    "   -- normalize each channel globally:\n",
    "   mean[i] = trainData.data[{ {},i,{},{} }]:mean()\n",
    "   std[i] = trainData.data[{ {},i,{},{} }]:std()\n",
    "   trainData.data[{ {},i,{},{} }]:add(-mean[i])\n",
    "   trainData.data[{ {},i,{},{} }]:div(std[i])\n",
    "end\n",
    "\n",
    "-- Normalize test data, using the training means/stds\n",
    "for i,channel in ipairs(channels) do\n",
    "   -- normalize each channel globally:\n",
    "   testData.data[{ {},i,{},{} }]:add(-mean[i])\n",
    "   testData.data[{ {},i,{},{} }]:div(std[i])\n",
    "end"
   ]
  },
  {
   "cell_type": "code",
   "execution_count": 245,
   "metadata": {
    "collapsed": false
   },
   "outputs": [
    {
     "data": {
      "text/plain": [
       "==> preprocessing data: normalize all three channels locally\t\n"
      ]
     },
     "execution_count": 245,
     "metadata": {},
     "output_type": "execute_result"
    }
   ],
   "source": [
    "-- Local normalization\n",
    "print '==> preprocessing data: normalize all three channels locally'\n",
    "\n",
    "-- Define the normalization neighborhood:\n",
    "neighborhood = image.gaussian1D(13)\n",
    "\n",
    "-- Define our local normalization operator (It is an actual nn module, \n",
    "-- which could be inserted into a trainable model):\n",
    "normalization = nn.SpatialContrastiveNormalization(1, neighborhood)\n",
    "\n",
    "-- Normalize all channels locally:\n",
    "for c in ipairs(channels) do\n",
    "   for i = 1,1685 do\n",
    "      trainData.data[{ i,{c},{},{} }] = normalization:forward(trainData.data[{ i,{c},{},{} }])\n",
    "   end\n",
    "   for i = 1,325 do\n",
    "      testData.data[{ i,{c},{},{} }] = normalization:forward(testData.data[{ i,{c},{},{} }])\n",
    "   end\n",
    "end\n"
   ]
  },
  {
   "cell_type": "markdown",
   "metadata": {},
   "source": [
    "Verification de la normalisation :"
   ]
  },
  {
   "cell_type": "code",
   "execution_count": 246,
   "metadata": {
    "collapsed": false
   },
   "outputs": [
    {
     "data": {
      "text/plain": [
       "==> verify statistics\t\n"
      ]
     },
     "execution_count": 246,
     "metadata": {},
     "output_type": "execute_result"
    },
    {
     "data": {
      "text/plain": [
       "training data, y-channel, mean: -0.013991548668763\t\n",
       "training data, y-channel, standard deviation: 0.86405389462295\t\n",
       "test data, y-channel, mean: -0.017127864737501\t\n",
       "test data, y-channel, standard deviation: 0.86482605024975\t\n"
      ]
     },
     "execution_count": 246,
     "metadata": {},
     "output_type": "execute_result"
    },
    {
     "data": {
      "text/plain": [
       "training data, u-channel, mean: 0.017287004507574\t\n",
       "training data, u-channel, standard deviation: 0.86037302478448\t\n",
       "test data, u-channel, mean: 0.019265276341839\t\n",
       "test data, u-channel, standard deviation: 0.86349893867672\t\n"
      ]
     },
     "execution_count": 246,
     "metadata": {},
     "output_type": "execute_result"
    },
    {
     "data": {
      "text/plain": [
       "training data, v-channel, mean: -0.015198449729941\t\n",
       "training data, v-channel, standard deviation: 0.85595067449338\t\n",
       "test data, v-channel, mean: -0.017565861141334\t\n",
       "test data, v-channel, standard deviation: 0.8590854625242\t\n"
      ]
     },
     "execution_count": 246,
     "metadata": {},
     "output_type": "execute_result"
    }
   ],
   "source": [
    "print '==> verify statistics'\n",
    "for i,channel in ipairs(channels) do\n",
    "   trainMean = trainData.data[{ {},i }]:mean()\n",
    "   trainStd = trainData.data[{ {},i }]:std()\n",
    "\n",
    "   testMean = testData.data[{ {},i }]:mean()\n",
    "   testStd = testData.data[{ {},i }]:std()\n",
    "\n",
    "   print('training data, '..channel..'-channel, mean: ' .. trainMean)\n",
    "   print('training data, '..channel..'-channel, standard deviation: ' .. trainStd)\n",
    "\n",
    "   print('test data, '..channel..'-channel, mean: ' .. testMean)\n",
    "   print('test data, '..channel..'-channel, standard deviation: ' .. testStd)\n",
    "end\n"
   ]
  },
  {
   "cell_type": "code",
   "execution_count": 247,
   "metadata": {
    "collapsed": false
   },
   "outputs": [
    {
     "data": {
      "image/png": "[encoded data removed]",
      "text/plain": [
       "Console does not support images"
      ]
     },
     "metadata": {
      "image/png": {
       "height": 64,
       "width": 64
      }
     },
     "output_type": "display_data"
    },
    {
     "data": {
      "image/png": "[encoded data removed]",
      "text/plain": [
       "Console does not support images"
      ]
     },
     "metadata": {
      "image/png": {
       "height": 64,
       "width": 64
      }
     },
     "output_type": "display_data"
    },
    {
     "data": {
      "image/png": "[encoded data removed]",
      "text/plain": [
       "Console does not support images"
      ]
     },
     "metadata": {
      "image/png": {
       "height": 64,
       "width": 64
      }
     },
     "output_type": "display_data"
    }
   ],
   "source": [
    "first256Samples_y = trainData.data[{ 1,1 }]\n",
    "   first256Samples_u = trainData.data[{ 1,2 }]\n",
    "   first256Samples_v = trainData.data[{ 1,3 }]\n",
    "   itorch.image(first256Samples_y)\n",
    "   itorch.image(first256Samples_u)\n",
    "   itorch.image(first256Samples_v)"
   ]
  },
  {
   "cell_type": "markdown",
   "metadata": {},
   "source": [
    "--> Normalisation différente de celle du fichier test. Pourquoi ? Quelle différence ?"
   ]
  },
  {
   "cell_type": "markdown",
   "metadata": {},
   "source": [
    "## Model"
   ]
  },
  {
   "cell_type": "code",
   "execution_count": 248,
   "metadata": {
    "collapsed": true
   },
   "outputs": [],
   "source": [
    "-- define model to train\n",
    "model = nn.Sequential()\n",
    "\n",
    "--[[ stage 1 : mean+std normalization -> filter bank -> squashing -> max pooling\n",
    "-- Convolution\n",
    "model:add(nn.SpatialConvolutionMM(3,32,5,5))\n",
    "model:add(nn.ReLU())\n",
    "model:add(nn.SpatialMaxPooling(2, 2, 2, 2))\n",
    "\n",
    "-- stage 2 : filter bank -> squashing -> max pooling\n",
    "model:add(nn.SpatialConvolutionMM(32,32,5,5))\n",
    "model:add(nn.ReLU())\n",
    "model:add(nn.SpatialMaxPooling(2, 2, 2, 2))\n",
    "]]\n",
    "\n",
    "-- stage 3 : standard 2-layer neural network\n",
    "-- Neural Network Linéaire\n",
    "model:add(nn.View(3*64*64))\n",
    "model:add(nn.Linear(3*64*64, #classes))\n",
    "--model:add(nn.ReLU())\n",
    "--model:add(nn.Linear(128,#classes))\n",
    "model:add(nn.LogSoftMax())\n"
   ]
  },
  {
   "cell_type": "code",
   "execution_count": 249,
   "metadata": {
    "collapsed": false
   },
   "outputs": [
    {
     "data": {
      "text/plain": [
       "==> vizualisation du modèle\t\n",
       "nn.Sequential {\n",
       "  [input -> (1) -> (2) -> (3) -> output]\n",
       "  (1): nn.View(12288)\n",
       "  (2): nn.Linear(12288 -> 11)\n",
       "  (3): nn.LogSoftMax\n",
       "}\t\n"
      ]
     },
     "execution_count": 249,
     "metadata": {},
     "output_type": "execute_result"
    }
   ],
   "source": [
    "print '==> vizualisation du modèle'\n",
    "print(model:__tostring())"
   ]
  },
  {
   "cell_type": "code",
   "execution_count": 250,
   "metadata": {
    "collapsed": true
   },
   "outputs": [],
   "source": [
    "-- retrieve parameters and gradients. this helps us to use the optim package\n",
    "parameters,gradParameters = model:getParameters()"
   ]
  },
  {
   "cell_type": "code",
   "execution_count": 251,
   "metadata": {
    "collapsed": false
   },
   "outputs": [
    {
     "data": {
      "text/plain": [
       "nn.ClassNLLCriterion\n",
       "{\n",
       "  sizeAverage : true\n",
       "  output : 0\n",
       "  gradInput : FloatTensor - empty\n",
       "  output_tensor : FloatTensor - size: 1\n",
       "  target : LongTensor - size: 1\n",
       "  total_weight_tensor : FloatTensor - size: 1\n",
       "}\n"
      ]
     },
     "execution_count": 251,
     "metadata": {},
     "output_type": "execute_result"
    }
   ],
   "source": [
    "-- loss function: negative log-likelihood\n",
    "criterion = nn.ClassNLLCriterion()\n",
    "print (criterion)"
   ]
  },
  {
   "cell_type": "code",
   "execution_count": 252,
   "metadata": {
    "collapsed": true
   },
   "outputs": [],
   "source": [
    "batchSize = 64 -- sets the mini-Batch size"
   ]
  },
  {
   "cell_type": "code",
   "execution_count": 253,
   "metadata": {
    "collapsed": false
   },
   "outputs": [
    {
     "data": {
      "text/plain": [
       "0\t\n"
      ]
     },
     "execution_count": 253,
     "metadata": {},
     "output_type": "execute_result"
    }
   ],
   "source": [
    "-- this matrix records the current confusion across classes\n",
    "confusion = optim.ConfusionMatrix(classes)\n",
    "\n",
    "--Verfication qu'ils aient tous des labels\n",
    "temp=0\n",
    "for i=1,1685 do \n",
    "    if trainData.labels[i] == 0 then\n",
    "        temp= temp+1\n",
    "        print(i)\n",
    "    end\n",
    "end\n",
    "print (temp)"
   ]
  },
  {
   "cell_type": "markdown",
   "metadata": {},
   "source": [
    "## Training "
   ]
  },
  {
   "cell_type": "code",
   "execution_count": null,
   "metadata": {
    "collapsed": true
   },
   "outputs": [],
   "source": []
  },
  {
   "cell_type": "code",
   "execution_count": 254,
   "metadata": {
    "collapsed": false
   },
   "outputs": [
    {
     "data": {
      "text/plain": [
       "<trainer> on training set:\t\n",
       "<trainer> online epoch # 1 [batchSize = 64]\t\n"
      ]
     },
     "execution_count": 254,
     "metadata": {},
     "output_type": "execute_result"
    },
    {
     "ename": "...s/alexandreattia/torch/install/share/lua/5.1/nn/THNN.lua:109: Assertion `cur_target >= 0 && cur_target < n_classes' failed.  at /Users/alexandreattia/torch/extra/nn/lib/THNN/generic/ClassNLLCriterion.c:38\nstack traceback:\n\t[C]: in function 'v'\n\t...s/alexandreattia/torch/install/share/lua/5.1/nn/THNN.lua:109: in function 'ClassNLLCriterion_updateOutput'\n\t...tia/torch/install/share/lua/5.1/nn/ClassNLLCriterion.lua:41: in function 'forward'\n\t[string \"-- training function...\"]:38: in function 'opfunc'\n\t...alexandreattia/torch/install/share/lua/5.1/optim/sgd.lua:44: in function 'sgd'\n\t[string \"-- training function...\"]:62: in function 'train'\n\t[string \"i=0...\"]:3: in main chunk\n\t[C]: in function 'xpcall'\n\t...exandreattia/torch/install/share/lua/5.1/itorch/main.lua:209: in function <...exandreattia/torch/install/share/lua/5.1/itorch/main.lua:173>\n\t...exandreattia/torch/install/share/lua/5.1/lzmq/poller.lua:75: in function 'poll'\n\t...ndreattia/torch/install/share/lua/5.1/lzmq/impl/loop.lua:307: in function 'poll'\n\t...ndreattia/torch/install/share/lua/5.1/lzmq/impl/loop.lua:325: in function 'sleep_ex'\n\t...ndreattia/torch/install/share/lua/5.1/lzmq/impl/loop.lua:370: in function 'start'\n\t...exandreattia/torch/install/share/lua/5.1/itorch/main.lua:381: in main chunk\n\t[C]: in function 'require'\n\t(command line):1: in main chunk\n\t[C]: at 0x01098f1bb0",
     "evalue": "",
     "output_type": "error",
     "traceback": [
      "...s/alexandreattia/torch/install/share/lua/5.1/nn/THNN.lua:109: Assertion `cur_target >= 0 && cur_target < n_classes' failed.  at /Users/alexandreattia/torch/extra/nn/lib/THNN/generic/ClassNLLCriterion.c:38\nstack traceback:\n\t[C]: in function 'v'\n\t...s/alexandreattia/torch/install/share/lua/5.1/nn/THNN.lua:109: in function 'ClassNLLCriterion_updateOutput'\n\t...tia/torch/install/share/lua/5.1/nn/ClassNLLCriterion.lua:41: in function 'forward'\n\t[string \"-- training function...\"]:38: in function 'opfunc'\n\t...alexandreattia/torch/install/share/lua/5.1/optim/sgd.lua:44: in function 'sgd'\n\t[string \"-- training function...\"]:62: in function 'train'\n\t[string \"i=0...\"]:3: in main chunk\n\t[C]: in function 'xpcall'\n\t...exandreattia/torch/install/share/lua/5.1/itorch/main.lua:209: in function <...exandreattia/torch/install/share/lua/5.1/itorch/main.lua:173>\n\t...exandreattia/torch/install/share/lua/5.1/lzmq/poller.lua:75: in function 'poll'\n\t...ndreattia/torch/install/share/lua/5.1/lzmq/impl/loop.lua:307: in function 'poll'\n\t...ndreattia/torch/install/share/lua/5.1/lzmq/impl/loop.lua:325: in function 'sleep_ex'\n\t...ndreattia/torch/install/share/lua/5.1/lzmq/impl/loop.lua:370: in function 'start'\n\t...exandreattia/torch/install/share/lua/5.1/itorch/main.lua:381: in main chunk\n\t[C]: in function 'require'\n\t(command line):1: in main chunk\n\t[C]: at 0x01098f1bb0"
     ]
    }
   ],
   "source": [
    "i=0\n",
    "while i<10 do\n",
    "    train(trainData)\n",
    "    i=i+1\n",
    "end"
   ]
  },
  {
   "cell_type": "markdown",
   "metadata": {},
   "source": [
    "## Testing"
   ]
  },
  {
   "cell_type": "code",
   "execution_count": 85,
   "metadata": {
    "collapsed": false
   },
   "outputs": [],
   "source": [
    "-- test function\n",
    "function test(dataset)\n",
    "\n",
    "   -- test over given dataset\n",
    "   print('<trainer> on testing Set:')\n",
    "   for t = 1,325 do\n",
    "      -- get new sample\n",
    "      local input = dataset.data[t]\n",
    "      local target = dataset.labels[t]\n",
    "\n",
    "      -- test sample\n",
    "      local pred = model:forward(input)\n",
    "      confusion:add(pred, target)\n",
    "   end\n",
    "\n",
    "   -- print confusion matrix\n",
    "   print(confusion)\n",
    "   confusion:zero()\n",
    "\n",
    "end"
   ]
  },
  {
   "cell_type": "code",
   "execution_count": null,
   "metadata": {
    "collapsed": true
   },
   "outputs": [],
   "source": []
  }
 ],
 "metadata": {
  "kernelspec": {
   "display_name": "iTorch",
   "language": "lua",
   "name": "itorch"
  },
  "language_info": {
   "name": "lua",
   "version": "5.1"
  }
 },
 "nbformat": 4,
 "nbformat_minor": 0
}
