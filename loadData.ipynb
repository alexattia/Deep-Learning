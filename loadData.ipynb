{
 "cells": [
  {
   "cell_type": "markdown",
   "metadata": {},
   "source": [
    "### Loading Data\n",
    "Dan Constantini, Tom Hayat et Alexandre Attia\n",
    "This script loads 11 data class from imagenet and sort the files according to their name"
   ]
  },
  {
   "cell_type": "code",
   "execution_count": 1,
   "metadata": {
    "collapsed": false
   },
   "outputs": [
    {
     "data": {
      "text/plain": [
       "total\t1861\t\n"
      ]
     },
     "execution_count": 1,
     "metadata": {},
     "output_type": "execute_result"
    }
   ],
   "source": [
    "require 'torch'\n",
    "require 'xlua'\n",
    "require 'image'\n",
    "require 'nn'\n",
    "require 'optim'\n",
    "require 'cunn'\n",
    "\n",
    "\n",
    "--classes={'bridge', 'building', 'city', 'eiffel_tower','elephant', 'landscape', 'lion', 'monkey', 'people', 'tower', 'water'}\n",
    "total = 0\n",
    "for dir in paths.iterdirs(\"./dataset/train/\") do\n",
    "    files = {}\n",
    "    for file in paths.files(paths.concat('./dataset/train/', dir)) do\n",
    "       if file:find('JPEG' .. '$') then\n",
    "          table.insert(files, 1)\n",
    "       end\n",
    "    end\n",
    "   \n",
    "    if #files == 0 then\n",
    "       error('given directory doesnt contain any files of type: ')\n",
    "    end\n",
    "\n",
    "    total = total + #files\n",
    "    collectgarbage()\n",
    "end\n",
    "\n",
    "print('total', total)\n",
    "\n",
    "imagesAll = torch.Tensor(total,3,64,64) \n",
    "labelsAll = torch.Tensor(total)\n",
    "compteur = 0\n",
    "NumberOfImages = {0}\n",
    "for dir in paths.iterdirs(\"./dataset/train/\") do\n",
    "    compteur = compteur +1\n",
    "    files = {}\n",
    "    for file in paths.files(paths.concat('./dataset/train/', dir)) do\n",
    "       if file:find('JPEG' .. '$') then\n",
    "          table.insert(files, paths.concat(paths.concat('./dataset/train/',dir), file))\n",
    "       end\n",
    "    end\n",
    "   \n",
    "    if #files == 0 then\n",
    "       error('given directory doesnt contain any files of type: ')\n",
    "    end\n",
    "\n",
    "    lastElement = NumberOfImages[#NumberOfImages]\n",
    "    table.insert(NumberOfImages, #files + lastElement)\n",
    "    for i=1,(#files) do\n",
    "        temp = image.load(files[i])\n",
    "        temp2 = torch.Tensor(3,64,64) \n",
    "        if (temp:size()[1]==1) then\n",
    "            temp2[{{1},{},{}}] = temp\n",
    "            temp2[{{2},{},{}}] = temp\n",
    "            temp2[{{3},{},{}}] = temp\n",
    "        else \n",
    "            temp2 = temp\n",
    "        end\n",
    "        imagesAll[i+lastElement] = temp2 \n",
    "        labelsAll[i+lastElement] = compteur\n",
    "    end\n",
    "    collectgarbage()\n",
    "end\n",
    "\n",
    "\n",
    "-- Nombre d'images courleurs: 1683 \n",
    "trainData = {\n",
    "    data = torch.Tensor(total, 3, 64, 64),\n",
    "    labels = torch.Tensor(total),\n",
    "    size = function() return total end,\n",
    "\n",
    "}\n",
    "--[[create test set:\n",
    "testData = {\n",
    "      data = torch.Tensor(tesize, 1, 32, 32),\n",
    "      labels = torch.Tensor(tesize),\n",
    "      size = function() return tesize end\n",
    "   }\n",
    "]]--\n",
    "\n",
    "for i=1,total do\n",
    "   trainData.data[i] = imagesAll[i]\n",
    "   trainData.labels[i] = labelsAll[i]\n",
    "end\n",
    "--for i=trsize+1,tesize+trsize do\n",
    "   --testData.data[i-trsize] = imagesAll[labelsShuffle[i]][1]:clone()\n",
    "   --testData.labels[i-trsize] = labelsAll[labelsShuffle[i]]\n",
    "--end"
   ]
  },
  {
   "cell_type": "code",
   "execution_count": 2,
   "metadata": {
    "collapsed": false
   },
   "outputs": [
    {
     "data": {
      "text/plain": [
       "{\n",
       "  data : DoubleTensor - size: 1861x3x64x64\n",
       "  size : function: 0x0b1d6bd8\n",
       "  labels : DoubleTensor - size: 1861\n",
       "}\n"
      ]
     },
     "execution_count": 2,
     "metadata": {},
     "output_type": "execute_result"
    }
   ],
   "source": [
    "trainData"
   ]
  },
  {
   "cell_type": "code",
   "execution_count": null,
   "metadata": {
    "collapsed": false
   },
   "outputs": [],
   "source": []
  },
  {
   "cell_type": "code",
   "execution_count": 3,
   "metadata": {
    "collapsed": false
   },
   "outputs": [],
   "source": [
    "--for i=1,total do \n",
    "    --itorch.image(imagesAll[i])\n",
    "    --print(labelsAll[i])\n",
    "--end"
   ]
  },
  {
   "cell_type": "markdown",
   "metadata": {},
   "source": []
  },
  {
   "cell_type": "markdown",
   "metadata": {},
   "source": [
    "## Preprocessing Data"
   ]
  },
  {
   "cell_type": "code",
   "execution_count": 4,
   "metadata": {
    "collapsed": false
   },
   "outputs": [
    {
     "data": {
      "text/plain": [
       "==> preprocessing data: colorspace RGB -> YUV\t\n"
      ]
     },
     "execution_count": 4,
     "metadata": {},
     "output_type": "execute_result"
    },
    {
     "data": {
      "text/plain": [
       "==> preprocessing data: normalize each feature (channel) globally\t\n"
      ]
     },
     "execution_count": 4,
     "metadata": {},
     "output_type": "execute_result"
    },
    {
     "data": {
      "text/plain": [
       "==> preprocessing data: normalize all three channels locally\t\n"
      ]
     },
     "execution_count": 4,
     "metadata": {},
     "output_type": "execute_result"
    },
    {
     "data": {
      "text/plain": [
       "==> verify statistics\t\n"
      ]
     },
     "execution_count": 4,
     "metadata": {},
     "output_type": "execute_result"
    },
    {
     "data": {
      "text/plain": [
       "training data, y-channel, mean: -0.01881966926504\t\n",
       "training data, y-channel, standard deviation: 0.86958206694476\t\n"
      ]
     },
     "execution_count": 4,
     "metadata": {},
     "output_type": "execute_result"
    },
    {
     "data": {
      "text/plain": [
       "training data, u-channel, mean: 0.01750703263677\t\n",
       "training data, u-channel, standard deviation: 0.8532538826994\t\n"
      ]
     },
     "execution_count": 4,
     "metadata": {},
     "output_type": "execute_result"
    },
    {
     "data": {
      "text/plain": [
       "training data, v-channel, mean: -0.015721198933372\t\n",
       "training data, v-channel, standard deviation: 0.84829254696119\t\n"
      ]
     },
     "execution_count": 4,
     "metadata": {},
     "output_type": "execute_result"
    }
   ],
   "source": [
    "-- Convert all images to YUV\n",
    "collectgarbage()\n",
    "print '==> preprocessing data: colorspace RGB -> YUV'\n",
    "for i = 1,total do\n",
    "   trainData.data[i] = image.rgb2yuv(trainData.data[i])\n",
    "end\n",
    "--for i = 1,325 do\n",
    "  -- testData.data[i] = image.rgb2yuv(testData.data[i])\n",
    "--end\n",
    "-- Name channels for convenience\n",
    "channels = {'y','u','v'}\n",
    "\n",
    "-- Normalize each channel, and store mean/std\n",
    "-- per channel. These values are important, as they are part of\n",
    "-- the trainable parameters. At test time, test data will be normalized\n",
    "-- using these values.\n",
    "print '==> preprocessing data: normalize each feature (channel) globally'\n",
    "mean = {}\n",
    "std = {}\n",
    "for i,channel in ipairs(channels) do\n",
    "   -- normalize each channel globally:\n",
    "   mean[i] = trainData.data[{ {},i,{},{} }]:mean()\n",
    "   std[i] = trainData.data[{ {},i,{},{} }]:std()\n",
    "   trainData.data[{ {},i,{},{} }]:add(-mean[i])\n",
    "   trainData.data[{ {},i,{},{} }]:div(std[i])\n",
    "end\n",
    "\n",
    "-- Normalize test data, using the training means/stds\n",
    "--for i,channel in ipairs(channels) do\n",
    "   -- normalize each channel globally:\n",
    "   --testData.data[{ {},i,{},{} }]:add(-mean[i])\n",
    "   --testData.data[{ {},i,{},{} }]:div(std[i])\n",
    "--end\n",
    "-- Local normalization\n",
    "print '==> preprocessing data: normalize all three channels locally'\n",
    "\n",
    "-- Define the normalization neighborhood:\n",
    "neighborhood = image.gaussian1D(13)\n",
    "\n",
    "-- Define our local normalization operator (It is an actual nn module, \n",
    "-- which could be inserted into a trainable model):\n",
    "normalization = nn.SpatialContrastiveNormalization(1, neighborhood)\n",
    "\n",
    "-- Normalize all channels locally:\n",
    "for c in ipairs(channels) do\n",
    "   for i = 1,total do\n",
    "      trainData.data[{ i,{c},{},{} }] = normalization:forward(trainData.data[{ i,{c},{},{} }])\n",
    "   end\n",
    "   --for i = 1,325 do\n",
    "      --testData.data[{ i,{c},{},{} }] = normalization:forward(testData.data[{ i,{c},{},{} }])\n",
    "   --end\n",
    "end\n",
    "\n",
    "print '==> verify statistics'\n",
    "for i,channel in ipairs(channels) do\n",
    "   trainMean = trainData.data[{ {},i }]:mean()\n",
    "   trainStd = trainData.data[{ {},i }]:std()\n",
    "\n",
    "   --testMean = testData.data[{ {},i }]:mean()\n",
    "   --testStd = testData.data[{ {},i }]:std()\n",
    "\n",
    "   print('training data, '..channel..'-channel, mean: ' .. trainMean)\n",
    "   print('training data, '..channel..'-channel, standard deviation: ' .. trainStd)\n",
    "\n",
    "   --print('test data, '..channel..'-channel, mean: ' .. testMean)\n",
    "   --print('test data, '..channel..'-channel, standard deviation: ' .. testStd)\n",
    "end\n"
   ]
  },
  {
   "cell_type": "markdown",
   "metadata": {},
   "source": [
    "## Model"
   ]
  },
  {
   "cell_type": "code",
   "execution_count": 5,
   "metadata": {
    "collapsed": false
   },
   "outputs": [
    {
     "data": {
      "text/plain": [
       "==> vizualisation du modèle\t\n",
       "nn.Sequential {\n",
       "  [input -> (1) -> (2) -> (3) -> (4) -> (5) -> (6) -> (7) -> (8) -> (9) -> output]\n",
       "  (1): nn.SpatialConvolutionMM(3 -> 64, 5x5)\n",
       "  (2): nn.ReLU\n",
       "  (3): nn.SpatialMaxPooling(2x2, 2,2)\n",
       "  (4): nn.SpatialConvolutionMM(64 -> 64, 5x5)\n",
       "  (5): nn.ReLU\n",
       "  (6): nn.SpatialMaxPooling(2x2, 2,2)\n",
       "  (7): nn.View(10816)\n",
       "  (8): nn.Linear(10816 -> 11)\n",
       "  (9): nn.LogSoftMax\n",
       "}\t\n"
      ]
     },
     "execution_count": 5,
     "metadata": {},
     "output_type": "execute_result"
    },
    {
     "data": {
      "text/plain": [
       "nn.ClassNLLCriterion\n",
       "{\n",
       "  sizeAverage : true\n",
       "  output : 0\n",
       "  gradInput : DoubleTensor - empty\n",
       "  output_tensor : DoubleTensor - size: 1\n",
       "  target : LongTensor - size: 1\n",
       "  total_weight_tensor : DoubleTensor - size: 1\n",
       "}\n"
      ]
     },
     "execution_count": 5,
     "metadata": {},
     "output_type": "execute_result"
    }
   ],
   "source": [
    "-- define model to train\n",
    "classes={'bridge', 'building', 'city', 'eiffel_tower','elephant', 'landscape', 'lion', 'monkey', 'people', 'tower', 'water'}\n",
    "-- define model to train\n",
    "\n",
    "model = nn.Sequential()\n",
    " --stage 1 : mean+std normalization -> filter bank -> squashing -> max pooling\n",
    "model:add(nn.SpatialConvolutionMM(3,64,5,5))\n",
    "model:add(nn.ReLU())\n",
    "model:add(nn.SpatialMaxPooling(2, 2, 2, 2))\n",
    "-- stage 2 : filter bank -> squashing -> max pooling\n",
    "model:add(nn.SpatialConvolutionMM(64,64,5,5))\n",
    "model:add(nn.ReLU())\n",
    "model:add(nn.SpatialMaxPooling(2, 2, 2, 2))\n",
    "\n",
    "-- stage 3 : standard 2-layer neural network\n",
    "model:add(nn.View(64*13*13))\n",
    "model:add(nn.Linear(64*13*13, #classes))\n",
    "--model:add(nn.ReLU())\n",
    "--model:add(nn.Linear(128,#classes))\n",
    "model:add(nn.LogSoftMax())\n",
    "\n",
    "print '==> vizualisation du modèle'\n",
    "print(model:__tostring())\n",
    "-- retrieve parameters and gradients. this helps us to use the optim package\n",
    "parameters,gradParameters = model:getParameters()\n",
    "-- loss function: negative log-likelihood\n",
    "criterion = nn.ClassNLLCriterion()\n",
    "print (criterion)\n",
    "batchSize = 64 -- sets the mini-Batch size\n",
    "-- this matrix records the current confusion across classes\n",
    "confusion = optim.ConfusionMatrix(classes)\n"
   ]
  },
  {
   "cell_type": "markdown",
   "metadata": {},
   "source": [
    "## Linear Model"
   ]
  },
  {
   "cell_type": "code",
   "execution_count": 6,
   "metadata": {
    "collapsed": false
   },
   "outputs": [
    {
     "data": {
      "text/plain": [
       "==> vizualisation du modèle\t\n",
       "nn.Sequential {\n",
       "  [input -> (1) -> (2) -> (3) -> output]\n",
       "  (1): nn.View(12288)\n",
       "  (2): nn.Linear(12288 -> 11)\n",
       "  (3): nn.LogSoftMax\n",
       "}\t\n"
      ]
     },
     "execution_count": 6,
     "metadata": {},
     "output_type": "execute_result"
    },
    {
     "data": {
      "text/plain": [
       "nn.ClassNLLCriterion\n",
       "{\n",
       "  sizeAverage : true\n",
       "  output : 0\n",
       "  gradInput : DoubleTensor - empty\n",
       "  output_tensor : DoubleTensor - size: 1\n",
       "  target : LongTensor - size: 1\n",
       "  total_weight_tensor : DoubleTensor - size: 1\n",
       "}\n"
      ]
     },
     "execution_count": 6,
     "metadata": {},
     "output_type": "execute_result"
    }
   ],
   "source": [
    "classes={'bridge', 'building', 'city', 'eiffel_tower','elephant', 'landscape', 'lion', 'monkey', 'people', 'tower', 'water'}\n",
    "-- define model to train\n",
    "\n",
    "model = nn.Sequential()\n",
    "model:add(nn.View(3*64*64))\n",
    "model:add(nn.Linear(3*64*64, #classes))\n",
    "model:add(nn.LogSoftMax())\n",
    "print '==> vizualisation du modèle'\n",
    "print(model:__tostring())\n",
    "-- retrieve parameters and gradients. this helps us to use the optim package\n",
    "parameters,gradParameters = model:getParameters()\n",
    "-- loss function: negative log-likelihood\n",
    "criterion = nn.ClassNLLCriterion()\n",
    "print (criterion)\n",
    "batchSize = 64 -- sets the mini-Batch size\n",
    "-- this matrix records the current confusion across classes\n",
    "confusion = optim.ConfusionMatrix(classes)"
   ]
  },
  {
   "cell_type": "markdown",
   "metadata": {},
   "source": [
    "## Other model, test with CUDA"
   ]
  },
  {
   "cell_type": "code",
   "execution_count": null,
   "metadata": {
    "collapsed": false
   },
   "outputs": [],
   "source": [
    "classes={'bridge', 'building', 'city', 'eiffel_tower','elephant', 'landscape', 'lion', 'monkey', 'people', 'tower', 'water'}\n",
    "local noutputs = 11\n",
    "\n",
    "-- input dimensions: faces!\n",
    "local nfeats = 3\n",
    "local width = 64\n",
    "local height = 64\n",
    "\n",
    "-- hidden units, filter sizes (for ConvNet only):\n",
    "local nstates = {32,64}\n",
    "local filtsize = {5, 7}\n",
    "local poolsize = 4\n",
    "\n",
    "local CNN = nn.Sequential()\n",
    "\n",
    "-- stage 1: conv+max\n",
    "CNN:add(nn.SpatialConvolutionMM(nfeats, nstates[1], filtsize[1], filtsize[1]))\n",
    "CNN:add(nn.Threshold())\n",
    "CNN:add(nn.SpatialMaxPooling(poolsize,poolsize,poolsize,poolsize))\n",
    "\n",
    "-- stage 2: conv+max\n",
    "CNN:add(nn.SpatialConvolutionMM(nstates[1], nstates[2], filtsize[2], filtsize[2]))\n",
    "CNN:add(nn.Threshold())\n",
    "\n",
    "local classifier = nn.Sequential()\n",
    "-- stage 3: linear\n",
    "classifier:add(nn.Reshape(nstates[2]))\n",
    "classifier:add(nn.Linear(nstates[2], 2))\n",
    "\n",
    "-- stage 4 : log probabilities\n",
    "classifier:add(nn.LogSoftMax())\n",
    "local model = nn.Sequential()\n",
    "model:add(CNN)\n",
    "model:add(classifier)\n",
    "\n",
    "print '==> vizualisation du modèle'\n",
    "print(model:__tostring())\n",
    "-- retrieve parameters and gradients. this helps us to use the optim package\n",
    "parameters,gradParameters = model:getParameters()\n",
    "-- loss function: negative log-likelihood\n",
    "criterion = nn.ClassNLLCriterion()\n",
    "print (criterion)\n",
    "batchSize = 64 -- sets the mini-Batch size\n",
    "-- this matrix records the current confusion across classes\n",
    "confusion = optim.ConfusionMatrix(classes)\n",
    "\n"
   ]
  },
  {
   "cell_type": "code",
   "execution_count": null,
   "metadata": {
    "collapsed": true
   },
   "outputs": [],
   "source": [
    "--passage en CUDA\n",
    "--model = model:cuda()\n",
    "--criterion = criterion:cuda()\n",
    "--trainData.data = trainData.data:cuda()\n",
    "--trainData.labels = trainData.labels:cuda()"
   ]
  },
  {
   "cell_type": "code",
   "execution_count": 7,
   "metadata": {
    "collapsed": false
   },
   "outputs": [],
   "source": [
    "-- training function\n",
    "evaluations={}\n",
    "times={}\n",
    "time=0\n",
    "collectgarbage()\n",
    "function train(dataset)\n",
    "   -- epoch tracker\n",
    "   epoch = epoch or 1\n",
    "\n",
    "   -- do one epoch\n",
    "   print('<trainer> on training set:')\n",
    "   print(\"<trainer> online epoch # \" .. epoch .. ' [batchSize = ' .. batchSize .. ']')\n",
    "   for t = 1,dataset:size(),batchSize do\n",
    "\n",
    "      -- create mini batch\n",
    "      local inputs = {}\n",
    "      local targets = {}\n",
    "      for i = t,math.min(t+batchSize-1,dataset:size()) do\n",
    "         -- load new sample\n",
    "         local input = dataset.data[i]\n",
    "         local target = dataset.labels[i]\n",
    "         table.insert(inputs, input)\n",
    "         table.insert(targets, target)\n",
    "      end\n",
    "      -- create closure to evaluate f(X) and df/dX\n",
    "      local feval = function(x)\n",
    "                       -- get new parameters\n",
    "                       if x ~= parameters then\n",
    "                          parameters:copy(x)\n",
    "                       end\n",
    "\n",
    "                       -- reset gradients\n",
    "                       gradParameters:zero()\n",
    "\n",
    "                       -- f is the average of all criterions\n",
    "                       local f = 0\n",
    "\n",
    "                       -- evaluate function for complete mini batch\n",
    "                       for i = 1,#inputs do\n",
    "                          -- estimate f\n",
    "                          local output = model:forward(inputs[i])\n",
    "                          local err = criterion:forward(output, targets[i])\n",
    "                          f = f + err\n",
    "\n",
    "                          -- estimate df/dW\n",
    "                          local df_do = criterion:backward(output, targets[i])\n",
    "                          model:backward(inputs[i], df_do)\n",
    "\n",
    "                          -- update confusion\n",
    "                          confusion:add(output, targets[i])                        \n",
    "                       end\n",
    "\n",
    "                       -- normalize gradients and f(X)\n",
    "                       gradParameters:div(#inputs)\n",
    "                       f = f/#inputs\n",
    "                       \n",
    "\n",
    "                       -- return f and df/dX\n",
    "                       return f,gradParameters\n",
    "                    end\n",
    "\n",
    "\n",
    "      config = config or {learningRate = 1e-3,\n",
    "              weightDecay = 0,\n",
    "                momentum = 0,\n",
    "              learningRateDecay = 5e-7}\n",
    "      optim.sgd(feval, parameters, config)\n",
    "      \n",
    "   end\n",
    "\n",
    "   -- print confusion matrix\n",
    "   print(confusion)\n",
    "  table.insert(evaluations,confusion.averageValid)\n",
    "   confusion:zero()\n",
    "\n",
    "   -- next epoch\n",
    "   epoch = epoch + 1\n",
    "    time = time+1\n",
    "    table.insert(times,time)\n",
    "end\n"
   ]
  },
  {
   "cell_type": "markdown",
   "metadata": {
    "collapsed": false
   },
   "source": []
  },
  {
   "cell_type": "code",
   "execution_count": null,
   "metadata": {
    "collapsed": true
   },
   "outputs": [],
   "source": []
  },
  {
   "cell_type": "code",
   "execution_count": null,
   "metadata": {
    "collapsed": true
   },
   "outputs": [],
   "source": []
  },
  {
   "cell_type": "code",
   "execution_count": 8,
   "metadata": {
    "collapsed": false
   },
   "outputs": [
    {
     "data": {
      "text/plain": [
       "{\n",
       "}\n",
       "0\t\n"
      ]
     },
     "execution_count": 8,
     "metadata": {},
     "output_type": "execute_result"
    },
    {
     "data": {
      "text/plain": [
       "{\n",
       "}\n",
       "32\t\n"
      ]
     },
     "execution_count": 8,
     "metadata": {},
     "output_type": "execute_result"
    },
    {
     "data": {
      "text/plain": [
       "{\n",
       "}\n",
       "64\t\n",
       "{\n",
       "}\n",
       "96\t\n"
      ]
     },
     "execution_count": 8,
     "metadata": {},
     "output_type": "execute_result"
    },
    {
     "data": {
      "text/plain": [
       "{\n",
       "}\n",
       "107\t\n"
      ]
     },
     "execution_count": 8,
     "metadata": {},
     "output_type": "execute_result"
    },
    {
     "data": {
      "text/plain": [
       "{\n",
       "}\n",
       "139\t\n"
      ]
     },
     "execution_count": 8,
     "metadata": {},
     "output_type": "execute_result"
    },
    {
     "data": {
      "text/plain": [
       "{\n",
       "}\n",
       "171\t\n"
      ]
     },
     "execution_count": 8,
     "metadata": {},
     "output_type": "execute_result"
    },
    {
     "data": {
      "text/plain": [
       "{\n",
       "}\n",
       "203\t\n"
      ]
     },
     "execution_count": 8,
     "metadata": {},
     "output_type": "execute_result"
    },
    {
     "data": {
      "text/plain": [
       "{\n",
       "}\n",
       "235\t\n"
      ]
     },
     "execution_count": 8,
     "metadata": {},
     "output_type": "execute_result"
    },
    {
     "data": {
      "text/plain": [
       "{\n",
       "}\n",
       "267\t\n"
      ]
     },
     "execution_count": 8,
     "metadata": {},
     "output_type": "execute_result"
    },
    {
     "data": {
      "text/plain": [
       "{\n",
       "}\n",
       "299\t\n",
       "total\t331\t\n"
      ]
     },
     "execution_count": 8,
     "metadata": {},
     "output_type": "execute_result"
    },
    {
     "data": {
      "text/plain": [
       "==> preprocessing data: colorspace RGB -> YUV\t\n"
      ]
     },
     "execution_count": 8,
     "metadata": {},
     "output_type": "execute_result"
    },
    {
     "data": {
      "text/plain": [
       "==> preprocessing data: normalize each feature (channel) globally\t\n"
      ]
     },
     "execution_count": 8,
     "metadata": {},
     "output_type": "execute_result"
    },
    {
     "data": {
      "text/plain": [
       "==> preprocessing data: normalize all three channels locally\t\n"
      ]
     },
     "execution_count": 8,
     "metadata": {},
     "output_type": "execute_result"
    },
    {
     "data": {
      "text/plain": [
       "==> verify statistics\t\n"
      ]
     },
     "execution_count": 8,
     "metadata": {},
     "output_type": "execute_result"
    },
    {
     "data": {
      "text/plain": [
       "test data, y-channel, mean: -0.017539901252773\t\n",
       "test data, y-channel, standard deviation: 0.87259989006525\t\n"
      ]
     },
     "execution_count": 8,
     "metadata": {},
     "output_type": "execute_result"
    },
    {
     "data": {
      "text/plain": [
       "test data, u-channel, mean: 0.018839901418081\t\n",
       "test data, u-channel, standard deviation: 0.86362135210153\t\n"
      ]
     },
     "execution_count": 8,
     "metadata": {},
     "output_type": "execute_result"
    },
    {
     "data": {
      "text/plain": [
       "test data, v-channel, mean: -0.017297258674264\t\n",
       "test data, v-channel, standard deviation: 0.85897246440964\t\n"
      ]
     },
     "execution_count": 8,
     "metadata": {},
     "output_type": "execute_result"
    }
   ],
   "source": [
    "--classes={'bridge', 'building', 'city', 'eiffel_tower','elephant', 'landscape', 'lion', 'monkey', 'people', 'tower', 'water'}\n",
    "totaltest = 0\n",
    "for dir in paths.iterdirs(\"./dataset/val/\") do\n",
    "    files = {}\n",
    "    print(files)\n",
    "    for file in paths.files(paths.concat('./dataset/val/', dir)) do\n",
    "       if file:find('JPEG' .. '$') then\n",
    "          table.insert(files, 1)\n",
    "       end\n",
    "    end\n",
    "   \n",
    "    if #files == 0 then\n",
    "       error('given directory doesnt contain any files of type: ')\n",
    "    end\n",
    "    print(totaltest)\n",
    "    totaltest = totaltest + #files\n",
    "    collectgarbage()\n",
    "end\n",
    "\n",
    "print('total', totaltest)\n",
    "\n",
    "imagesAll = torch.Tensor(totaltest,3,64,64) \n",
    "labelsAll = torch.Tensor(totaltest)\n",
    "compteur = 0\n",
    "NumberOfImages = {0}\n",
    "for dir in paths.iterdirs(\"./dataset/val/\") do\n",
    "    compteur = compteur +1\n",
    "    files = {}\n",
    "    for file in paths.files(paths.concat('./dataset/val/', dir)) do\n",
    "       if file:find('JPEG' .. '$') then\n",
    "          table.insert(files, paths.concat(paths.concat('./dataset/val/',dir), file))\n",
    "       end\n",
    "    end\n",
    "   \n",
    "    if #files == 0 then\n",
    "       error('given directory doesnt contain any files of type: ')\n",
    "    end\n",
    "\n",
    "    lastElement = NumberOfImages[#NumberOfImages]\n",
    "    table.insert(NumberOfImages, #files + lastElement)\n",
    "    for i=1,(#files) do\n",
    "        temp = image.load(files[i])\n",
    "        temp2 = torch.Tensor(3,64,64) \n",
    "        if (temp:size()[1]==1) then\n",
    "            temp2[{{1},{},{}}] = temp\n",
    "            temp2[{{2},{},{}}] = temp\n",
    "            temp2[{{3},{},{}}] = temp\n",
    "        else \n",
    "            temp2 = temp\n",
    "        end\n",
    "        imagesAll[i+lastElement] = temp2 \n",
    "        labelsAll[i+lastElement] = compteur\n",
    "    end\n",
    "    collectgarbage()\n",
    "end\n",
    "\n",
    "\n",
    "-- Nombre d'images courleurs: 1683 \n",
    "testData = {\n",
    "    data = torch.Tensor(totaltest, 3, 64, 64),\n",
    "    labels = torch.Tensor(totaltest),\n",
    "    size = function() return totaltest end,\n",
    "\n",
    "}\n",
    "\n",
    "\n",
    "for i=1,totaltest do\n",
    "   testData.data[i] = imagesAll[i]\n",
    "   testData.labels[i] = labelsAll[i]\n",
    "end\n",
    "\n",
    "-- Convert all images to YUV\n",
    "print '==> preprocessing data: colorspace RGB -> YUV'\n",
    "for i = 1,totaltest do\n",
    "   testData.data[i] = image.rgb2yuv(testData.data[i])\n",
    "end\n",
    "--for i = 1,325 do\n",
    "  -- testData.data[i] = image.rgb2yuv(testData.data[i])\n",
    "--end\n",
    "-- Name channels for convenience\n",
    "channels = {'y','u','v'}\n",
    "\n",
    "-- Normalize each channel, and store mean/std\n",
    "-- per channel. These values are important, as they are part of\n",
    "-- the trainable parameters. At test time, test data will be normalized\n",
    "-- using these values.\n",
    "print '==> preprocessing data: normalize each feature (channel) globally'\n",
    "--mean = {}\n",
    "--std = {}\n",
    "for i,channel in ipairs(channels) do\n",
    "   -- normalize each channel globally:\n",
    "   testData.data[{ {},i,{},{} }]:add(-mean[i])\n",
    "   testData.data[{ {},i,{},{} }]:div(std[i])\n",
    "end\n",
    "\n",
    "-- Local normalization\n",
    "print '==> preprocessing data: normalize all three channels locally'\n",
    "\n",
    "-- Define the normalization neighborhood:\n",
    "neighborhood = image.gaussian1D(13)\n",
    "\n",
    "-- Define our local normalization operator (It is an actual nn module, \n",
    "-- which could be inserted into a trainable model):\n",
    "normalization = nn.SpatialContrastiveNormalization(1, neighborhood)\n",
    "\n",
    "-- Normalize all channels locally:\n",
    "for c in ipairs(channels) do\n",
    "\n",
    "   for i = 1,totaltest do\n",
    "      testData.data[{ i,{c},{},{} }] = normalization:forward(testData.data[{ i,{c},{},{} }])\n",
    "   end\n",
    "end\n",
    "\n",
    "print '==> verify statistics'\n",
    "for i,channel in ipairs(channels) do\n",
    "\n",
    "   testMean = testData.data[{ {},i }]:mean()\n",
    "   testStd = testData.data[{ {},i }]:std()\n",
    "\n",
    "\n",
    "   print('test data, '..channel..'-channel, mean: ' .. testMean)\n",
    "   print('test data, '..channel..'-channel, standard deviation: ' .. testStd)\n",
    "end\n"
   ]
  },
  {
   "cell_type": "code",
   "execution_count": 9,
   "metadata": {
    "collapsed": false
   },
   "outputs": [],
   "source": [
    "\n",
    "-- test function\n",
    "function test(dataset)\n",
    "\n",
    "   -- test over given dataset\n",
    "   print('<trainer> on testing Set:')\n",
    "   for t = 1,dataset:size() do\n",
    "      -- get new sample\n",
    "      local input = dataset.data[t]\n",
    "      local target = dataset.labels[t]\n",
    "\n",
    "      -- test sample\n",
    "      local pred = model:forward(input)\n",
    "      confusion:add(pred, target)\n",
    "   end\n",
    "\n",
    "   -- print confusion matrix\n",
    "   print(confusion)\n",
    "    table.insert(evaluationsTest,confusion.averageValid)\n",
    "   confusion:zero()\n",
    "\n",
    "end\n"
   ]
  },
  {
   "cell_type": "code",
   "execution_count": 25,
   "metadata": {
    "collapsed": false
   },
   "outputs": [
    {
     "data": {
      "text/plain": [
       "<trainer> on training set:\t\n",
       "<trainer> online epoch # 21 [batchSize = 64]\t\n"
      ]
     },
     "execution_count": 25,
     "metadata": {},
     "output_type": "execute_result"
    },
    {
     "data": {
      "text/plain": [
       "ConfusionMatrix:\n",
       "[[     182       1       0       1       1       0       0       0       0       0       0]   98.378% \t[class: bridge]\n",
       " [       3     143       0       1       3       1       4       1       0       1       0]   91.083% \t[class: building]\n",
       " [       2       2      78       1       0       0       0       0       0       2       0]   91.765% \t[class: city]\n",
       " [       1       1       1     148       1       0       1       0       0       3       1]   94.268% \t[class: eiffel_tower]\n",
       " [       3       0       0       1     215       0       3       0       0       1       0]   96.413% \t[class: elephant]\n",
       " [       1       0       0       0       0      43       0       0       0       0       0]   97.727% \t[class: landscape]\n",
       " [       0       1       0       2       2       0     277       2       0       3       1]   96.181% \t[class: lion]\n",
       " [       2       1       0       0       0       0       4     204       1       2       1]   94.884% \t[class: monkey]\n",
       " [       0       0       0       1       2       0       0       3     156       1       1]   95.122% \t[class: people]\n",
       " [       0       1       0       0       1       0       2       1       0     147       1]   96.078% \t[class: tower]\n",
       " [       1       3       0       1       1       1       7       0       1       2     173]]  91.053% \t[class: water]\n",
       " + average row correct: 94.813684983687% \n",
       " + average rowUcol correct (VOC measure): 90.457357601686% \n",
       " + global correct: 94.895217624933%\n",
       "{\n",
       "  valids : FloatTensor - size: 11\n",
       "  mat : LongTensor - size: 11x11\n",
       "  averageUnionValid : 0.90457357601686\n",
       "  _targ_idx : LongTensor - empty\n",
       "  averageValid : 0.94813684983687\n",
       "  classes : \n",
       "    {\n",
       "      1 : bridge\n",
       "      2 : building\n",
       "      3 : city\n",
       "      4 : eiffel_tower\n",
       "      5 : elephant\n",
       "      6 : landscape\n",
       "      7 : lion\n",
       "      8 : monkey\n",
       "      9 : people\n",
       "      10 : tower\n",
       "      11 : water\n",
       "    }\n",
       "  _prediction : FloatTensor - size: 11\n",
       "  _pred_idx : LongTensor - size: 1\n",
       "  nclasses : 11\n",
       "  _max : FloatTensor - size: 1\n",
       "  _target : FloatTensor - empty\n",
       "  unionvalids : FloatTensor - size: 11\n",
       "  totalValid : 0.94895217624933\n",
       "}\n",
       "<trainer> on testing Set:\t\n"
      ]
     },
     "execution_count": 25,
     "metadata": {},
     "output_type": "execute_result"
    },
    {
     "data": {
      "text/plain": [
       "ConfusionMatrix:\n",
       "[[       5       1       2       8       2       3       4       2       1       2       2]   15.625% \t[class: bridge]\n",
       " [       4       9       3       4       2       2       2       1       0       3       2]   28.125% \t[class: building]\n",
       " [       4       1       0       6       4       1       5       3       2       4       2]   0.000% \t[class: city]\n",
       " [       0       0       0      11       0       0       0       0       0       0       0]   100.000% \t[class: eiffel_tower]\n",
       " [       5       5       1       1       7       1       1       2       2       2       5]   21.875% \t[class: elephant]\n",
       " [       6       1       1       3       0       1       5       6       3       4       2]   3.125% \t[class: landscape]\n",
       " [       3       4       2       2       3       2       6       6       0       3       1]   18.750% \t[class: lion]\n",
       " [       5       2       2       3       2       1       3       6       3       1       4]   18.750% \t[class: monkey]\n",
       " [       3       3       0       3       1       1       3       4       4       6       4]   12.500% \t[class: people]\n",
       " [       4       2       0      12       3       1       2       1       1       4       2]   12.500% \t[class: tower]\n",
       " [       7       3       1       5       1       1       5       1       3       4       1]]  3.125% \t[class: water]\n",
       " + average row correct: 21.306818181818% \n",
       " + average rowUcol correct (VOC measure): 8.6890634149313% \n",
       " + global correct: 16.31419939577%\n",
       "{\n",
       "  valids : FloatTensor - size: 11\n",
       "  mat : LongTensor - size: 11x11\n",
       "  averageUnionValid : 0.086890634149313\n",
       "  _targ_idx : LongTensor - empty\n",
       "  averageValid : 0.21306818181818\n",
       "  classes : \n",
       "    {\n",
       "      1 : bridge\n",
       "      2 : building\n",
       "      3 : city\n",
       "      4 : eiffel_tower\n",
       "      5 : elephant\n",
       "      6 : landscape\n",
       "      7 : lion\n",
       "      8 : monkey\n",
       "      9 : people\n",
       "      10 : tower\n",
       "      11 : water\n",
       "    }\n",
       "  _prediction : FloatTensor - size: 11\n",
       "  _pred_idx : LongTensor - size: 1\n",
       "  nclasses : 11\n",
       "  _max : FloatTensor - size: 1\n",
       "  _target : FloatTensor - empty\n",
       "  unionvalids : FloatTensor - size: 11\n",
       "  totalValid : 0.1631419939577\n",
       "}\n",
       "<trainer> on training set:\t\n",
       "<trainer> online epoch # 22 [batchSize = 64]\t\n"
      ]
     },
     "execution_count": 25,
     "metadata": {},
     "output_type": "execute_result"
    },
    {
     "data": {
      "text/plain": [
       "ConfusionMatrix:\n",
       "[[     182       1       0       1       1       0       0       0       0       0       0]   98.378% \t[class: bridge]\n",
       " [       3     145       0       0       2       1       4       1       0       1       0]   92.357% \t[class: building]\n",
       " [       1       2      79       1       0       0       0       0       0       2       0]   92.941% \t[class: city]\n",
       " [       1       0       1     149       1       0       1       0       0       3       1]   94.904% \t[class: eiffel_tower]\n",
       " [       3       0       0       1     216       0       3       0       0       0       0]   96.861% \t[class: elephant]\n",
       " [       1       0       0       0       0      43       0       0       0       0       0]   97.727% \t[class: landscape]\n",
       " [       0       0       0       2       2       0     278       2       0       3       1]   96.528% \t[class: lion]\n",
       " [       2       0       0       0       0       0       4     206       0       2       1]   95.814% \t[class: monkey]\n",
       " [       0       0       0       1       1       0       0       3     158       0       1]   96.341% \t[class: people]\n",
       " [       0       1       0       0       1       0       1       0       0     149       1]   97.386% \t[class: tower]\n",
       " [       1       3       0       1       1       1       5       0       1       1     176]]  92.632% \t[class: water]\n",
       " + average row correct: 95.624486966567% \n",
       " + average rowUcol correct (VOC measure): 91.861419786106% \n",
       " + global correct: 95.70123589468%\n",
       "{\n",
       "  valids : FloatTensor - size: 11\n",
       "  mat : LongTensor - size: 11x11\n",
       "  averageUnionValid : 0.91861419786106\n",
       "  _targ_idx : LongTensor - empty\n",
       "  averageValid : 0.95624486966567\n",
       "  classes : \n",
       "    {\n",
       "      1 : bridge\n",
       "      2 : building\n",
       "      3 : city\n",
       "      4 : eiffel_tower\n",
       "      5 : elephant\n",
       "      6 : landscape\n",
       "      7 : lion\n",
       "      8 : monkey\n",
       "      9 : people\n",
       "      10 : tower\n",
       "      11 : water\n",
       "    }\n",
       "  _prediction : FloatTensor - size: 11\n",
       "  _pred_idx : LongTensor - size: 1\n",
       "  nclasses : 11\n",
       "  _max : FloatTensor - size: 1\n",
       "  _target : FloatTensor - empty\n",
       "  unionvalids : FloatTensor - size: 11\n",
       "  totalValid : 0.9570123589468\n",
       "}\n",
       "<trainer> on testing Set:\t\n"
      ]
     },
     "execution_count": 25,
     "metadata": {},
     "output_type": "execute_result"
    },
    {
     "data": {
      "text/plain": [
       "ConfusionMatrix:\n",
       "[[       5       1       2       8       2       3       3       2       1       3       2]   15.625% \t[class: bridge]\n",
       " [       4       9       3       4       2       2       2       1       0       3       2]   28.125% \t[class: building]\n",
       " [       4       1       0       6       4       1       5       3       2       4       2]   0.000% \t[class: city]\n",
       " [       0       0       0      11       0       0       0       0       0       0       0]   100.000% \t[class: eiffel_tower]\n",
       " [       5       5       1       1       7       1       1       2       2       2       5]   21.875% \t[class: elephant]\n",
       " [       6       1       1       3       0       1       5       6       3       4       2]   3.125% \t[class: landscape]\n",
       " [       3       4       2       2       3       2       6       6       0       3       1]   18.750% \t[class: lion]\n",
       " [       5       2       2       3       2       1       3       6       2       2       4]   18.750% \t[class: monkey]\n",
       " [       3       3       0       3       1       0       4       4       4       6       4]   12.500% \t[class: people]\n",
       " [       4       3       0      12       2       1       2       1       1       4       2]   12.500% \t[class: tower]\n",
       " [       7       3       1       5       1       1       5       1       3       4       1]]  3.125% \t[class: water]\n",
       " + average row correct: 21.306818181818% \n",
       " + average rowUcol correct (VOC measure): 8.6899754845283% \n",
       " + global correct: 16.31419939577%\n",
       "{\n",
       "  valids : FloatTensor - size: 11\n",
       "  mat : LongTensor - size: 11x11\n",
       "  averageUnionValid : 0.086899754845283\n",
       "  _targ_idx : LongTensor - empty\n",
       "  averageValid : 0.21306818181818\n",
       "  classes : \n",
       "    {\n",
       "      1 : bridge\n",
       "      2 : building\n",
       "      3 : city\n",
       "      4 : eiffel_tower\n",
       "      5 : elephant\n",
       "      6 : landscape\n",
       "      7 : lion\n",
       "      8 : monkey\n",
       "      9 : people\n",
       "      10 : tower\n",
       "      11 : water\n",
       "    }\n",
       "  _prediction : FloatTensor - size: 11\n",
       "  _pred_idx : LongTensor - size: 1\n",
       "  nclasses : 11\n",
       "  _max : FloatTensor - size: 1\n",
       "  _target : FloatTensor - empty\n",
       "  unionvalids : FloatTensor - size: 11\n",
       "  totalValid : 0.1631419939577\n",
       "}\n",
       "<trainer> on training set:\t\n",
       "<trainer> online epoch # 23 [batchSize = 64]\t\n"
      ]
     },
     "execution_count": 25,
     "metadata": {},
     "output_type": "execute_result"
    },
    {
     "data": {
      "text/plain": [
       "ConfusionMatrix:\n",
       "[[     183       0       0       1       1       0       0       0       0       0       0]   98.919% \t[class: bridge]\n",
       " [       3     145       0       0       2       1       4       1       0       1       0]   92.357% \t[class: building]\n",
       " [       1       2      79       1       0       0       0       0       0       2       0]   92.941% \t[class: city]\n",
       " [       1       0       1     150       1       0       0       0       0       3       1]   95.541% \t[class: eiffel_tower]\n",
       " [       2       0       0       1     218       0       2       0       0       0       0]   97.758% \t[class: elephant]\n",
       " [       1       0       0       0       0      43       0       0       0       0       0]   97.727% \t[class: landscape]\n",
       " [       0       0       0       2       1       0     279       2       0       3       1]   96.875% \t[class: lion]\n",
       " [       2       0       0       0       0       0       4     206       0       2       1]   95.814% \t[class: monkey]\n",
       " [       0       0       0       1       0       0       0       3     159       0       1]   96.951% \t[class: people]\n",
       " [       0       1       0       0       1       0       1       0       0     149       1]   97.386% \t[class: tower]\n",
       " [       1       1       0       1       0       0       4       0       1       0     182]]  95.789% \t[class: water]\n",
       " + average row correct: 96.187143434178% \n",
       " + average rowUcol correct (VOC measure): 93.031628565355% \n",
       " + global correct: 96.346050510478%\n",
       "{\n",
       "  valids : FloatTensor - size: 11\n",
       "  mat : LongTensor - size: 11x11\n",
       "  averageUnionValid : 0.93031628565355\n",
       "  _targ_idx : LongTensor - empty\n",
       "  averageValid : 0.96187143434178\n",
       "  classes : \n",
       "    {\n",
       "      1 : bridge\n",
       "      2 : building\n",
       "      3 : city\n",
       "      4 : eiffel_tower\n",
       "      5 : elephant\n",
       "      6 : landscape\n",
       "      7 : lion\n",
       "      8 : monkey\n",
       "      9 : people\n",
       "      10 : tower\n",
       "      11 : water\n",
       "    }\n",
       "  _prediction : FloatTensor - size: 11\n",
       "  _pred_idx : LongTensor - size: 1\n",
       "  nclasses : 11\n",
       "  _max : FloatTensor - size: 1\n",
       "  _target : FloatTensor - empty\n",
       "  unionvalids : FloatTensor - size: 11\n",
       "  totalValid : 0.96346050510478\n",
       "}\n",
       "<trainer> on testing Set:\t\n"
      ]
     },
     "execution_count": 25,
     "metadata": {},
     "output_type": "execute_result"
    },
    {
     "data": {
      "text/plain": [
       "ConfusionMatrix:\n",
       "[[       5       1       2       8       2       3       3       2       1       3       2]   15.625% \t[class: bridge]\n",
       " [       4       9       3       4       2       2       2       1       0       3       2]   28.125% \t[class: building]\n",
       " [       5       1       0       6       4       1       4       3       2       4       2]   0.000% \t[class: city]\n",
       " [       0       0       0      11       0       0       0       0       0       0       0]   100.000% \t[class: eiffel_tower]\n",
       " [       5       5       1       1       7       1       1       2       2       2       5]   21.875% \t[class: elephant]\n",
       " [       6       1       1       3       0       1       5       6       3       4       2]   3.125% \t[class: landscape]\n",
       " [       3       4       2       2       3       2       6       6       0       3       1]   18.750% \t[class: lion]\n",
       " [       5       2       2       3       2       1       3       6       2       2       4]   18.750% \t[class: monkey]\n",
       " [       3       3       0       3       1       0       4       4       4       6       4]   12.500% \t[class: people]\n",
       " [       4       3       0      11       2       1       3       1       1       4       2]   12.500% \t[class: tower]\n",
       " [       7       3       1       5       1       1       5       1       3       4       1]]  3.125% \t[class: water]\n",
       " + average row correct: 21.306818181818% \n",
       " + average rowUcol correct (VOC measure): 8.7118090723049% \n",
       " + global correct: 16.31419939577%\n",
       "{\n",
       "  valids : FloatTensor - size: 11\n",
       "  mat : LongTensor - size: 11x11\n",
       "  averageUnionValid : 0.087118090723049\n",
       "  _targ_idx : LongTensor - empty\n",
       "  averageValid : 0.21306818181818\n",
       "  classes : \n",
       "    {\n",
       "      1 : bridge\n",
       "      2 : building\n",
       "      3 : city\n",
       "      4 : eiffel_tower\n",
       "      5 : elephant\n",
       "      6 : landscape\n",
       "      7 : lion\n",
       "      8 : monkey\n",
       "      9 : people\n",
       "      10 : tower\n",
       "      11 : water\n",
       "    }\n",
       "  _prediction : FloatTensor - size: 11\n",
       "  _pred_idx : LongTensor - size: 1\n",
       "  nclasses : 11\n",
       "  _max : FloatTensor - size: 1\n"
      ]
     },
     "execution_count": 25,
     "metadata": {},
     "output_type": "execute_result"
    },
    {
     "data": {
      "text/plain": [
       "  _target : FloatTensor - empty\n",
       "  unionvalids : FloatTensor - size: 11\n",
       "  totalValid : 0.1631419939577\n",
       "}\n",
       "<trainer> on training set:\t\n",
       "<trainer> online epoch # 24 [batchSize = 64]\t\n"
      ]
     },
     "execution_count": 25,
     "metadata": {},
     "output_type": "execute_result"
    },
    {
     "data": {
      "text/plain": [
       "ConfusionMatrix:\n",
       "[[     183       0       0       1       1       0       0       0       0       0       0]   98.919% \t[class: bridge]\n",
       " [       3     146       0       0       2       1       3       1       0       1       0]   92.994% \t[class: building]\n",
       " [       1       2      80       1       0       0       0       0       0       1       0]   94.118% \t[class: city]\n",
       " [       1       0       1     151       0       0       0       0       0       3       1]   96.178% \t[class: eiffel_tower]\n",
       " [       2       0       0       1     218       0       2       0       0       0       0]   97.758% \t[class: elephant]\n",
       " [       1       0       0       0       0      43       0       0       0       0       0]   97.727% \t[class: landscape]\n",
       " [       0       0       0       2       1       0     280       2       0       3       0]   97.222% \t[class: lion]\n",
       " [       2       0       0       0       0       0       4     206       0       2       1]   95.814% \t[class: monkey]\n",
       " [       0       0       0       1       0       0       0       2     160       0       1]   97.561% \t[class: people]\n",
       " [       0       1       0       0       1       0       1       0       0     149       1]   97.386% \t[class: tower]\n",
       " [       1       1       0       0       1       0       2       0       1       0     184]]  96.842% \t[class: water]\n",
       " + average row correct: 96.592594818635% \n",
       " + average rowUcol correct (VOC measure): 93.69633956389% \n",
       " + global correct: 96.722192369694%\n",
       "{\n",
       "  valids : FloatTensor - size: 11\n",
       "  mat : LongTensor - size: 11x11\n",
       "  averageUnionValid : 0.9369633956389\n",
       "  _targ_idx : LongTensor - empty\n",
       "  averageValid : 0.96592594818635\n",
       "  classes : \n",
       "    {\n",
       "      1 : bridge\n",
       "      2 : building\n",
       "      3 : city\n",
       "      4 : eiffel_tower\n",
       "      5 : elephant\n",
       "      6 : landscape\n",
       "      7 : lion\n",
       "      8 : monkey\n",
       "      9 : people\n",
       "      10 : tower\n",
       "      11 : water\n",
       "    }\n",
       "  _prediction : FloatTensor - size: 11\n",
       "  _pred_idx : LongTensor - size: 1\n",
       "  nclasses : 11\n",
       "  _max : FloatTensor - size: 1\n",
       "  _target : FloatTensor - empty\n",
       "  unionvalids : FloatTensor - size: 11\n",
       "  totalValid : 0.96722192369694\n",
       "}\n",
       "<trainer> on testing Set:\t\n"
      ]
     },
     "execution_count": 25,
     "metadata": {},
     "output_type": "execute_result"
    },
    {
     "data": {
      "text/plain": [
       "ConfusionMatrix:\n",
       "[[       5       1       2       8       2       3       3       2       1       3       2]   15.625% \t[class: bridge]\n",
       " [       4       9       3       4       2       2       2       1       0       3       2]   28.125% \t[class: building]\n",
       " [       5       1       0       6       4       1       4       3       2       4       2]   0.000% \t[class: city]\n",
       " [       0       0       0      11       0       0       0       0       0       0       0]   100.000% \t[class: eiffel_tower]\n",
       " [       5       5       1       1       7       1       1       2       2       2       5]   21.875% \t[class: elephant]\n",
       " [       6       1       1       3       0       1       5       5       4       4       2]   3.125% \t[class: landscape]\n",
       " [       3       4       2       2       3       2       6       6       0       3       1]   18.750% \t[class: lion]\n",
       " [       5       2       2       3       2       1       3       6       2       2       4]   18.750% \t[class: monkey]\n",
       " [       3       3       0       3       1       0       4       4       4       6       4]   12.500% \t[class: people]\n",
       " [       4       3       0      11       2       1       3       1       1       4       2]   12.500% \t[class: tower]\n",
       " [       6       2       1       5       2       1       5       1       4       4       1]]  3.125% \t[class: water]\n",
       " + average row correct: 21.306818181818% \n",
       " + average rowUcol correct (VOC measure): 8.7053585628217% \n",
       " + global correct: 16.31419939577%\n",
       "{\n",
       "  valids : FloatTensor - size: 11\n",
       "  mat : LongTensor - size: 11x11\n",
       "  averageUnionValid : 0.087053585628217\n",
       "  _targ_idx : LongTensor - empty\n",
       "  averageValid : 0.21306818181818\n",
       "  classes : \n",
       "    {\n",
       "      1 : bridge\n",
       "      2 : building\n",
       "      3 : city\n",
       "      4 : eiffel_tower\n",
       "      5 : elephant\n",
       "      6 : landscape\n",
       "      7 : lion\n",
       "      8 : monkey\n",
       "      9 : people\n",
       "      10 : tower\n",
       "      11 : water\n",
       "    }\n",
       "  _prediction : FloatTensor - size: 11\n",
       "  _pred_idx : LongTensor - size: 1\n",
       "  nclasses : 11\n",
       "  _max : FloatTensor - size: 1\n",
       "  _target : FloatTensor - empty\n",
       "  unionvalids : FloatTensor - size: 11\n",
       "  totalValid : 0.1631419939577\n",
       "}\n",
       "<trainer> on training set:\t\n",
       "<trainer> online epoch # 25 [batchSize = 64]\t\n"
      ]
     },
     "execution_count": 25,
     "metadata": {},
     "output_type": "execute_result"
    },
    {
     "data": {
      "text/plain": [
       "ConfusionMatrix:\n",
       "[[     183       0       0       1       1       0       0       0       0       0       0]   98.919% \t[class: bridge]\n",
       " [       3     147       0       0       2       0       3       1       0       1       0]   93.631% \t[class: building]\n",
       " [       0       2      81       1       0       0       0       0       0       1       0]   95.294% \t[class: city]\n",
       " [       0       0       1     152       0       0       0       0       0       3       1]   96.815% \t[class: eiffel_tower]\n",
       " [       2       0       0       1     218       0       2       0       0       0       0]   97.758% \t[class: elephant]\n",
       " [       1       0       0       0       0      43       0       0       0       0       0]   97.727% \t[class: landscape]\n",
       " [       0       0       0       2       1       0     281       2       0       2       0]   97.569% \t[class: lion]\n",
       " [       2       0       0       0       0       0       4     206       0       2       1]   95.814% \t[class: monkey]\n",
       " [       0       0       0       1       0       0       0       2     160       0       1]   97.561% \t[class: people]\n",
       " [       0       1       0       0       1       0       1       0       0     149       1]   97.386% \t[class: tower]\n",
       " [       1       1       0       0       0       0       2       0       1       0     185]]  97.368% \t[class: water]\n",
       " + average row correct: 96.894767067649% \n",
       " + average rowUcol correct (VOC measure): 94.36563632705% \n",
       " + global correct: 96.990865126276%\n",
       "{\n",
       "  valids : FloatTensor - size: 11\n",
       "  mat : LongTensor - size: 11x11\n",
       "  averageUnionValid : 0.9436563632705\n",
       "  _targ_idx : LongTensor - empty\n",
       "  averageValid : 0.96894767067649\n",
       "  classes : \n",
       "    {\n",
       "      1 : bridge\n",
       "      2 : building\n",
       "      3 : city\n",
       "      4 : eiffel_tower\n",
       "      5 : elephant\n",
       "      6 : landscape\n",
       "      7 : lion\n",
       "      8 : monkey\n",
       "      9 : people\n",
       "      10 : tower\n",
       "      11 : water\n",
       "    }\n",
       "  _prediction : FloatTensor - size: 11\n",
       "  _pred_idx : LongTensor - size: 1\n",
       "  nclasses : 11\n",
       "  _max : FloatTensor - size: 1\n",
       "  _target : FloatTensor - empty\n",
       "  unionvalids : FloatTensor - size: 11\n",
       "  totalValid : 0.96990865126276\n",
       "}\n",
       "<trainer> on testing Set:\t\n"
      ]
     },
     "execution_count": 25,
     "metadata": {},
     "output_type": "execute_result"
    },
    {
     "data": {
      "text/plain": [
       "ConfusionMatrix:\n",
       "[[       5       1       2       8       2       3       3       2       1       3       2]   15.625% \t[class: bridge]\n",
       " [       4       9       3       4       2       2       2       1       0       3       2]   28.125% \t[class: building]\n",
       " [       5       1       0       6       4       1       4       3       2       4       2]   0.000% \t[class: city]\n",
       " [       0       0       0      11       0       0       0       0       0       0       0]   100.000% \t[class: eiffel_tower]\n",
       " [       5       5       1       1       7       1       1       2       2       2       5]   21.875% \t[class: elephant]\n",
       " [       6       1       1       3       0       1       5       4       4       5       2]   3.125% \t[class: landscape]\n",
       " [       3       4       2       2       3       2       6       6       0       3       1]   18.750% \t[class: lion]\n",
       " [       5       2       2       3       2       1       3       6       2       2       4]   18.750% \t[class: monkey]\n",
       " [       3       3       0       3       1       0       4       4       4       6       4]   12.500% \t[class: people]\n",
       " [       4       3       0       9       2       1       3       2       1       5       2]   15.625% \t[class: tower]\n",
       " [       6       2       1       5       3       1       5       2       4       3       0]]  0.000% \t[class: water]\n",
       " + average row correct: 21.306818181818% \n",
       " + average rowUcol correct (VOC measure): 8.7096626785668% \n",
       " + global correct: 16.31419939577%\n",
       "{\n",
       "  valids : FloatTensor - size: 11\n",
       "  mat : LongTensor - size: 11x11\n",
       "  averageUnionValid : 0.087096626785668\n",
       "  _targ_idx : LongTensor - empty\n",
       "  averageValid : 0.21306818181818\n",
       "  classes : \n",
       "    {\n",
       "      1 : bridge\n",
       "      2 : building\n",
       "      3 : city\n",
       "      4 : eiffel_tower\n",
       "      5 : elephant\n",
       "      6 : landscape\n",
       "      7 : lion\n",
       "      8 : monkey\n",
       "      9 : people\n",
       "      10 : tower\n",
       "      11 : water\n",
       "    }\n",
       "  _prediction : FloatTensor - size: 11\n",
       "  _pred_idx : LongTensor - size: 1\n",
       "  nclasses : 11\n",
       "  _max : FloatTensor - size: 1\n",
       "  _target : FloatTensor - empty\n",
       "  unionvalids : FloatTensor - size: 11\n",
       "  totalValid : 0.1631419939577\n",
       "}\n",
       "<trainer> on training set:\t\n",
       "<trainer> online epoch # 26 [batchSize = 64]\t\n"
      ]
     },
     "execution_count": 25,
     "metadata": {},
     "output_type": "execute_result"
    },
    {
     "data": {
      "text/plain": [
       "ConfusionMatrix:\n",
       "[[     183       0       0       1       1       0       0       0       0       0       0]   98.919% \t[class: bridge]\n",
       " [       3     148       0       0       1       0       3       1       0       1       0]   94.268% \t[class: building]\n",
       " [       0       2      81       1       0       0       0       0       0       1       0]   95.294% \t[class: city]\n",
       " [       0       0       1     153       0       0       0       0       0       3       0]   97.452% \t[class: eiffel_tower]\n",
       " [       2       0       0       1     218       0       2       0       0       0       0]   97.758% \t[class: elephant]\n",
       " [       1       0       0       0       0      43       0       0       0       0       0]   97.727% \t[class: landscape]\n",
       " [       0       0       0       2       1       0     282       1       0       2       0]   97.917% \t[class: lion]\n",
       " [       2       0       0       0       0       0       4     206       0       2       1]   95.814% \t[class: monkey]\n",
       " [       0       0       0       1       0       0       0       2     160       0       1]   97.561% \t[class: people]\n",
       " [       0       1       0       0       0       0       1       0       0     150       1]   98.039% \t[class: tower]\n",
       " [       1       1       0       0       0       0       2       0       1       0     185]]  97.368% \t[class: water]\n",
       " + average row correct: 97.101558338512% \n",
       " + average rowUcol correct (VOC measure): 94.725002483888% \n",
       " + global correct: 97.205803331542%\n",
       "{\n",
       "  valids : FloatTensor - size: 11\n",
       "  mat : LongTensor - size: 11x11\n",
       "  averageUnionValid : 0.94725002483888\n",
       "  _targ_idx : LongTensor - empty\n",
       "  averageValid : 0.97101558338512\n",
       "  classes : \n",
       "    {\n",
       "      1 : bridge\n",
       "      2 : building\n",
       "      3 : city\n",
       "      4 : eiffel_tower\n",
       "      5 : elephant\n",
       "      6 : landscape\n",
       "      7 : lion\n",
       "      8 : monkey\n",
       "      9 : people\n",
       "      10 : tower\n",
       "      11 : water\n",
       "    }\n",
       "  _prediction : FloatTensor - size: 11\n",
       "  _pred_idx : LongTensor - size: 1\n",
       "  nclasses : 11\n",
       "  _max : FloatTensor - size: 1\n",
       "  _target : FloatTensor - empty\n",
       "  unionvalids : FloatTensor - size: 11\n",
       "  totalValid : 0.97205803331542\n",
       "}\n",
       "<trainer> on testing Set:\t\n"
      ]
     },
     "execution_count": 25,
     "metadata": {},
     "output_type": "execute_result"
    },
    {
     "data": {
      "text/plain": [
       "ConfusionMatrix:\n",
       "[[       5       1       2       8       2       3       3       2       1       3       2]   15.625% \t[class: bridge]\n",
       " [       4       9       3       4       2       2       2       1       0       3       2]   28.125% \t[class: building]\n",
       " [       5       1       0       5       4       1       3       3       3       5       2]   0.000% \t[class: city]\n",
       " [       0       0       0      11       0       0       0       0       0       0       0]   100.000% \t[class: eiffel_tower]\n",
       " [       5       5       1       1       7       1       1       2       2       2       5]   21.875% \t[class: elephant]\n",
       " [       6       1       1       3       0       1       5       4       4       5       2]   3.125% \t[class: landscape]\n",
       " [       3       4       2       2       3       2       6       6       0       3       1]   18.750% \t[class: lion]\n",
       " [       5       2       2       3       2       1       3       6       2       2       4]   18.750% \t[class: monkey]\n",
       " [       3       3       0       2       1       0       4       4       5       6       4]   15.625% \t[class: people]\n",
       " [       4       3       0       9       2       1       3       2       1       5       2]   15.625% \t[class: tower]\n",
       " [       6       3       1       4       3       1       5       2       4       3       0]]  0.000% \t[class: water]\n",
       " + average row correct: 21.590909090909% \n",
       " + average rowUcol correct (VOC measure): 8.9602264490995% \n",
       " + global correct: 16.616314199396%\n",
       "{\n",
       "  valids : FloatTensor - size: 11\n",
       "  mat : LongTensor - size: 11x11\n",
       "  averageUnionValid : 0.089602264490995\n",
       "  _targ_idx : LongTensor - empty\n",
       "  averageValid : 0.21590909090909\n",
       "  classes : \n",
       "    {\n",
       "      1 : bridge\n",
       "      2 : building\n",
       "      3 : city\n",
       "      4 : eiffel_tower\n",
       "      5 : elephant\n",
       "      6 : landscape\n",
       "      7 : lion\n",
       "      8 : monkey\n",
       "      9 : people\n",
       "      10 : tower\n",
       "      11 : water\n",
       "    }\n",
       "  _prediction : FloatTensor - size: 11\n",
       "  _pred_idx : LongTensor - size: 1\n",
       "  nclasses : 11\n",
       "  _max : FloatTensor - size: 1\n",
       "  _target : FloatTensor - empty\n",
       "  unionvalids : FloatTensor - size: 11\n",
       "  totalValid : 0.16616314199396\n",
       "}\n",
       "<trainer> on training set:\t\n",
       "<trainer> online epoch # 27 [batchSize = 64]\t\n"
      ]
     },
     "execution_count": 25,
     "metadata": {},
     "output_type": "execute_result"
    },
    {
     "data": {
      "text/plain": [
       "ConfusionMatrix:\n",
       "[[     183       0       0       1       1       0       0       0       0       0       0]   98.919% \t[class: bridge]\n",
       " [       3     149       0       0       1       0       3       1       0       0       0]   94.904% \t[class: building]\n",
       " [       0       2      81       1       0       0       0       0       0       1       0]   95.294% \t[class: city]\n",
       " [       0       0       1     153       0       0       0       0       0       3       0]   97.452% \t[class: eiffel_tower]\n",
       " [       2       0       0       1     218       0       2       0       0       0       0]   97.758% \t[class: elephant]\n",
       " [       0       0       0       0       0      43       0       1       0       0       0]   97.727% \t[class: landscape]\n",
       " [       0       0       0       2       1       0     282       1       0       2       0]   97.917% \t[class: lion]\n",
       " [       2       0       0       0       0       0       4     207       0       1       1]   96.279% \t[class: monkey]\n",
       " [       0       0       0       1       0       0       0       2     160       0       1]   97.561% \t[class: people]\n",
       " [       0       1       0       0       0       0       1       0       0     150       1]   98.039% \t[class: tower]\n",
       " [       1       1       0       0       0       0       2       0       1       0     185]]  97.368% \t[class: water]\n",
       " + average row correct: 97.201745076613% \n",
       " + average rowUcol correct (VOC measure): 94.933571598747% \n",
       " + global correct: 97.313272434175%\n",
       "{\n",
       "  valids : FloatTensor - size: 11\n",
       "  mat : LongTensor - size: 11x11\n",
       "  averageUnionValid : 0.94933571598747\n",
       "  _targ_idx : LongTensor - empty\n",
       "  averageValid : 0.97201745076613\n",
       "  classes : \n",
       "    {\n",
       "      1 : bridge\n"
      ]
     },
     "execution_count": 25,
     "metadata": {},
     "output_type": "execute_result"
    },
    {
     "data": {
      "text/plain": [
       "      2 : building\n",
       "      3 : city\n",
       "      4 : eiffel_tower\n",
       "      5 : elephant\n",
       "      6 : landscape\n",
       "      7 : lion\n",
       "      8 : monkey\n",
       "      9 : people\n",
       "      10 : tower\n",
       "      11 : water\n",
       "    }\n",
       "  _prediction : FloatTensor - size: 11\n",
       "  _pred_idx : LongTensor - size: 1\n",
       "  nclasses : 11\n",
       "  _max : FloatTensor - size: 1\n",
       "  _target : FloatTensor - empty\n",
       "  unionvalids : FloatTensor - size: 11\n",
       "  totalValid : 0.97313272434175\n",
       "}\n",
       "<trainer> on testing Set:\t\n"
      ]
     },
     "execution_count": 25,
     "metadata": {},
     "output_type": "execute_result"
    },
    {
     "data": {
      "text/plain": [
       "ConfusionMatrix:\n",
       "[[       5       1       2       8       2       3       3       2       1       3       2]   15.625% \t[class: bridge]\n",
       " [       4       9       3       4       2       2       2       1       0       3       2]   28.125% \t[class: building]\n",
       " [       5       1       0       5       4       1       3       3       3       5       2]   0.000% \t[class: city]\n",
       " [       0       0       0      11       0       0       0       0       0       0       0]   100.000% \t[class: eiffel_tower]\n",
       " [       5       5       1       1       7       1       1       2       2       2       5]   21.875% \t[class: elephant]\n",
       " [       6       1       1       3       0       1       5       4       4       5       2]   3.125% \t[class: landscape]\n",
       " [       3       3       2       2       4       1       6       6       0       4       1]   18.750% \t[class: lion]\n",
       " [       5       2       2       3       2       1       3       6       2       2       4]   18.750% \t[class: monkey]\n",
       " [       3       3       0       2       1       0       4       4       5       6       4]   15.625% \t[class: people]\n",
       " [       4       3       0       9       2       1       3       2       1       5       2]   15.625% \t[class: tower]\n",
       " [       6       3       1       4       3       1       5       2       4       3       0]]  0.000% \t[class: water]\n",
       " + average row correct: 21.590909090909% \n",
       " + average rowUcol correct (VOC measure): 8.9576575227759% \n",
       " + global correct: 16.616314199396%\n",
       "{\n",
       "  valids : FloatTensor - size: 11\n",
       "  mat : LongTensor - size: 11x11\n",
       "  averageUnionValid : 0.089576575227759\n",
       "  _targ_idx : LongTensor - empty\n",
       "  averageValid : 0.21590909090909\n",
       "  classes : \n",
       "    {\n",
       "      1 : bridge\n",
       "      2 : building\n",
       "      3 : city\n",
       "      4 : eiffel_tower\n",
       "      5 : elephant\n",
       "      6 : landscape\n",
       "      7 : lion\n",
       "      8 : monkey\n",
       "      9 : people\n",
       "      10 : tower\n",
       "      11 : water\n",
       "    }\n",
       "  _prediction : FloatTensor - size: 11\n",
       "  _pred_idx : LongTensor - size: 1\n",
       "  nclasses : 11\n",
       "  _max : FloatTensor - size: 1\n",
       "  _target : FloatTensor - empty\n",
       "  unionvalids : FloatTensor - size: 11\n",
       "  totalValid : 0.16616314199396\n",
       "}\n",
       "<trainer> on training set:\t\n",
       "<trainer> online epoch # 28 [batchSize = 64]\t\n"
      ]
     },
     "execution_count": 25,
     "metadata": {},
     "output_type": "execute_result"
    },
    {
     "data": {
      "text/plain": [
       "ConfusionMatrix:\n",
       "[[     183       0       0       1       1       0       0       0       0       0       0]   98.919% \t[class: bridge]\n",
       " [       3     150       0       0       0       0       3       1       0       0       0]   95.541% \t[class: building]\n",
       " [       0       1      82       1       0       0       0       0       0       1       0]   96.471% \t[class: city]\n",
       " [       0       0       1     153       0       0       0       0       0       3       0]   97.452% \t[class: eiffel_tower]\n",
       " [       0       0       0       1     221       0       1       0       0       0       0]   99.103% \t[class: elephant]\n",
       " [       0       0       0       0       0      43       0       1       0       0       0]   97.727% \t[class: landscape]\n",
       " [       0       0       0       2       1       0     282       1       0       2       0]   97.917% \t[class: lion]\n",
       " [       2       0       0       0       0       0       4     207       0       1       1]   96.279% \t[class: monkey]\n",
       " [       0       0       0       1       0       0       0       0     162       0       1]   98.780% \t[class: people]\n",
       " [       0       1       0       0       0       0       1       0       0     150       1]   98.039% \t[class: tower]\n",
       " [       1       1       0       0       0       0       1       0       1       0     186]]  97.895% \t[class: water]\n",
       " + average row correct: 97.647611661391% \n",
       " + average rowUcol correct (VOC measure): 95.692250403491% \n",
       " + global correct: 97.743148844707%\n",
       "{\n",
       "  valids : FloatTensor - size: 11\n",
       "  mat : LongTensor - size: 11x11\n",
       "  averageUnionValid : 0.95692250403491\n",
       "  _targ_idx : LongTensor - empty\n",
       "  averageValid : 0.97647611661391\n",
       "  classes : \n",
       "    {\n",
       "      1 : bridge\n",
       "      2 : building\n",
       "      3 : city\n",
       "      4 : eiffel_tower\n",
       "      5 : elephant\n",
       "      6 : landscape\n",
       "      7 : lion\n",
       "      8 : monkey\n",
       "      9 : people\n",
       "      10 : tower\n",
       "      11 : water\n",
       "    }\n",
       "  _prediction : FloatTensor - size: 11\n",
       "  _pred_idx : LongTensor - size: 1\n",
       "  nclasses : 11\n",
       "  _max : FloatTensor - size: 1\n",
       "  _target : FloatTensor - empty\n",
       "  unionvalids : FloatTensor - size: 11\n",
       "  totalValid : 0.97743148844707\n",
       "}\n",
       "<trainer> on testing Set:\t\n"
      ]
     },
     "execution_count": 25,
     "metadata": {},
     "output_type": "execute_result"
    },
    {
     "data": {
      "text/plain": [
       "ConfusionMatrix:\n",
       "[[       5       1       2       8       2       3       3       2       1       3       2]   15.625% \t[class: bridge]\n",
       " [       4       9       3       3       2       2       2       2       0       3       2]   28.125% \t[class: building]\n",
       " [       5       1       0       5       4       1       3       3       3       5       2]   0.000% \t[class: city]\n",
       " [       0       0       0      11       0       0       0       0       0       0       0]   100.000% \t[class: eiffel_tower]\n",
       " [       4       6       1       1       7       1       1       2       2       2       5]   21.875% \t[class: elephant]\n",
       " [       6       1       1       3       0       1       5       4       4       5       2]   3.125% \t[class: landscape]\n",
       " [       3       3       2       3       4       1       5       6       0       4       1]   15.625% \t[class: lion]\n",
       " [       5       2       2       3       2       1       3       6       2       2       4]   18.750% \t[class: monkey]\n",
       " [       3       3       0       1       2       0       4       4       6       5       4]   18.750% \t[class: people]\n",
       " [       3       3       0       9       2       1       3       2       1       5       3]   15.625% \t[class: tower]\n",
       " [       6       3       1       4       3       1       5       2       4       3       0]]  0.000% \t[class: water]\n",
       " + average row correct: 21.590909090909% \n",
       " + average rowUcol correct (VOC measure): 8.9937505735592% \n",
       " + global correct: 16.616314199396%\n",
       "{\n",
       "  valids : FloatTensor - size: 11\n",
       "  mat : LongTensor - size: 11x11\n",
       "  averageUnionValid : 0.089937505735592\n",
       "  _targ_idx : LongTensor - empty\n",
       "  averageValid : 0.21590909090909\n",
       "  classes : \n",
       "    {\n",
       "      1 : bridge\n",
       "      2 : building\n",
       "      3 : city\n",
       "      4 : eiffel_tower\n",
       "      5 : elephant\n",
       "      6 : landscape\n",
       "      7 : lion\n",
       "      8 : monkey\n",
       "      9 : people\n",
       "      10 : tower\n",
       "      11 : water\n",
       "    }\n",
       "  _prediction : FloatTensor - size: 11\n",
       "  _pred_idx : LongTensor - size: 1\n",
       "  nclasses : 11\n",
       "  _max : FloatTensor - size: 1\n",
       "  _target : FloatTensor - empty\n",
       "  unionvalids : FloatTensor - size: 11\n",
       "  totalValid : 0.16616314199396\n",
       "}\n",
       "<trainer> on training set:\t\n",
       "<trainer> online epoch # 29 [batchSize = 64]\t\n"
      ]
     },
     "execution_count": 25,
     "metadata": {},
     "output_type": "execute_result"
    },
    {
     "data": {
      "text/plain": [
       "ConfusionMatrix:\n",
       "[[     183       0       0       1       1       0       0       0       0       0       0]   98.919% \t[class: bridge]\n",
       " [       2     151       0       0       0       0       3       1       0       0       0]   96.178% \t[class: building]\n",
       " [       0       1      82       1       0       0       0       0       0       1       0]   96.471% \t[class: city]\n",
       " [       0       0       1     153       0       0       0       0       0       3       0]   97.452% \t[class: eiffel_tower]\n",
       " [       0       0       0       1     221       0       1       0       0       0       0]   99.103% \t[class: elephant]\n",
       " [       0       0       0       0       0      43       0       1       0       0       0]   97.727% \t[class: landscape]\n",
       " [       0       0       0       2       1       0     282       1       0       2       0]   97.917% \t[class: lion]\n",
       " [       2       0       0       0       0       0       4     207       0       1       1]   96.279% \t[class: monkey]\n",
       " [       0       0       0       1       0       0       0       0     163       0       0]   99.390% \t[class: people]\n",
       " [       0       1       0       0       0       0       1       0       0     150       1]   98.039% \t[class: tower]\n",
       " [       0       1       0       0       0       0       0       0       1       0     188]]  98.947% \t[class: water]\n",
       " + average row correct: 97.856642441316% \n",
       " + average rowUcol correct (VOC measure): 96.065630154176% \n",
       " + global correct: 97.958087049973%\n",
       "{\n",
       "  valids : FloatTensor - size: 11\n",
       "  mat : LongTensor - size: 11x11\n",
       "  averageUnionValid : 0.96065630154176\n",
       "  _targ_idx : LongTensor - empty\n",
       "  averageValid : 0.97856642441316\n",
       "  classes : \n",
       "    {\n",
       "      1 : bridge\n",
       "      2 : building\n",
       "      3 : city\n",
       "      4 : eiffel_tower\n",
       "      5 : elephant\n",
       "      6 : landscape\n",
       "      7 : lion\n",
       "      8 : monkey\n",
       "      9 : people\n",
       "      10 : tower\n",
       "      11 : water\n",
       "    }\n",
       "  _prediction : FloatTensor - size: 11\n",
       "  _pred_idx : LongTensor - size: 1\n",
       "  nclasses : 11\n",
       "  _max : FloatTensor - size: 1\n",
       "  _target : FloatTensor - empty\n",
       "  unionvalids : FloatTensor - size: 11\n",
       "  totalValid : 0.97958087049973\n",
       "}\n",
       "<trainer> on testing Set:\t\n"
      ]
     },
     "execution_count": 25,
     "metadata": {},
     "output_type": "execute_result"
    },
    {
     "data": {
      "text/plain": [
       "ConfusionMatrix:\n",
       "[[       5       1       2       8       2       3       3       2       1       3       2]   15.625% \t[class: bridge]\n",
       " [       4       9       2       4       2       2       2       2       0       3       2]   28.125% \t[class: building]\n",
       " [       4       1       0       6       4       1       3       3       3       5       2]   0.000% \t[class: city]\n",
       " [       0       0       0      11       0       0       0       0       0       0       0]   100.000% \t[class: eiffel_tower]\n",
       " [       4       6       1       1       7       1       1       2       2       2       5]   21.875% \t[class: elephant]\n",
       " [       6       1       1       3       0       1       5       4       4       5       2]   3.125% \t[class: landscape]\n",
       " [       3       3       2       3       4       1       5       6       0       4       1]   15.625% \t[class: lion]\n",
       " [       5       2       2       3       2       1       3       6       2       2       4]   18.750% \t[class: monkey]\n",
       " [       4       2       0       1       2       0       4       5       6       4       4]   18.750% \t[class: people]\n",
       " [       3       3       0       9       2       1       3       2       1       5       3]   15.625% \t[class: tower]\n",
       " [       6       3       1       4       3       1       5       2       4       3       0]]  0.000% \t[class: water]\n",
       " + average row correct: 21.590909090909% \n",
       " + average rowUcol correct (VOC measure): 8.9431722394445% \n",
       " + global correct: 16.616314199396%\n",
       "{\n"
      ]
     },
     "execution_count": 25,
     "metadata": {},
     "output_type": "execute_result"
    },
    {
     "data": {
      "text/plain": [
       "  valids : FloatTensor - size: 11\n",
       "  mat : LongTensor - size: 11x11\n",
       "  averageUnionValid : 0.089431722394445\n",
       "  _targ_idx : LongTensor - empty\n",
       "  averageValid : 0.21590909090909\n",
       "  classes : \n",
       "    {\n",
       "      1 : bridge\n",
       "      2 : building\n",
       "      3 : city\n",
       "      4 : eiffel_tower\n",
       "      5 : elephant\n",
       "      6 : landscape\n",
       "      7 : lion\n",
       "      8 : monkey\n",
       "      9 : people\n",
       "      10 : tower\n",
       "      11 : water\n",
       "    }\n",
       "  _prediction : FloatTensor - size: 11\n",
       "  _pred_idx : LongTensor - size: 1\n",
       "  nclasses : 11\n",
       "  _max : FloatTensor - size: 1\n",
       "  _target : FloatTensor - empty\n",
       "  unionvalids : FloatTensor - size: 11\n",
       "  totalValid : 0.16616314199396\n",
       "}\n",
       "<trainer> on training set:\t\n",
       "<trainer> online epoch # 30 [batchSize = 64]\t\n"
      ]
     },
     "execution_count": 25,
     "metadata": {},
     "output_type": "execute_result"
    },
    {
     "data": {
      "text/plain": [
       "ConfusionMatrix:\n",
       "[[     183       0       0       1       1       0       0       0       0       0       0]   98.919% \t[class: bridge]\n",
       " [       2     151       0       0       0       0       3       1       0       0       0]   96.178% \t[class: building]\n",
       " [       0       1      83       0       0       0       0       0       0       1       0]   97.647% \t[class: city]\n",
       " [       0       0       1     153       0       0       0       0       0       3       0]   97.452% \t[class: eiffel_tower]\n",
       " [       0       0       0       1     221       0       1       0       0       0       0]   99.103% \t[class: elephant]\n",
       " [       0       0       0       0       0      44       0       0       0       0       0]   100.000% \t[class: landscape]\n",
       " [       0       0       0       1       1       0     283       1       0       2       0]   98.264% \t[class: lion]\n",
       " [       2       0       0       0       0       0       4     207       0       1       1]   96.279% \t[class: monkey]\n",
       " [       0       0       0       1       0       0       0       0     163       0       0]   99.390% \t[class: people]\n",
       " [       0       0       0       0       0       0       1       0       0     151       1]   98.693% \t[class: tower]\n",
       " [       0       1       0       0       0       0       0       0       1       0     188]]  98.947% \t[class: water]\n",
       " + average row correct: 98.261188918894% \n",
       " + average rowUcol correct (VOC measure): 96.665118499236% \n",
       " + global correct: 98.173025255239%\n",
       "{\n",
       "  valids : FloatTensor - size: 11\n",
       "  mat : LongTensor - size: 11x11\n",
       "  averageUnionValid : 0.96665118499236\n",
       "  _targ_idx : LongTensor - empty\n",
       "  averageValid : 0.98261188918894\n",
       "  classes : \n",
       "    {\n",
       "      1 : bridge\n",
       "      2 : building\n",
       "      3 : city\n",
       "      4 : eiffel_tower\n",
       "      5 : elephant\n",
       "      6 : landscape\n",
       "      7 : lion\n",
       "      8 : monkey\n",
       "      9 : people\n",
       "      10 : tower\n",
       "      11 : water\n",
       "    }\n",
       "  _prediction : FloatTensor - size: 11\n",
       "  _pred_idx : LongTensor - size: 1\n",
       "  nclasses : 11\n",
       "  _max : FloatTensor - size: 1\n",
       "  _target : FloatTensor - empty\n",
       "  unionvalids : FloatTensor - size: 11\n",
       "  totalValid : 0.98173025255239\n",
       "}\n",
       "<trainer> on testing Set:\t\n"
      ]
     },
     "execution_count": 25,
     "metadata": {},
     "output_type": "execute_result"
    },
    {
     "data": {
      "text/plain": [
       "ConfusionMatrix:\n",
       "[[       5       1       2       8       2       3       3       2       1       3       2]   15.625% \t[class: bridge]\n",
       " [       4       9       2       4       2       2       2       2       0       3       2]   28.125% \t[class: building]\n",
       " [       4       1       0       6       4       1       2       3       4       5       2]   0.000% \t[class: city]\n",
       " [       0       0       0      11       0       0       0       0       0       0       0]   100.000% \t[class: eiffel_tower]\n",
       " [       4       6       1       1       7       1       1       2       2       2       5]   21.875% \t[class: elephant]\n",
       " [       7       1       1       2       0       1       5       4       4       5       2]   3.125% \t[class: landscape]\n",
       " [       3       3       2       3       4       1       5       6       0       4       1]   15.625% \t[class: lion]\n",
       " [       5       2       2       3       2       1       3       6       2       2       4]   18.750% \t[class: monkey]\n",
       " [       4       2       0       1       2       0       4       5       6       4       4]   18.750% \t[class: people]\n",
       " [       3       3       0       9       2       1       3       2       1       5       3]   15.625% \t[class: tower]\n",
       " [       5       3       1       4       3       1       5       2       4       3       1]]  3.125% \t[class: water]\n",
       " + average row correct: 21.875% \n",
       " + average rowUcol correct (VOC measure): 9.1291021555662% \n",
       " + global correct: 16.918429003021%\n",
       "{\n",
       "  valids : FloatTensor - size: 11\n",
       "  mat : LongTensor - size: 11x11\n",
       "  averageUnionValid : 0.091291021555662\n",
       "  _targ_idx : LongTensor - empty\n",
       "  averageValid : 0.21875\n",
       "  classes : \n",
       "    {\n",
       "      1 : bridge\n",
       "      2 : building\n",
       "      3 : city\n",
       "      4 : eiffel_tower\n",
       "      5 : elephant\n",
       "      6 : landscape\n",
       "      7 : lion\n",
       "      8 : monkey\n",
       "      9 : people\n",
       "      10 : tower\n",
       "      11 : water\n",
       "    }\n",
       "  _prediction : FloatTensor - size: 11\n",
       "  _pred_idx : LongTensor - size: 1\n",
       "  nclasses : 11\n",
       "  _max : FloatTensor - size: 1\n",
       "  _target : FloatTensor - empty\n",
       "  unionvalids : FloatTensor - size: 11\n",
       "  totalValid : 0.16918429003021\n",
       "}\n",
       "{\n",
       "  1 : 1\n",
       "  2 : 2\n",
       "  3 : 3\n",
       "  4 : 4\n",
       "  5 : 5\n",
       "  6 : 6\n",
       "  7 : 7\n",
       "  8 : 8\n",
       "  9 : 9\n",
       "  10 : 10\n",
       "  11 : 11\n",
       "  12 : 12\n",
       "  13 : 13\n",
       "  14 : 14\n",
       "  15 : 15\n",
       "  16 : 16\n",
       "  17 : 17\n",
       "  18 : 18\n",
       "  19 : 19\n",
       "  20 : 20\n",
       "  21 : 21\n",
       "  22 : 22\n",
       "  23 : 23\n",
       "  24 : 24\n",
       "  25 : 25\n",
       "  26 : 26\n",
       "  27 : 27\n",
       "  28 : 28\n",
       "  29 : 29\n",
       "  30 : 30\n",
       "}\n"
      ]
     },
     "execution_count": 25,
     "metadata": {},
     "output_type": "execute_result"
    }
   ],
   "source": [
    "evaluationsTest={}\n",
    "evaluations={}\n",
    "i=0\n",
    "while i<10 do\n",
    "    train(trainData)\n",
    "    test(testData)\n",
    "    i=i+1\n",
    "end\n",
    "print(times)"
   ]
  },
  {
   "cell_type": "code",
   "execution_count": 26,
   "metadata": {
    "collapsed": false
   },
   "outputs": [
    {
     "data": {
      "text/plain": [
       "TrainSet :\t{\n",
       "  1 : 94.813684983687\n",
       "  2 : 95.624486966567\n",
       "  3 : 96.187143434178\n",
       "  4 : 96.592594818635\n",
       "  5 : 96.894767067649\n",
       "  6 : 97.101558338512\n",
       "  7 : 97.201745076613\n",
       "  8 : 97.647611661391\n",
       "  9 : 97.856642441316\n",
       "  10 : 98.261188918894\n",
       "}\n",
       "TestSet :\t{\n",
       "  1 : 21.306818181818\n",
       "  2 : 21.306818181818\n",
       "  3 : 21.306818181818\n",
       "  4 : 21.306818181818\n",
       "  5 : 21.306818181818\n",
       "  6 : 21.590909090909\n",
       "  7 : 21.590909090909\n",
       "  8 : 21.590909090909\n",
       "  9 : 21.590909090909\n",
       "  10 : 21.875\n",
       "}\n"
      ]
     },
     "execution_count": 26,
     "metadata": {},
     "output_type": "execute_result"
    }
   ],
   "source": [
    "for i=1,#evaluations do\n",
    "  evaluations[i]=evaluations[i]*100\n",
    "  evaluationsTest[i]=evaluationsTest[i]*100\n",
    "end\n",
    "print('TrainSet :',evaluations)\n",
    "print('TestSet :',evaluationsTest)"
   ]
  },
  {
   "cell_type": "code",
   "execution_count": 28,
   "metadata": {
    "collapsed": false
   },
   "outputs": [],
   "source": [
    "require 'gnuplot'\n",
    "\n",
    "--gnuplot.figure(1)\n",
    "--gnuplot.title('SGD loss minimisation over time')\n",
    "--gnuplot.plot(sgdtime, sgdevaluations)"
   ]
  },
  {
   "cell_type": "code",
   "execution_count": null,
   "metadata": {
    "collapsed": true
   },
   "outputs": [],
   "source": []
  }
 ],
 "metadata": {
  "kernelspec": {
   "display_name": "iTorch",
   "language": "lua",
   "name": "itorch"
  },
  "language_info": {
   "name": "lua",
   "version": "5.1"
  }
 },
 "nbformat": 4,
 "nbformat_minor": 0
}
