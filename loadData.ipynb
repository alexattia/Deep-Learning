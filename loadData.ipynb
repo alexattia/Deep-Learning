{
 "cells": [
  {
   "cell_type": "markdown",
   "metadata": {},
   "source": [
    "### Loading Data\n",
    "Dan Constantini, Tom Hayat et Alexandre Attia\n",
    "This script loads 11 data class from imagenet and sort the files according to their name"
   ]
  },
  {
   "cell_type": "code",
   "execution_count": 32,
   "metadata": {
    "collapsed": false,
    "scrolled": true
   },
   "outputs": [
    {
     "data": {
      "text/plain": [
       "dossier : \t1\t\n",
       "185\t\n"
      ]
     },
     "execution_count": 32,
     "metadata": {},
     "output_type": "execute_result"
    },
    {
     "data": {
      "text/plain": [
       "dossier : \t1\t\n",
       "185\t\n",
       "dossier : \t1\t\n",
       "185\t\n",
       "dossier : \t1\t\n",
       "185\t\n",
       "dossier : \t1\t\n",
       "185\t\n",
       "dossier : \t1\t\n",
       "185\t\n"
      ]
     },
     "execution_count": 32,
     "metadata": {},
     "output_type": "execute_result"
    },
    {
     "data": {
      "text/plain": [
       "dossier : \t1\t\n",
       "185\t\n",
       "dossier : \t1\t\n",
       "185\t\n",
       "dossier : \t1\t\n",
       "185\t\n",
       "dossier : \t1\t\n",
       "185\t\n"
      ]
     },
     "execution_count": 32,
     "metadata": {},
     "output_type": "execute_result"
    },
    {
     "data": {
      "text/plain": [
       "dossier : \t1\t\n",
       "185\t\n",
       "dossier : \t1\t\n",
       "185\t\n",
       "dossier : \t1\t\n",
       "185\t\n",
       "dossier : \t1\t\n",
       "185\t\n"
      ]
     },
     "execution_count": 32,
     "metadata": {},
     "output_type": "execute_result"
    },
    {
     "data": {
      "text/plain": [
       "dossier : \t1\t\n",
       "185\t\n",
       "dossier : \t1\t\n",
       "185\t\n",
       "dossier : \t1\t\n",
       "185\t\n",
       "dossier : \t1\t\n",
       "185\t\n"
      ]
     },
     "execution_count": 32,
     "metadata": {},
     "output_type": "execute_result"
    },
    {
     "data": {
      "text/plain": [
       "dossier : \t1\t\n",
       "185\t\n",
       "dossier : \t1\t\n",
       "185\t\n",
       "dossier : \t1\t\n",
       "185\t\n",
       "dossier : \t1\t\n",
       "185\t\n"
      ]
     },
     "execution_count": 32,
     "metadata": {},
     "output_type": "execute_result"
    },
    {
     "data": {
      "text/plain": [
       "dossier : \t1\t\n",
       "185\t\n",
       "dossier : \t1\t\n",
       "185\t\n",
       "dossier : \t1\t\n",
       "185\t\n",
       "dossier : \t1\t\n",
       "185\t\n",
       "dossier : \t1\t\n",
       "185\t\n"
      ]
     },
     "execution_count": 32,
     "metadata": {},
     "output_type": "execute_result"
    },
    {
     "data": {
      "text/plain": [
       "dossier : \t1\t\n",
       "185\t\n",
       "dossier : \t1\t\n",
       "185\t\n",
       "dossier : \t1\t\n",
       "185\t\n",
       "dossier : \t1\t\n",
       "185\t\n"
      ]
     },
     "execution_count": 32,
     "metadata": {},
     "output_type": "execute_result"
    },
    {
     "data": {
      "text/plain": [
       "dossier : \t1\t\n",
       "185\t\n",
       "dossier : \t1\t\n",
       "185\t\n",
       "dossier : \t1\t\n",
       "185\t\n",
       "dossier : \t1\t\n",
       "185\t\n",
       "dossier : \t1\t\n",
       "185\t\n"
      ]
     },
     "execution_count": 32,
     "metadata": {},
     "output_type": "execute_result"
    },
    {
     "data": {
      "text/plain": [
       "dossier : \t1\t\n",
       "185\t\n",
       "dossier : \t1\t\n",
       "185\t\n",
       "dossier : \t1\t\n",
       "185\t\n",
       "dossier : \t1\t\n",
       "185\t\n",
       "dossier : \t1\t"
      ]
     },
     "execution_count": 32,
     "metadata": {},
     "output_type": "execute_result"
    },
    {
     "data": {
      "text/plain": [
       "\n",
       "185\t\n",
       "dossier : \t1\t\n",
       "185\t\n",
       "dossier : \t1\t\n",
       "185\t\n",
       "dossier : \t1\t\n",
       "185\t\n",
       "dossier : \t1\t\n",
       "185\t\n",
       "dossier : \t"
      ]
     },
     "execution_count": 32,
     "metadata": {},
     "output_type": "execute_result"
    },
    {
     "data": {
      "text/plain": [
       "1\t\n",
       "185\t\n",
       "dossier : \t1\t\n",
       "185\t\n",
       "dossier : \t1\t\n",
       "185\t\n",
       "dossier : \t1\t\n",
       "185\t\n",
       "dossier : \t1\t\n",
       "185\t\n"
      ]
     },
     "execution_count": 32,
     "metadata": {},
     "output_type": "execute_result"
    },
    {
     "data": {
      "text/plain": [
       "dossier : \t1\t\n",
       "185\t\n",
       "dossier : \t1\t\n",
       "185\t\n",
       "dossier : \t1\t\n",
       "185\t\n",
       "dossier : \t1\t\n",
       "185\t\n",
       "dossier : \t1\t\n",
       "185\t\n"
      ]
     },
     "execution_count": 32,
     "metadata": {},
     "output_type": "execute_result"
    },
    {
     "data": {
      "text/plain": [
       "dossier : \t1\t\n",
       "185\t\n",
       "dossier : \t1\t\n",
       "185\t\n",
       "dossier : \t1\t\n",
       "185\t\n"
      ]
     },
     "execution_count": 32,
     "metadata": {},
     "output_type": "execute_result"
    },
    {
     "data": {
      "text/plain": [
       "dossier : \t1\t\n",
       "185\t\n",
       "dossier : \t1\t\n",
       "185\t\n",
       "dossier : \t1\t\n",
       "185\t\n",
       "dossier : \t1\t\n",
       "185\t\n",
       "dossier : \t1\t\n",
       "185\t\n",
       "dossier : \t1\t\n"
      ]
     },
     "execution_count": 32,
     "metadata": {},
     "output_type": "execute_result"
    },
    {
     "data": {
      "text/plain": [
       "185\t\n",
       "dossier : \t1\t\n",
       "185\t\n",
       "dossier : \t1\t\n",
       "185\t\n",
       "dossier : \t1\t\n",
       "185\t\n",
       "dossier : \t1\t\n",
       "185\t\n"
      ]
     },
     "execution_count": 32,
     "metadata": {},
     "output_type": "execute_result"
    },
    {
     "data": {
      "text/plain": [
       "dossier : \t1\t\n",
       "185\t\n",
       "dossier : \t1\t\n",
       "185\t\n",
       "dossier : \t1\t\n",
       "185\t\n"
      ]
     },
     "execution_count": 32,
     "metadata": {},
     "output_type": "execute_result"
    },
    {
     "data": {
      "text/plain": [
       "dossier : \t1\t\n",
       "185\t\n",
       "dossier : \t1\t\n",
       "185\t\n"
      ]
     },
     "execution_count": 32,
     "metadata": {},
     "output_type": "execute_result"
    },
    {
     "data": {
      "text/plain": [
       "dossier : \t1\t\n",
       "185\t\n",
       "dossier : \t1\t\n",
       "185\t\n",
       "dossier : \t1\t\n",
       "185\t\n"
      ]
     },
     "execution_count": 32,
     "metadata": {},
     "output_type": "execute_result"
    },
    {
     "data": {
      "text/plain": [
       "dossier : \t1\t\n",
       "185\t\n",
       "dossier : \t1\t\n",
       "185\t\n",
       "dossier : \t1\t\n",
       "185\t\n",
       "dossier : \t1\t\n",
       "185\t\n"
      ]
     },
     "execution_count": 32,
     "metadata": {},
     "output_type": "execute_result"
    },
    {
     "data": {
      "text/plain": [
       "dossier : \t1\t\n",
       "185\t\n",
       "dossier : \t1\t\n",
       "185\t\n",
       "dossier : \t1\t\n",
       "185\t\n",
       "dossier : \t1\t"
      ]
     },
     "execution_count": 32,
     "metadata": {},
     "output_type": "execute_result"
    },
    {
     "data": {
      "text/plain": [
       "\n",
       "185\t\n",
       "dossier : \t1\t\n",
       "185\t\n",
       "dossier : \t1\t\n",
       "185\t\n"
      ]
     },
     "execution_count": 32,
     "metadata": {},
     "output_type": "execute_result"
    },
    {
     "data": {
      "text/plain": [
       "dossier : \t1\t\n",
       "185\t\n",
       "dossier : \t1\t\n",
       "185\t\n",
       "dossier : \t1\t\n",
       "185\t\n"
      ]
     },
     "execution_count": 32,
     "metadata": {},
     "output_type": "execute_result"
    },
    {
     "data": {
      "text/plain": [
       "dossier : \t1\t\n",
       "185\t\n",
       "dossier : \t1\t\n",
       "185\t\n",
       "dossier : \t1\t\n",
       "185\t\n"
      ]
     },
     "execution_count": 32,
     "metadata": {},
     "output_type": "execute_result"
    },
    {
     "data": {
      "text/plain": [
       "dossier : \t1\t\n",
       "185\t\n",
       "dossier : \t1\t\n",
       "185\t\n",
       "dossier : \t1\t\n",
       "185\t\n",
       "dossier : \t1\t\n",
       "185\t\n"
      ]
     },
     "execution_count": 32,
     "metadata": {},
     "output_type": "execute_result"
    },
    {
     "data": {
      "text/plain": [
       "dossier : \t1\t\n",
       "185\t\n",
       "dossier : \t1\t\n",
       "185\t\n",
       "dossier : \t1\t\n",
       "185\t\n"
      ]
     },
     "execution_count": 32,
     "metadata": {},
     "output_type": "execute_result"
    },
    {
     "data": {
      "text/plain": [
       "dossier : \t1\t\n",
       "185\t\n",
       "dossier : \t1\t\n",
       "185\t\n",
       "dossier : \t1\t\n",
       "185\t\n"
      ]
     },
     "execution_count": 32,
     "metadata": {},
     "output_type": "execute_result"
    },
    {
     "data": {
      "text/plain": [
       "dossier : \t1\t\n",
       "185\t\n",
       "dossier : \t1\t\n",
       "185\t\n"
      ]
     },
     "execution_count": 32,
     "metadata": {},
     "output_type": "execute_result"
    },
    {
     "data": {
      "text/plain": [
       "dossier : \t1\t\n",
       "185\t\n",
       "dossier : \t1\t\n",
       "185\t\n",
       "dossier : \t1\t\n",
       "185\t\n"
      ]
     },
     "execution_count": 32,
     "metadata": {},
     "output_type": "execute_result"
    },
    {
     "data": {
      "text/plain": [
       "dossier : \t1\t\n",
       "185\t\n",
       "dossier : \t1\t\n",
       "185\t\n",
       "dossier : \t1\t\n",
       "185\t\n",
       "dossier : \t1\t\n",
       "185\t\n"
      ]
     },
     "execution_count": 32,
     "metadata": {},
     "output_type": "execute_result"
    },
    {
     "data": {
      "text/plain": [
       "dossier : \t1\t\n",
       "185\t\n",
       "dossier : \t1\t\n",
       "185\t\n",
       "dossier : \t1\t\n",
       "185\t\n"
      ]
     },
     "execution_count": 32,
     "metadata": {},
     "output_type": "execute_result"
    },
    {
     "data": {
      "text/plain": [
       "dossier : \t1\t\n",
       "185\t\n",
       "dossier : \t1\t\n",
       "185\t\n",
       "dossier : \t1\t\n",
       "185\t\n"
      ]
     },
     "execution_count": 32,
     "metadata": {},
     "output_type": "execute_result"
    },
    {
     "data": {
      "text/plain": [
       "dossier : \t1\t\n",
       "185\t\n",
       "dossier : \t1\t\n",
       "185\t\n",
       "dossier : \t1\t\n",
       "185\t\n"
      ]
     },
     "execution_count": 32,
     "metadata": {},
     "output_type": "execute_result"
    },
    {
     "data": {
      "text/plain": [
       "dossier : \t1\t\n",
       "185\t\n",
       "dossier : \t1\t\n",
       "185\t\n",
       "dossier : \t1\t\n",
       "185\t\n",
       "dossier : \t1\t\n",
       "185\t\n"
      ]
     },
     "execution_count": 32,
     "metadata": {},
     "output_type": "execute_result"
    },
    {
     "data": {
      "text/plain": [
       "dossier : \t1\t\n",
       "185\t\n",
       "dossier : \t1\t\n",
       "185\t\n",
       "dossier : \t1\t\n",
       "185\t\n"
      ]
     },
     "execution_count": 32,
     "metadata": {},
     "output_type": "execute_result"
    },
    {
     "data": {
      "text/plain": [
       "dossier : \t1\t\n",
       "185\t\n",
       "dossier : \t1\t\n",
       "185\t\n",
       "dossier : \t1\t\n",
       "185\t\n",
       "dossier : \t1\t\n",
       "185\t\n"
      ]
     },
     "execution_count": 32,
     "metadata": {},
     "output_type": "execute_result"
    },
    {
     "data": {
      "text/plain": [
       "dossier : \t1\t\n",
       "185\t\n",
       "dossier : \t1\t\n",
       "185\t\n",
       "dossier : \t1\t\n",
       "185\t\n"
      ]
     },
     "execution_count": 32,
     "metadata": {},
     "output_type": "execute_result"
    },
    {
     "data": {
      "text/plain": [
       "dossier : \t1\t\n",
       "185\t\n",
       "dossier : \t1\t\n",
       "185\t\n",
       "dossier : \t1\t\n",
       "185\t\n",
       "dossier : \t1\t\n",
       "185\t\n"
      ]
     },
     "execution_count": 32,
     "metadata": {},
     "output_type": "execute_result"
    },
    {
     "data": {
      "text/plain": [
       "dossier : \t1\t\n",
       "185\t\n",
       "dossier : \t1\t\n",
       "185\t\n",
       "dossier : \t1\t\n",
       "185\t\n"
      ]
     },
     "execution_count": 32,
     "metadata": {},
     "output_type": "execute_result"
    },
    {
     "data": {
      "text/plain": [
       "dossier : \t1\t\n",
       "185\t\n",
       "dossier : \t1\t\n",
       "185\t\n",
       "dossier : \t1\t\n",
       "185\t\n"
      ]
     },
     "execution_count": 32,
     "metadata": {},
     "output_type": "execute_result"
    },
    {
     "data": {
      "text/plain": [
       "dossier : \t1\t\n",
       "185\t\n",
       "dossier : \t1\t\n",
       "185\t\n",
       "dossier : \t1\t\n",
       "185\t\n",
       "dossier : \t1\t\n",
       "185\t\n"
      ]
     },
     "execution_count": 32,
     "metadata": {},
     "output_type": "execute_result"
    },
    {
     "data": {
      "text/plain": [
       "dossier : \t1\t\n",
       "185\t\n",
       "dossier : \t1\t\n",
       "185\t\n",
       "dossier : \t1\t\n",
       "185\t\n"
      ]
     },
     "execution_count": 32,
     "metadata": {},
     "output_type": "execute_result"
    },
    {
     "data": {
      "text/plain": [
       "dossier : \t1\t\n",
       "185\t\n",
       "dossier : \t1\t\n",
       "185\t\n",
       "dossier : \t1\t\n",
       "185\t\n"
      ]
     },
     "execution_count": 32,
     "metadata": {},
     "output_type": "execute_result"
    },
    {
     "data": {
      "text/plain": [
       "dossier : \t1\t\n",
       "185\t\n",
       "dossier : \t1\t\n",
       "185\t\n",
       "dossier : \t1\t\n",
       "185\t\n",
       "dossier : \t"
      ]
     },
     "execution_count": 32,
     "metadata": {},
     "output_type": "execute_result"
    },
    {
     "data": {
      "text/plain": [
       "1\t\n",
       "185\t\n",
       "dossier : \t1\t\n",
       "185\t\n",
       "dossier : \t1\t\n",
       "185\t\n",
       "dossier : \t1\t\n",
       "185\t\n",
       "dossier : \t1\t\n",
       "185\t\n"
      ]
     },
     "execution_count": 32,
     "metadata": {},
     "output_type": "execute_result"
    },
    {
     "data": {
      "text/plain": [
       "dossier : \t1\t\n",
       "185\t\n",
       "dossier : \t1\t\n",
       "185\t\n",
       "dossier : \t1\t\n",
       "185\t\n"
      ]
     },
     "execution_count": 32,
     "metadata": {},
     "output_type": "execute_result"
    },
    {
     "data": {
      "text/plain": [
       "dossier : \t1\t\n",
       "185\t\n",
       "dossier : \t1\t\n",
       "185\t\n",
       "dossier : \t1\t\n",
       "185\t\n",
       "dossier : \t"
      ]
     },
     "execution_count": 32,
     "metadata": {},
     "output_type": "execute_result"
    },
    {
     "data": {
      "text/plain": [
       "1\t\n",
       "185\t\n",
       "dossier : \t1\t\n",
       "185\t\n",
       "dossier : \t1\t\n",
       "185\t\n",
       "dossier : \t1\t\n",
       "185\t\n"
      ]
     },
     "execution_count": 32,
     "metadata": {},
     "output_type": "execute_result"
    },
    {
     "data": {
      "text/plain": [
       "dossier : \t1\t\n",
       "185\t\n",
       "dossier : \t1\t\n",
       "185\t\n",
       "dossier : \t1\t\n",
       "185\t\n",
       "dossier : \t1\t\n",
       "185\t\n"
      ]
     },
     "execution_count": 32,
     "metadata": {},
     "output_type": "execute_result"
    },
    {
     "data": {
      "text/plain": [
       "dossier : \t1\t\n",
       "185\t\n",
       "dossier : \t1\t\n",
       "185\t\n",
       "dossier : \t1\t\n",
       "185\t\n"
      ]
     },
     "execution_count": 32,
     "metadata": {},
     "output_type": "execute_result"
    },
    {
     "data": {
      "text/plain": [
       "dossier : \t1\t\n",
       "185\t\n",
       "dossier : \t1\t\n",
       "185\t\n"
      ]
     },
     "execution_count": 32,
     "metadata": {},
     "output_type": "execute_result"
    },
    {
     "data": {
      "text/plain": [
       "dossier : \t1\t\n",
       "185\t\n",
       "dossier : \t1\t\n",
       "185\t\n",
       "dossier : \t1\t\n",
       "185\t\n"
      ]
     },
     "execution_count": 32,
     "metadata": {},
     "output_type": "execute_result"
    },
    {
     "data": {
      "text/plain": [
       "dossier : \t1\t\n",
       "185\t\n"
      ]
     },
     "execution_count": 32,
     "metadata": {},
     "output_type": "execute_result"
    },
    {
     "data": {
      "text/plain": [
       "dossier : \t2\t\n",
       "157\t\n",
       "dossier : \t2\t\n",
       "157\t\n",
       "dossier : \t2\t\n",
       "157\t\n",
       "dossier : \t2\t\n",
       "157\t\n",
       "dossier : \t2\t\n",
       "157\t\n"
      ]
     },
     "execution_count": 32,
     "metadata": {},
     "output_type": "execute_result"
    },
    {
     "data": {
      "text/plain": [
       "dossier : \t2\t\n",
       "157\t\n",
       "dossier : \t2\t\n",
       "157\t\n",
       "dossier : \t2\t\n",
       "157\t\n",
       "dossier : \t2\t\n",
       "157\t\n"
      ]
     },
     "execution_count": 32,
     "metadata": {},
     "output_type": "execute_result"
    },
    {
     "data": {
      "text/plain": [
       "dossier : \t2\t\n",
       "157\t\n",
       "dossier : \t2\t\n",
       "157\t\n",
       "dossier : \t2\t\n",
       "157\t\n",
       "dossier : \t2\t\n",
       "157\t\n",
       "dossier : \t2\t\n",
       "157\t\n"
      ]
     },
     "execution_count": 32,
     "metadata": {},
     "output_type": "execute_result"
    },
    {
     "data": {
      "text/plain": [
       "dossier : \t2\t\n",
       "157\t\n",
       "dossier : \t2\t\n",
       "157\t\n",
       "dossier : \t2\t\n",
       "157\t\n",
       "dossier : \t2\t\n",
       "157\t\n",
       "dossier : \t"
      ]
     },
     "execution_count": 32,
     "metadata": {},
     "output_type": "execute_result"
    },
    {
     "data": {
      "text/plain": [
       "2\t\n",
       "157\t\n",
       "dossier : \t2\t\n",
       "157\t\n",
       "dossier : \t2\t\n",
       "157\t\n",
       "dossier : \t2\t\n",
       "157\t\n",
       "dossier : \t2\t\n",
       "157\t\n"
      ]
     },
     "execution_count": 32,
     "metadata": {},
     "output_type": "execute_result"
    },
    {
     "data": {
      "text/plain": [
       "dossier : \t2\t\n",
       "157\t\n",
       "dossier : \t2\t\n",
       "157\t\n",
       "dossier : \t2\t\n",
       "157\t\n",
       "dossier : \t2\t\n",
       "157\t\n"
      ]
     },
     "execution_count": 32,
     "metadata": {},
     "output_type": "execute_result"
    },
    {
     "data": {
      "text/plain": [
       "dossier : \t2\t\n",
       "157\t\n",
       "dossier : \t2\t\n",
       "157\t\n",
       "dossier : \t2\t\n",
       "157\t\n",
       "dossier : \t2\t\n",
       "157\t\n",
       "dossier : \t2\t\n",
       "157\t\n"
      ]
     },
     "execution_count": 32,
     "metadata": {},
     "output_type": "execute_result"
    },
    {
     "data": {
      "text/plain": [
       "dossier : \t2\t\n",
       "157\t\n",
       "dossier : \t2\t\n",
       "157\t\n",
       "dossier : \t2\t\n",
       "157\t\n",
       "dossier : \t2\t\n",
       "157\t\n",
       "dossier : \t2\t\n",
       "157\t\n",
       "dossier : \t2\t\n",
       "157\t\n"
      ]
     },
     "execution_count": 32,
     "metadata": {},
     "output_type": "execute_result"
    },
    {
     "data": {
      "text/plain": [
       "dossier : \t2\t\n",
       "157\t\n",
       "dossier : \t2\t\n",
       "157\t\n",
       "dossier : \t2\t\n",
       "157\t\n",
       "dossier : \t2\t\n",
       "157\t\n"
      ]
     },
     "execution_count": 32,
     "metadata": {},
     "output_type": "execute_result"
    },
    {
     "data": {
      "text/plain": [
       "dossier : \t"
      ]
     },
     "execution_count": 32,
     "metadata": {},
     "output_type": "execute_result"
    },
    {
     "data": {
      "text/plain": [
       "2\t\n",
       "157\t\n",
       "dossier : \t2\t\n",
       "157\t\n",
       "dossier : \t2\t\n",
       "157\t\n",
       "dossier : \t2\t\n",
       "157\t\n",
       "dossier : \t2\t\n",
       "157\t\n"
      ]
     },
     "execution_count": 32,
     "metadata": {},
     "output_type": "execute_result"
    },
    {
     "data": {
      "text/plain": [
       "dossier : \t2\t\n",
       "157\t\n",
       "dossier : \t2\t\n",
       "157\t\n",
       "dossier : \t2\t\n",
       "157\t\n",
       "dossier : \t2\t\n",
       "157\t\n",
       "dossier : \t2\t\n",
       "157\t\n",
       "dossier : \t2\t\n",
       "157\t\n"
      ]
     },
     "execution_count": 32,
     "metadata": {},
     "output_type": "execute_result"
    },
    {
     "data": {
      "text/plain": [
       "dossier : \t2\t\n",
       "157\t\n",
       "dossier : \t2\t\n",
       "157\t\n",
       "dossier : \t2\t\n",
       "157\t\n",
       "dossier : \t2\t\n",
       "157\t\n",
       "dossier : \t2\t\n",
       "157\t\n"
      ]
     },
     "execution_count": 32,
     "metadata": {},
     "output_type": "execute_result"
    },
    {
     "data": {
      "text/plain": [
       "dossier : \t2\t\n",
       "157\t\n",
       "dossier : \t2\t\n",
       "157\t\n",
       "dossier : \t2\t\n",
       "157\t\n",
       "dossier : \t2\t\n",
       "157\t\n",
       "dossier : \t2\t\n",
       "157\t\n"
      ]
     },
     "execution_count": 32,
     "metadata": {},
     "output_type": "execute_result"
    },
    {
     "data": {
      "text/plain": [
       "dossier : \t2\t\n",
       "157\t\n",
       "dossier : \t2\t\n",
       "157\t\n",
       "dossier : \t2\t\n",
       "157\t\n",
       "dossier : \t2\t\n",
       "157\t\n"
      ]
     },
     "execution_count": 32,
     "metadata": {},
     "output_type": "execute_result"
    },
    {
     "data": {
      "text/plain": [
       "dossier : \t2\t\n",
       "157\t\n",
       "dossier : \t2\t\n",
       "157\t\n",
       "dossier : \t2\t\n",
       "157\t\n",
       "dossier : \t2\t\n",
       "157\t\n"
      ]
     },
     "execution_count": 32,
     "metadata": {},
     "output_type": "execute_result"
    },
    {
     "data": {
      "text/plain": [
       "dossier : \t2\t\n",
       "157\t\n",
       "dossier : \t2\t\n",
       "157\t\n",
       "dossier : \t2\t\n",
       "157\t\n"
      ]
     },
     "execution_count": 32,
     "metadata": {},
     "output_type": "execute_result"
    },
    {
     "data": {
      "text/plain": [
       "dossier : \t2\t\n",
       "157\t\n",
       "dossier : \t2\t\n",
       "157\t\n",
       "dossier : \t2\t\n",
       "157\t\n",
       "dossier : \t2\t\n",
       "157\t\n"
      ]
     },
     "execution_count": 32,
     "metadata": {},
     "output_type": "execute_result"
    },
    {
     "data": {
      "text/plain": [
       "dossier : \t2\t\n",
       "157\t\n",
       "dossier : \t2\t\n",
       "157\t\n",
       "dossier : \t2\t\n",
       "157\t\n",
       "dossier : \t2\t\n",
       "157\t\n"
      ]
     },
     "execution_count": 32,
     "metadata": {},
     "output_type": "execute_result"
    },
    {
     "data": {
      "text/plain": [
       "dossier : \t2\t\n",
       "157\t\n",
       "dossier : \t2\t\n",
       "157\t\n",
       "dossier : \t2\t\n",
       "157\t\n"
      ]
     },
     "execution_count": 32,
     "metadata": {},
     "output_type": "execute_result"
    },
    {
     "data": {
      "text/plain": [
       "dossier : \t2\t\n",
       "157\t\n",
       "dossier : \t2\t\n",
       "157\t\n",
       "dossier : \t2\t\n",
       "157\t\n",
       "dossier : \t2\t\n",
       "157\t\n"
      ]
     },
     "execution_count": 32,
     "metadata": {},
     "output_type": "execute_result"
    },
    {
     "data": {
      "text/plain": [
       "dossier : \t2\t\n",
       "157\t\n",
       "dossier : \t2\t\n",
       "157\t\n",
       "dossier : \t2\t\n",
       "157\t\n",
       "dossier : \t2\t\n",
       "157\t\n"
      ]
     },
     "execution_count": 32,
     "metadata": {},
     "output_type": "execute_result"
    },
    {
     "data": {
      "text/plain": [
       "dossier : \t2\t\n",
       "157\t\n",
       "dossier : \t2\t\n",
       "157\t\n",
       "dossier : \t2\t\n",
       "157\t\n",
       "dossier : \t2\t\n",
       "157\t\n"
      ]
     },
     "execution_count": 32,
     "metadata": {},
     "output_type": "execute_result"
    },
    {
     "data": {
      "text/plain": [
       "dossier : \t2\t\n",
       "157\t\n",
       "dossier : \t2\t\n",
       "157\t\n",
       "dossier : \t2\t\n",
       "157\t\n",
       "dossier : \t2\t\n",
       "157\t\n"
      ]
     },
     "execution_count": 32,
     "metadata": {},
     "output_type": "execute_result"
    },
    {
     "data": {
      "text/plain": [
       "dossier : \t2\t\n",
       "157\t\n",
       "dossier : \t2\t\n",
       "157\t\n",
       "dossier : \t2\t\n",
       "157\t\n"
      ]
     },
     "execution_count": 32,
     "metadata": {},
     "output_type": "execute_result"
    },
    {
     "data": {
      "text/plain": [
       "dossier : \t2\t\n",
       "157\t\n",
       "dossier : \t2\t\n",
       "157\t\n",
       "dossier : \t"
      ]
     },
     "execution_count": 32,
     "metadata": {},
     "output_type": "execute_result"
    },
    {
     "data": {
      "text/plain": [
       "2\t\n",
       "157\t\n",
       "dossier : \t2\t\n",
       "157\t\n",
       "dossier : \t2\t\n",
       "157\t\n"
      ]
     },
     "execution_count": 32,
     "metadata": {},
     "output_type": "execute_result"
    },
    {
     "data": {
      "text/plain": [
       "dossier : \t2\t\n",
       "157\t\n",
       "dossier : \t2\t\n",
       "157\t\n",
       "dossier : \t2\t\n",
       "157\t\n"
      ]
     },
     "execution_count": 32,
     "metadata": {},
     "output_type": "execute_result"
    },
    {
     "data": {
      "text/plain": [
       "dossier : \t2\t\n",
       "157\t\n",
       "dossier : \t2\t\n",
       "157\t\n"
      ]
     },
     "execution_count": 32,
     "metadata": {},
     "output_type": "execute_result"
    },
    {
     "data": {
      "text/plain": [
       "dossier : \t2\t\n",
       "157\t\n",
       "dossier : \t2\t\n",
       "157\t\n"
      ]
     },
     "execution_count": 32,
     "metadata": {},
     "output_type": "execute_result"
    },
    {
     "data": {
      "text/plain": [
       "dossier : \t2\t\n",
       "157\t\n",
       "dossier : \t2\t\n",
       "157\t\n",
       "dossier : \t2\t\n",
       "157\t\n"
      ]
     },
     "execution_count": 32,
     "metadata": {},
     "output_type": "execute_result"
    },
    {
     "data": {
      "text/plain": [
       "dossier : \t2\t\n",
       "157\t\n",
       "dossier : \t2\t\n",
       "157\t\n"
      ]
     },
     "execution_count": 32,
     "metadata": {},
     "output_type": "execute_result"
    },
    {
     "data": {
      "text/plain": [
       "dossier : \t2\t\n",
       "157\t\n",
       "dossier : \t2\t\n",
       "157\t\n",
       "dossier : \t2\t\n",
       "157\t\n",
       "dossier : \t2\t\n",
       "157\t\n"
      ]
     },
     "execution_count": 32,
     "metadata": {},
     "output_type": "execute_result"
    },
    {
     "data": {
      "text/plain": [
       "dossier : \t2\t\n",
       "157\t\n",
       "dossier : \t2\t\n",
       "157\t\n",
       "dossier : \t2\t\n",
       "157\t\n",
       "dossier : \t2\t\n",
       "157\t\n",
       "dossier : \t2\t\n",
       "157\t\n"
      ]
     },
     "execution_count": 32,
     "metadata": {},
     "output_type": "execute_result"
    },
    {
     "data": {
      "text/plain": [
       "dossier : \t2\t\n",
       "157\t\n",
       "dossier : \t2\t\n",
       "157\t\n",
       "dossier : \t2\t\n",
       "157\t\n",
       "dossier : \t2\t\n",
       "157\t\n"
      ]
     },
     "execution_count": 32,
     "metadata": {},
     "output_type": "execute_result"
    },
    {
     "data": {
      "text/plain": [
       "dossier : \t2\t\n",
       "157\t\n",
       "dossier : \t2\t\n",
       "157\t\n",
       "dossier : \t2\t\n",
       "157\t\n",
       "dossier : \t2\t\n",
       "157\t\n"
      ]
     },
     "execution_count": 32,
     "metadata": {},
     "output_type": "execute_result"
    },
    {
     "data": {
      "text/plain": [
       "dossier : \t2\t\n",
       "157\t\n",
       "dossier : \t2\t\n",
       "157\t\n",
       "dossier : \t2\t\n",
       "157\t\n",
       "dossier : \t2\t\n",
       "157\t\n",
       "dossier : \t2\t\n",
       "157\t\n"
      ]
     },
     "execution_count": 32,
     "metadata": {},
     "output_type": "execute_result"
    },
    {
     "data": {
      "text/plain": [
       "dossier : \t2\t\n",
       "157\t\n",
       "dossier : \t2\t\n",
       "157\t\n",
       "dossier : \t2\t\n",
       "157\t\n",
       "dossier : \t2\t\n",
       "157\t\n",
       "dossier : \t2\t\n",
       "157\t\n",
       "dossier : \t2\t\n",
       "157\t\n"
      ]
     },
     "execution_count": 32,
     "metadata": {},
     "output_type": "execute_result"
    },
    {
     "data": {
      "text/plain": [
       "dossier : \t2\t\n",
       "157\t\n",
       "dossier : \t2\t\n",
       "157\t\n",
       "dossier : \t2\t\n",
       "157\t\n",
       "dossier : \t2\t\n",
       "157\t\n"
      ]
     },
     "execution_count": 32,
     "metadata": {},
     "output_type": "execute_result"
    },
    {
     "data": {
      "text/plain": [
       "dossier : \t2\t\n",
       "157\t\n",
       "dossier : \t2\t\n",
       "157\t\n",
       "dossier : \t2\t\n",
       "157\t\n"
      ]
     },
     "execution_count": 32,
     "metadata": {},
     "output_type": "execute_result"
    },
    {
     "data": {
      "text/plain": [
       "dossier : \t2\t\n",
       "157\t\n"
      ]
     },
     "execution_count": 32,
     "metadata": {},
     "output_type": "execute_result"
    },
    {
     "data": {
      "text/plain": [
       "dossier : \t3\t\n",
       "85\t\n"
      ]
     },
     "execution_count": 32,
     "metadata": {},
     "output_type": "execute_result"
    },
    {
     "data": {
      "text/plain": [
       "dossier : \t3\t\n",
       "85\t\n",
       "dossier : \t3\t\n",
       "85\t\n",
       "dossier : \t3\t\n",
       "85\t\n",
       "dossier : \t3\t\n",
       "85\t\n"
      ]
     },
     "execution_count": 32,
     "metadata": {},
     "output_type": "execute_result"
    },
    {
     "data": {
      "text/plain": [
       "dossier : \t3\t\n",
       "85\t\n",
       "dossier : \t3\t\n",
       "85\t\n",
       "dossier : \t3\t\n",
       "85\t\n",
       "dossier : \t3\t\n",
       "85\t\n",
       "dossier : \t3\t\n",
       "85\t\n"
      ]
     },
     "execution_count": 32,
     "metadata": {},
     "output_type": "execute_result"
    },
    {
     "data": {
      "text/plain": [
       "dossier : \t3\t\n",
       "85\t\n",
       "dossier : \t3\t\n",
       "85\t\n",
       "dossier : \t3\t\n",
       "85\t\n",
       "dossier : \t3\t\n",
       "85\t\n"
      ]
     },
     "execution_count": 32,
     "metadata": {},
     "output_type": "execute_result"
    },
    {
     "data": {
      "text/plain": [
       "dossier : \t3\t\n",
       "85\t\n",
       "dossier : \t3\t\n",
       "85\t\n",
       "dossier : \t3\t\n",
       "85\t\n",
       "dossier : \t3\t\n",
       "85\t\n",
       "dossier : \t3\t\n",
       "85\t\n"
      ]
     },
     "execution_count": 32,
     "metadata": {},
     "output_type": "execute_result"
    },
    {
     "data": {
      "text/plain": [
       "dossier : \t3\t\n",
       "85\t\n",
       "dossier : \t3\t\n",
       "85\t\n",
       "dossier : \t3\t\n",
       "85\t\n",
       "dossier : \t3\t\n",
       "85\t\n",
       "dossier : \t3\t\n",
       "85\t\n"
      ]
     },
     "execution_count": 32,
     "metadata": {},
     "output_type": "execute_result"
    },
    {
     "data": {
      "text/plain": [
       "dossier : \t3\t\n",
       "85\t\n",
       "dossier : \t3\t\n",
       "85\t\n",
       "dossier : \t3\t\n",
       "85\t\n",
       "dossier : \t3\t\n",
       "85\t\n",
       "dossier : \t3\t\n",
       "85\t\n"
      ]
     },
     "execution_count": 32,
     "metadata": {},
     "output_type": "execute_result"
    },
    {
     "data": {
      "text/plain": [
       "dossier : \t3\t\n",
       "85\t\n",
       "dossier : \t3\t\n",
       "85\t\n",
       "dossier : \t3\t\n",
       "85\t\n",
       "dossier : \t3\t\n",
       "85\t\n",
       "dossier : \t3\t\n",
       "85\t\n"
      ]
     },
     "execution_count": 32,
     "metadata": {},
     "output_type": "execute_result"
    },
    {
     "data": {
      "text/plain": [
       "dossier : \t3\t\n",
       "85\t\n",
       "dossier : \t3\t\n",
       "85\t\n",
       "dossier : \t3\t\n",
       "85\t\n",
       "dossier : \t3\t\n",
       "85\t\n",
       "dossier : \t3\t\n",
       "85\t\n"
      ]
     },
     "execution_count": 32,
     "metadata": {},
     "output_type": "execute_result"
    },
    {
     "data": {
      "text/plain": [
       "dossier : \t3\t\n",
       "85\t\n",
       "dossier : \t3\t\n",
       "85\t\n",
       "dossier : \t3\t\n",
       "85\t\n",
       "dossier : \t3\t\n",
       "85\t\n",
       "dossier : \t3\t\n",
       "85\t\n"
      ]
     },
     "execution_count": 32,
     "metadata": {},
     "output_type": "execute_result"
    },
    {
     "data": {
      "text/plain": [
       "dossier : \t3\t\n",
       "85\t\n",
       "dossier : \t3\t\n",
       "85\t\n",
       "dossier : \t3\t\n",
       "85\t\n",
       "dossier : \t3\t\n",
       "85\t\n",
       "dossier : \t3\t\n",
       "85\t\n"
      ]
     },
     "execution_count": 32,
     "metadata": {},
     "output_type": "execute_result"
    },
    {
     "data": {
      "text/plain": [
       "dossier : \t3\t\n",
       "85\t\n",
       "dossier : \t3\t\n",
       "85\t\n",
       "dossier : \t3\t\n",
       "85\t\n",
       "dossier : \t3\t\n",
       "85\t\n"
      ]
     },
     "execution_count": 32,
     "metadata": {},
     "output_type": "execute_result"
    },
    {
     "data": {
      "text/plain": [
       "dossier : \t3\t\n",
       "85\t\n",
       "dossier : \t3\t\n",
       "85\t\n",
       "dossier : \t3\t\n",
       "85\t\n",
       "dossier : \t3\t\n",
       "85\t\n",
       "dossier : \t3\t\n",
       "85\t\n"
      ]
     },
     "execution_count": 32,
     "metadata": {},
     "output_type": "execute_result"
    },
    {
     "data": {
      "text/plain": [
       "dossier : \t3\t\n",
       "85\t\n",
       "dossier : \t3\t\n",
       "85\t\n",
       "dossier : \t3\t\n",
       "85\t\n"
      ]
     },
     "execution_count": 32,
     "metadata": {},
     "output_type": "execute_result"
    },
    {
     "data": {
      "text/plain": [
       "dossier : \t3\t\n",
       "85\t\n",
       "dossier : \t3\t\n",
       "85\t\n",
       "dossier : \t3\t\n",
       "85\t\n",
       "dossier : \t3\t\n"
      ]
     },
     "execution_count": 32,
     "metadata": {},
     "output_type": "execute_result"
    },
    {
     "data": {
      "text/plain": [
       "85\t\n",
       "dossier : \t3\t\n",
       "85\t\n",
       "dossier : \t3\t\n",
       "85\t\n",
       "dossier : \t3\t\n",
       "85\t\n"
      ]
     },
     "execution_count": 32,
     "metadata": {},
     "output_type": "execute_result"
    },
    {
     "data": {
      "text/plain": [
       "dossier : \t3\t\n",
       "85\t\n",
       "dossier : \t3\t\n",
       "85\t\n",
       "dossier : \t3\t\n",
       "85\t\n",
       "dossier : \t3\t\n",
       "85\t\n"
      ]
     },
     "execution_count": 32,
     "metadata": {},
     "output_type": "execute_result"
    },
    {
     "data": {
      "text/plain": [
       "dossier : \t3\t\n",
       "85\t\n",
       "dossier : \t3\t\n",
       "85\t\n",
       "dossier : \t3\t\n",
       "85\t\n",
       "dossier : \t3\t\n",
       "85\t\n",
       "dossier : \t3\t\n",
       "85\t\n"
      ]
     },
     "execution_count": 32,
     "metadata": {},
     "output_type": "execute_result"
    },
    {
     "data": {
      "text/plain": [
       "dossier : \t3\t\n",
       "85\t\n",
       "dossier : \t3\t\n",
       "85\t\n",
       "dossier : \t3\t\n",
       "85\t\n",
       "dossier : \t3\t\n",
       "85\t\n"
      ]
     },
     "execution_count": 32,
     "metadata": {},
     "output_type": "execute_result"
    },
    {
     "data": {
      "text/plain": [
       "dossier : \t3\t\n",
       "85\t\n",
       "dossier : \t3\t\n",
       "85\t\n"
      ]
     },
     "execution_count": 32,
     "metadata": {},
     "output_type": "execute_result"
    },
    {
     "data": {
      "text/plain": [
       "dossier : \t3\t\n",
       "85\t\n",
       "dossier : \t3\t\n",
       "85\t\n"
      ]
     },
     "execution_count": 32,
     "metadata": {},
     "output_type": "execute_result"
    },
    {
     "data": {
      "text/plain": [
       "dossier : \t4\t\n",
       "17\t\n"
      ]
     },
     "execution_count": 32,
     "metadata": {},
     "output_type": "execute_result"
    },
    {
     "data": {
      "text/plain": [
       "dossier : \t4\t\n",
       "17\t\n",
       "dossier : \t4\t\n",
       "17\t\n"
      ]
     },
     "execution_count": 32,
     "metadata": {},
     "output_type": "execute_result"
    },
    {
     "data": {
      "text/plain": [
       "dossier : \t4\t\n",
       "17\t\n",
       "dossier : \t4\t\n",
       "17\t\n"
      ]
     },
     "execution_count": 32,
     "metadata": {},
     "output_type": "execute_result"
    },
    {
     "data": {
      "text/plain": [
       "dossier : \t4\t\n",
       "17\t\n",
       "dossier : \t4\t\n",
       "17\t\n",
       "dossier : \t4\t\n",
       "17\t\n"
      ]
     },
     "execution_count": 32,
     "metadata": {},
     "output_type": "execute_result"
    },
    {
     "data": {
      "text/plain": [
       "dossier : \t4\t\n",
       "17\t\n",
       "dossier : \t4\t\n",
       "17\t\n",
       "dossier : \t4\t\n",
       "17\t\n",
       "dossier : \t4\t\n",
       "17\t\n"
      ]
     },
     "execution_count": 32,
     "metadata": {},
     "output_type": "execute_result"
    },
    {
     "data": {
      "text/plain": [
       "dossier : \t4\t\n",
       "17\t\n",
       "dossier : \t4\t\n",
       "17\t\n",
       "dossier : \t4\t\n",
       "17\t\n",
       "dossier : \t4\t\n",
       "17\t\n",
       "dossier : \t4\t\n",
       "17\t\n"
      ]
     },
     "execution_count": 32,
     "metadata": {},
     "output_type": "execute_result"
    },
    {
     "data": {
      "text/plain": [
       "dossier : \t5\t\n",
       "223\t\n",
       "dossier : \t5\t\n",
       "223\t\n",
       "dossier : \t5\t\n",
       "223\t\n",
       "dossier : \t5\t\n",
       "223\t\n"
      ]
     },
     "execution_count": 32,
     "metadata": {},
     "output_type": "execute_result"
    },
    {
     "data": {
      "text/plain": [
       "dossier : \t5\t\n",
       "223\t\n",
       "dossier : \t5\t\n",
       "223\t\n",
       "dossier : \t5\t\n",
       "223\t\n",
       "dossier : \t5\t\n",
       "223\t\n"
      ]
     },
     "execution_count": 32,
     "metadata": {},
     "output_type": "execute_result"
    },
    {
     "data": {
      "text/plain": [
       "dossier : \t5\t\n",
       "223\t\n",
       "dossier : \t5\t\n",
       "223\t\n",
       "dossier : \t5\t\n",
       "223\t\n"
      ]
     },
     "execution_count": 32,
     "metadata": {},
     "output_type": "execute_result"
    },
    {
     "data": {
      "text/plain": [
       "dossier : \t5\t\n",
       "223\t\n",
       "dossier : \t5\t\n",
       "223\t\n",
       "dossier : \t5\t\n",
       "223\t\n",
       "dossier : \t5\t\n",
       "223\t\n"
      ]
     },
     "execution_count": 32,
     "metadata": {},
     "output_type": "execute_result"
    },
    {
     "data": {
      "text/plain": [
       "dossier : \t5\t\n",
       "223\t\n",
       "dossier : \t5\t\n",
       "223\t\n",
       "dossier : \t5\t\n",
       "223\t\n"
      ]
     },
     "execution_count": 32,
     "metadata": {},
     "output_type": "execute_result"
    },
    {
     "data": {
      "text/plain": [
       "dossier : \t5\t\n",
       "223\t\n",
       "dossier : \t5\t\n",
       "223\t\n",
       "dossier : \t5\t\n",
       "223\t\n",
       "dossier : \t5\t\n",
       "223\t\n"
      ]
     },
     "execution_count": 32,
     "metadata": {},
     "output_type": "execute_result"
    },
    {
     "data": {
      "text/plain": [
       "dossier : \t5\t\n",
       "223\t\n",
       "dossier : \t5\t\n",
       "223\t\n"
      ]
     },
     "execution_count": 32,
     "metadata": {},
     "output_type": "execute_result"
    },
    {
     "data": {
      "text/plain": [
       "dossier : \t5\t\n",
       "223\t\n",
       "dossier : \t5\t\n",
       "223\t\n",
       "dossier : \t5\t\n",
       "223\t\n",
       "dossier : \t5\t\n",
       "223\t\n",
       "dossier : \t5\t\n",
       "223\t\n"
      ]
     },
     "execution_count": 32,
     "metadata": {},
     "output_type": "execute_result"
    },
    {
     "data": {
      "text/plain": [
       "dossier : \t5\t\n",
       "223\t\n",
       "dossier : \t5\t\n",
       "223\t\n",
       "dossier : \t5\t\n",
       "223\t\n",
       "dossier : \t5\t\n",
       "223\t\n",
       "dossier : \t5\t\n",
       "223\t\n"
      ]
     },
     "execution_count": 32,
     "metadata": {},
     "output_type": "execute_result"
    },
    {
     "data": {
      "text/plain": [
       "dossier : \t5\t\n",
       "223\t\n",
       "dossier : \t5\t\n",
       "223\t\n",
       "dossier : \t5\t\n",
       "223\t\n",
       "dossier : \t5\t\n",
       "223\t\n",
       "dossier : \t5\t\n",
       "223\t\n"
      ]
     },
     "execution_count": 32,
     "metadata": {},
     "output_type": "execute_result"
    },
    {
     "data": {
      "text/plain": [
       "dossier : \t5\t\n",
       "223\t\n",
       "dossier : \t5\t\n",
       "223\t\n",
       "dossier : \t5\t\n",
       "223\t\n",
       "dossier : \t5\t\n",
       "223\t\n",
       "dossier : \t5\t\n",
       "223\t\n"
      ]
     },
     "execution_count": 32,
     "metadata": {},
     "output_type": "execute_result"
    },
    {
     "data": {
      "text/plain": [
       "dossier : \t5\t\n",
       "223\t\n",
       "dossier : \t5\t\n",
       "223\t\n",
       "dossier : \t5\t\n",
       "223\t\n",
       "dossier : \t5\t\n",
       "223\t\n",
       "dossier : \t5\t\n",
       "223\t\n"
      ]
     },
     "execution_count": 32,
     "metadata": {},
     "output_type": "execute_result"
    },
    {
     "data": {
      "text/plain": [
       "dossier : \t5\t\n",
       "223\t\n",
       "dossier : \t5\t\n",
       "223\t\n",
       "dossier : \t5\t\n",
       "223\t\n",
       "dossier : \t5\t\n",
       "223\t\n",
       "dossier : \t5\t\n",
       "223\t\n"
      ]
     },
     "execution_count": 32,
     "metadata": {},
     "output_type": "execute_result"
    },
    {
     "data": {
      "text/plain": [
       "dossier : \t5\t\n",
       "223\t\n",
       "dossier : \t5\t\n",
       "223\t\n",
       "dossier : \t5\t\n",
       "223\t\n",
       "dossier : \t5\t\n",
       "223\t\n",
       "dossier : \t5\t\n",
       "223\t\n"
      ]
     },
     "execution_count": 32,
     "metadata": {},
     "output_type": "execute_result"
    },
    {
     "data": {
      "text/plain": [
       "dossier : \t5\t\n",
       "223\t\n",
       "dossier : \t5\t\n",
       "223\t\n",
       "dossier : \t5\t\n",
       "223\t\n",
       "dossier : \t5\t\n",
       "223\t\n",
       "dossier : \t5\t\n",
       "223\t\n"
      ]
     },
     "execution_count": 32,
     "metadata": {},
     "output_type": "execute_result"
    },
    {
     "data": {
      "text/plain": [
       "dossier : \t5\t\n",
       "223\t\n",
       "dossier : \t5\t\n",
       "223\t\n",
       "dossier : \t5\t\n",
       "223\t\n",
       "dossier : \t5\t\n",
       "223\t\n",
       "dossier : \t5\t\n",
       "223\t\n"
      ]
     },
     "execution_count": 32,
     "metadata": {},
     "output_type": "execute_result"
    },
    {
     "data": {
      "text/plain": [
       "dossier : \t5\t\n",
       "223\t\n",
       "dossier : \t5\t\n",
       "223\t\n",
       "dossier : \t5\t\n",
       "223\t\n",
       "dossier : \t5\t\n",
       "223\t\n",
       "dossier : \t5\t\n",
       "223\t\n"
      ]
     },
     "execution_count": 32,
     "metadata": {},
     "output_type": "execute_result"
    },
    {
     "data": {
      "text/plain": [
       "dossier : \t5\t\n",
       "223\t\n",
       "dossier : \t5\t\n",
       "223\t\n",
       "dossier : \t5\t\n",
       "223\t\n",
       "dossier : \t5\t\n",
       "223\t\n"
      ]
     },
     "execution_count": 32,
     "metadata": {},
     "output_type": "execute_result"
    },
    {
     "data": {
      "text/plain": [
       "dossier : \t5\t\n",
       "223\t\n",
       "dossier : \t5\t\n",
       "223\t\n",
       "dossier : \t5\t\n",
       "223\t\n",
       "dossier : \t5\t\n",
       "223\t\n",
       "dossier : \t5\t\n",
       "223\t\n"
      ]
     },
     "execution_count": 32,
     "metadata": {},
     "output_type": "execute_result"
    },
    {
     "data": {
      "text/plain": [
       "dossier : \t5\t\n",
       "223\t\n",
       "dossier : \t5\t\n",
       "223\t\n",
       "dossier : \t5\t\n",
       "223\t\n",
       "dossier : \t5\t\n",
       "223\t\n"
      ]
     },
     "execution_count": 32,
     "metadata": {},
     "output_type": "execute_result"
    },
    {
     "data": {
      "text/plain": [
       "dossier : \t5\t\n",
       "223\t\n",
       "dossier : \t5\t\n",
       "223\t\n",
       "dossier : \t5\t\n",
       "223\t\n",
       "dossier : \t5\t\n",
       "223\t\n",
       "dossier : \t5\t\n",
       "223\t\n"
      ]
     },
     "execution_count": 32,
     "metadata": {},
     "output_type": "execute_result"
    },
    {
     "data": {
      "text/plain": [
       "dossier : \t5\t\n",
       "223\t\n",
       "dossier : \t5\t\n",
       "223\t\n",
       "dossier : \t5\t\n",
       "223\t\n",
       "dossier : \t5\t\n",
       "223\t\n"
      ]
     },
     "execution_count": 32,
     "metadata": {},
     "output_type": "execute_result"
    },
    {
     "data": {
      "text/plain": [
       "dossier : \t5\t\n",
       "223\t\n",
       "dossier : \t5\t\n",
       "223\t\n",
       "dossier : \t5\t\n",
       "223\t\n",
       "dossier : \t5\t\n",
       "223\t\n",
       "dossier : \t5\t\n",
       "223\t\n",
       "dossier : \t5\t\n",
       "223\t\n"
      ]
     },
     "execution_count": 32,
     "metadata": {},
     "output_type": "execute_result"
    },
    {
     "data": {
      "text/plain": [
       "dossier : \t5\t\n",
       "223\t\n",
       "dossier : \t5\t\n",
       "223\t\n",
       "dossier : \t5\t\n",
       "223\t\n"
      ]
     },
     "execution_count": 32,
     "metadata": {},
     "output_type": "execute_result"
    },
    {
     "data": {
      "text/plain": [
       "dossier : \t5\t\n",
       "223\t\n",
       "dossier : \t5\t\n",
       "223\t\n",
       "dossier : \t5\t\n",
       "223\t\n",
       "dossier : \t5\t\n",
       "223\t\n",
       "dossier : \t5\t\n",
       "223\t\n",
       "dossier : \t5\t\n",
       "223\t\n"
      ]
     },
     "execution_count": 32,
     "metadata": {},
     "output_type": "execute_result"
    },
    {
     "data": {
      "text/plain": [
       "dossier : \t5\t\n",
       "223\t\n",
       "dossier : \t5\t\n",
       "223\t\n",
       "dossier : \t5\t\n",
       "223\t\n",
       "dossier : \t5\t\n",
       "223\t\n",
       "dossier : \t5\t\n",
       "223\t\n"
      ]
     },
     "execution_count": 32,
     "metadata": {},
     "output_type": "execute_result"
    },
    {
     "data": {
      "text/plain": [
       "dossier : \t5\t\n",
       "223\t\n",
       "dossier : \t5\t\n",
       "223\t\n",
       "dossier : \t5\t\n",
       "223\t\n"
      ]
     },
     "execution_count": 32,
     "metadata": {},
     "output_type": "execute_result"
    },
    {
     "data": {
      "text/plain": [
       "dossier : \t5\t\n",
       "223\t\n",
       "dossier : \t5\t\n",
       "223\t\n",
       "dossier : \t5\t\n",
       "223\t\n",
       "dossier : \t5\t\n",
       "223\t\n",
       "dossier : \t5\t\n",
       "223\t\n",
       "dossier : \t5\t\n",
       "223\t\n"
      ]
     },
     "execution_count": 32,
     "metadata": {},
     "output_type": "execute_result"
    },
    {
     "data": {
      "text/plain": [
       "dossier : \t5\t\n",
       "223\t\n",
       "dossier : \t5\t\n",
       "223\t\n",
       "dossier : \t5\t\n",
       "223\t\n",
       "dossier : \t5\t\n",
       "223\t\n"
      ]
     },
     "execution_count": 32,
     "metadata": {},
     "output_type": "execute_result"
    },
    {
     "data": {
      "text/plain": [
       "dossier : \t5\t\n",
       "223\t\n",
       "dossier : \t5\t\n",
       "223\t\n",
       "dossier : \t5\t\n",
       "223\t\n",
       "dossier : \t5\t\n",
       "223\t\n"
      ]
     },
     "execution_count": 32,
     "metadata": {},
     "output_type": "execute_result"
    },
    {
     "data": {
      "text/plain": [
       "dossier : \t5\t\n",
       "223\t\n",
       "dossier : \t5\t\n",
       "223\t\n"
      ]
     },
     "execution_count": 32,
     "metadata": {},
     "output_type": "execute_result"
    },
    {
     "data": {
      "text/plain": [
       "dossier : \t5\t\n",
       "223\t\n",
       "dossier : \t5\t\n",
       "223\t\n",
       "dossier : \t5\t\n",
       "223\t\n",
       "dossier : \t5\t\n",
       "223\t\n",
       "dossier : \t5\t\n",
       "223\t\n"
      ]
     },
     "execution_count": 32,
     "metadata": {},
     "output_type": "execute_result"
    },
    {
     "data": {
      "text/plain": [
       "dossier : \t5\t\n",
       "223\t\n",
       "dossier : \t5\t\n",
       "223\t\n",
       "dossier : \t5\t\n",
       "223\t\n",
       "dossier : \t5\t\n",
       "223\t\n"
      ]
     },
     "execution_count": 32,
     "metadata": {},
     "output_type": "execute_result"
    },
    {
     "data": {
      "text/plain": [
       "dossier : \t5\t\n",
       "223\t\n",
       "dossier : \t5\t\n",
       "223\t\n",
       "dossier : \t5\t\n",
       "223\t\n",
       "dossier : \t5\t\n",
       "223\t\n",
       "dossier : \t5\t\n",
       "223\t\n",
       "dossier : \t5\t\n",
       "223\t\n"
      ]
     },
     "execution_count": 32,
     "metadata": {},
     "output_type": "execute_result"
    },
    {
     "data": {
      "text/plain": [
       "dossier : \t5\t\n",
       "223\t\n",
       "dossier : \t5\t\n",
       "223\t\n",
       "dossier : \t5\t\n",
       "223\t\n",
       "dossier : \t5\t\n",
       "223\t\n"
      ]
     },
     "execution_count": 32,
     "metadata": {},
     "output_type": "execute_result"
    },
    {
     "data": {
      "text/plain": [
       "dossier : \t5\t\n",
       "223\t\n",
       "dossier : \t5\t\n",
       "223\t\n",
       "dossier : \t5\t\n",
       "223\t\n"
      ]
     },
     "execution_count": 32,
     "metadata": {},
     "output_type": "execute_result"
    },
    {
     "data": {
      "text/plain": [
       "dossier : \t5\t\n",
       "223\t\n",
       "dossier : \t5\t\n",
       "223\t\n",
       "dossier : \t5\t\n",
       "223\t\n"
      ]
     },
     "execution_count": 32,
     "metadata": {},
     "output_type": "execute_result"
    },
    {
     "data": {
      "text/plain": [
       "dossier : \t5\t\n",
       "223\t\n",
       "dossier : \t5\t\n",
       "223\t\n",
       "dossier : \t5\t\n",
       "223\t\n",
       "dossier : \t5\t\n",
       "223\t\n"
      ]
     },
     "execution_count": 32,
     "metadata": {},
     "output_type": "execute_result"
    },
    {
     "data": {
      "text/plain": [
       "dossier : \t5\t\n",
       "223\t\n",
       "dossier : \t5\t\n",
       "223\t\n",
       "dossier : \t5\t\n",
       "223\t\n",
       "dossier : \t5\t\n",
       "223\t\n",
       "dossier : \t5\t\n",
       "223\t\n",
       "dossier : \t5\t\n",
       "223\t\n"
      ]
     },
     "execution_count": 32,
     "metadata": {},
     "output_type": "execute_result"
    },
    {
     "data": {
      "text/plain": [
       "dossier : \t5\t\n",
       "223\t\n",
       "dossier : \t5\t\n",
       "223\t\n",
       "dossier : \t5\t\n",
       "223\t\n",
       "dossier : \t5\t\n",
       "223\t\n",
       "dossier : \t5\t\n",
       "223\t\n"
      ]
     },
     "execution_count": 32,
     "metadata": {},
     "output_type": "execute_result"
    },
    {
     "data": {
      "text/plain": [
       "dossier : \t5\t\n",
       "223\t\n",
       "dossier : \t5\t\n",
       "223\t\n",
       "dossier : \t5\t\n",
       "223\t\n",
       "dossier : \t5\t\n",
       "223\t\n",
       "dossier : \t5\t\n",
       "223\t\n"
      ]
     },
     "execution_count": 32,
     "metadata": {},
     "output_type": "execute_result"
    },
    {
     "data": {
      "text/plain": [
       "dossier : \t5\t\n",
       "223\t\n",
       "dossier : \t5\t\n",
       "223\t\n",
       "dossier : \t5\t\n",
       "223\t\n",
       "dossier : \t5\t\n",
       "223\t\n"
      ]
     },
     "execution_count": 32,
     "metadata": {},
     "output_type": "execute_result"
    },
    {
     "data": {
      "text/plain": [
       "dossier : \t5\t\n",
       "223\t\n",
       "dossier : \t5\t\n",
       "223\t\n",
       "dossier : \t5\t\n",
       "223\t\n",
       "dossier : \t5\t"
      ]
     },
     "execution_count": 32,
     "metadata": {},
     "output_type": "execute_result"
    },
    {
     "data": {
      "text/plain": [
       "\n",
       "223\t\n",
       "dossier : \t5\t\n",
       "223\t\n",
       "dossier : \t5\t\n",
       "223\t\n",
       "dossier : \t5\t\n",
       "223\t\n",
       "dossier : \t5\t\n",
       "223\t\n"
      ]
     },
     "execution_count": 32,
     "metadata": {},
     "output_type": "execute_result"
    },
    {
     "data": {
      "text/plain": [
       "dossier : \t5\t\n",
       "223\t\n",
       "dossier : \t5\t\n",
       "223\t\n",
       "dossier : \t5\t\n",
       "223\t\n",
       "dossier : \t5\t\n",
       "223\t\n",
       "dossier : \t5\t\n",
       "223\t\n"
      ]
     },
     "execution_count": 32,
     "metadata": {},
     "output_type": "execute_result"
    },
    {
     "data": {
      "text/plain": [
       "dossier : \t5\t\n",
       "223\t\n",
       "dossier : \t5\t\n",
       "223\t\n",
       "dossier : \t5\t\n",
       "223\t\n",
       "dossier : \t5\t\n",
       "223\t\n",
       "dossier : \t5\t\n",
       "223\t\n"
      ]
     },
     "execution_count": 32,
     "metadata": {},
     "output_type": "execute_result"
    },
    {
     "data": {
      "text/plain": [
       "dossier : \t5\t\n",
       "223\t\n",
       "dossier : \t5\t\n",
       "223\t\n",
       "dossier : \t5\t\n",
       "223\t\n",
       "dossier : \t5\t\n",
       "223\t\n"
      ]
     },
     "execution_count": 32,
     "metadata": {},
     "output_type": "execute_result"
    },
    {
     "data": {
      "text/plain": [
       "dossier : \t5\t\n",
       "223\t\n",
       "dossier : \t5\t\n",
       "223\t\n",
       "dossier : \t5\t\n",
       "223\t\n",
       "dossier : \t5\t\n",
       "223\t\n"
      ]
     },
     "execution_count": 32,
     "metadata": {},
     "output_type": "execute_result"
    },
    {
     "data": {
      "text/plain": [
       "dossier : \t5\t\n",
       "223\t\n",
       "dossier : \t5\t\n",
       "223\t\n"
      ]
     },
     "execution_count": 32,
     "metadata": {},
     "output_type": "execute_result"
    },
    {
     "data": {
      "text/plain": [
       "dossier : \t5\t\n",
       "223\t\n",
       "dossier : \t5\t\n",
       "223\t\n",
       "dossier : \t5\t\n",
       "223\t\n",
       "dossier : \t5\t\n",
       "223\t\n",
       "dossier : \t5\t\n",
       "223\t\n"
      ]
     },
     "execution_count": 32,
     "metadata": {},
     "output_type": "execute_result"
    },
    {
     "data": {
      "text/plain": [
       "dossier : \t5\t\n",
       "223\t\n",
       "dossier : \t5\t\n",
       "223\t\n",
       "dossier : \t5\t\n",
       "223\t\n",
       "dossier : \t5\t\n",
       "223\t\n",
       "dossier : \t5\t\n",
       "223\t\n"
      ]
     },
     "execution_count": 32,
     "metadata": {},
     "output_type": "execute_result"
    },
    {
     "data": {
      "text/plain": [
       "dossier : \t5\t\n",
       "223\t\n"
      ]
     },
     "execution_count": 32,
     "metadata": {},
     "output_type": "execute_result"
    },
    {
     "data": {
      "text/plain": [
       "dossier : \t6\t\n",
       "44\t\n",
       "dossier : \t6\t\n",
       "44\t\n",
       "dossier : \t6\t\n",
       "44\t\n"
      ]
     },
     "execution_count": 32,
     "metadata": {},
     "output_type": "execute_result"
    },
    {
     "data": {
      "text/plain": [
       "dossier : \t6\t\n",
       "44\t\n",
       "dossier : \t6\t\n",
       "44\t\n",
       "dossier : \t6\t\n",
       "44\t\n",
       "dossier : \t"
      ]
     },
     "execution_count": 32,
     "metadata": {},
     "output_type": "execute_result"
    },
    {
     "data": {
      "text/plain": [
       "6\t\n",
       "44\t\n",
       "dossier : \t6\t\n",
       "44\t\n",
       "dossier : \t6\t\n",
       "44\t\n",
       "dossier : \t6\t\n",
       "44\t\n",
       "dossier : \t6\t\n",
       "44\t\n"
      ]
     },
     "execution_count": 32,
     "metadata": {},
     "output_type": "execute_result"
    },
    {
     "data": {
      "text/plain": [
       "dossier : \t6\t\n",
       "44\t\n",
       "dossier : \t6\t\n",
       "44\t\n",
       "dossier : \t6\t\n",
       "44\t\n",
       "dossier : \t6\t\n",
       "44\t\n",
       "dossier : \t6\t\n",
       "44\t\n"
      ]
     },
     "execution_count": 32,
     "metadata": {},
     "output_type": "execute_result"
    },
    {
     "data": {
      "text/plain": [
       "dossier : \t6\t\n",
       "44\t\n",
       "dossier : \t6\t\n",
       "44\t\n",
       "dossier : \t6\t\n",
       "44\t\n",
       "dossier : \t6\t\n",
       "44\t\n",
       "dossier : \t6\t\n",
       "44\t\n"
      ]
     },
     "execution_count": 32,
     "metadata": {},
     "output_type": "execute_result"
    },
    {
     "data": {
      "text/plain": [
       "dossier : \t6\t\n",
       "44\t\n",
       "dossier : \t6\t\n",
       "44\t\n",
       "dossier : \t6\t\n",
       "44\t\n",
       "dossier : \t6\t\n",
       "44\t\n"
      ]
     },
     "execution_count": 32,
     "metadata": {},
     "output_type": "execute_result"
    },
    {
     "data": {
      "text/plain": [
       "dossier : \t6\t\n",
       "44\t\n",
       "dossier : \t6\t\n",
       "44\t\n",
       "dossier : \t6\t\n",
       "44\t\n",
       "dossier : \t6\t\n",
       "44\t\n",
       "dossier : \t6\t\n",
       "44\t\n"
      ]
     },
     "execution_count": 32,
     "metadata": {},
     "output_type": "execute_result"
    },
    {
     "data": {
      "text/plain": [
       "dossier : \t6\t\n",
       "44\t\n",
       "dossier : \t6\t\n",
       "44\t\n",
       "dossier : \t6\t\n",
       "44\t\n",
       "dossier : \t6\t\n",
       "44\t\n",
       "dossier : \t6\t\n",
       "44\t\n"
      ]
     },
     "execution_count": 32,
     "metadata": {},
     "output_type": "execute_result"
    },
    {
     "data": {
      "text/plain": [
       "dossier : \t6\t\n",
       "44\t\n",
       "dossier : \t6\t\n",
       "44\t\n",
       "dossier : \t6\t\n",
       "44\t\n",
       "dossier : \t6\t\n",
       "44\t\n"
      ]
     },
     "execution_count": 32,
     "metadata": {},
     "output_type": "execute_result"
    },
    {
     "data": {
      "text/plain": [
       "dossier : \t6\t\n",
       "44\t\n",
       "dossier : \t6\t\n",
       "44\t\n",
       "dossier : \t6\t\n",
       "44\t\n",
       "dossier : \t6\t\n",
       "44\t\n",
       "dossier : \t6\t\n",
       "44\t\n"
      ]
     },
     "execution_count": 32,
     "metadata": {},
     "output_type": "execute_result"
    },
    {
     "data": {
      "text/plain": [
       "dossier : \t7\t\n",
       "288\t\n",
       "dossier : \t7\t\n",
       "288\t\n",
       "dossier : \t7\t\n",
       "288\t\n",
       "dossier : \t7\t"
      ]
     },
     "execution_count": 32,
     "metadata": {},
     "output_type": "execute_result"
    },
    {
     "data": {
      "text/plain": [
       "\n",
       "288\t\n",
       "dossier : \t7\t\n",
       "288\t\n",
       "dossier : \t7\t\n",
       "288\t\n",
       "dossier : \t7\t\n",
       "288\t\n"
      ]
     },
     "execution_count": 32,
     "metadata": {},
     "output_type": "execute_result"
    },
    {
     "data": {
      "text/plain": [
       "dossier : \t7\t\n",
       "288\t\n",
       "dossier : \t7\t\n",
       "288\t\n",
       "dossier : \t7\t\n",
       "288\t\n"
      ]
     },
     "execution_count": 32,
     "metadata": {},
     "output_type": "execute_result"
    },
    {
     "data": {
      "text/plain": [
       "dossier : \t7\t\n",
       "288\t\n",
       "dossier : \t7\t\n",
       "288\t\n",
       "dossier : \t7\t\n",
       "288\t\n",
       "dossier : \t7\t\n",
       "288\t\n"
      ]
     },
     "execution_count": 32,
     "metadata": {},
     "output_type": "execute_result"
    },
    {
     "data": {
      "text/plain": [
       "dossier : \t7\t\n",
       "288\t\n",
       "dossier : \t7\t\n",
       "288\t\n",
       "dossier : \t7\t\n",
       "288\t\n"
      ]
     },
     "execution_count": 32,
     "metadata": {},
     "output_type": "execute_result"
    },
    {
     "data": {
      "text/plain": [
       "dossier : \t7\t\n",
       "288\t\n",
       "dossier : \t7\t\n",
       "288\t\n",
       "dossier : \t7\t\n",
       "288\t\n",
       "dossier : \t7\t\n",
       "288\t\n",
       "dossier : \t7\t\n",
       "288\t\n"
      ]
     },
     "execution_count": 32,
     "metadata": {},
     "output_type": "execute_result"
    },
    {
     "data": {
      "text/plain": [
       "dossier : \t7\t\n",
       "288\t\n",
       "dossier : \t7\t\n",
       "288\t\n",
       "dossier : \t7\t\n",
       "288\t\n",
       "dossier : \t7\t\n",
       "288\t\n",
       "dossier : \t7\t\n",
       "288\t\n"
      ]
     },
     "execution_count": 32,
     "metadata": {},
     "output_type": "execute_result"
    },
    {
     "data": {
      "text/plain": [
       "dossier : \t7\t\n",
       "288\t\n",
       "dossier : \t7\t\n",
       "288\t\n",
       "dossier : \t7\t\n",
       "288\t\n",
       "dossier : \t7\t\n",
       "288\t\n",
       "dossier : \t7\t\n",
       "288\t\n"
      ]
     },
     "execution_count": 32,
     "metadata": {},
     "output_type": "execute_result"
    },
    {
     "data": {
      "text/plain": [
       "dossier : \t7\t\n",
       "288\t\n",
       "dossier : \t7\t\n",
       "288\t\n",
       "dossier : \t7\t\n",
       "288\t\n",
       "dossier : \t7\t\n",
       "288\t\n",
       "dossier : \t7\t\n",
       "288\t\n",
       "dossier : \t7\t\n",
       "288\t\n"
      ]
     },
     "execution_count": 32,
     "metadata": {},
     "output_type": "execute_result"
    },
    {
     "data": {
      "text/plain": [
       "dossier : \t7\t\n",
       "288\t\n",
       "dossier : \t7\t\n",
       "288\t\n",
       "dossier : \t7\t\n",
       "288\t\n",
       "dossier : \t7\t\n",
       "288\t\n",
       "dossier : \t7\t\n",
       "288\t\n"
      ]
     },
     "execution_count": 32,
     "metadata": {},
     "output_type": "execute_result"
    },
    {
     "data": {
      "text/plain": [
       "dossier : \t7\t\n",
       "288\t\n",
       "dossier : \t7\t\n",
       "288\t\n",
       "dossier : \t7\t\n",
       "288\t\n",
       "dossier : \t7\t\n",
       "288\t\n",
       "dossier : \t7\t\n",
       "288\t\n"
      ]
     },
     "execution_count": 32,
     "metadata": {},
     "output_type": "execute_result"
    },
    {
     "data": {
      "text/plain": [
       "dossier : \t7\t\n",
       "288\t\n",
       "dossier : \t7\t\n",
       "288\t\n",
       "dossier : \t7\t\n",
       "288\t\n",
       "dossier : \t7\t\n",
       "288\t\n"
      ]
     },
     "execution_count": 32,
     "metadata": {},
     "output_type": "execute_result"
    },
    {
     "data": {
      "text/plain": [
       "dossier : \t7\t\n",
       "288\t\n",
       "dossier : \t7\t\n",
       "288\t\n",
       "dossier : \t7\t\n",
       "288\t\n"
      ]
     },
     "execution_count": 32,
     "metadata": {},
     "output_type": "execute_result"
    },
    {
     "data": {
      "text/plain": [
       "dossier : \t7\t\n",
       "288\t\n",
       "dossier : \t7\t\n",
       "288\t\n",
       "dossier : \t7\t\n",
       "288\t\n",
       "dossier : \t7\t\n",
       "288\t\n"
      ]
     },
     "execution_count": 32,
     "metadata": {},
     "output_type": "execute_result"
    },
    {
     "data": {
      "text/plain": [
       "dossier : \t7\t\n",
       "288\t\n",
       "dossier : \t7\t\n",
       "288\t\n",
       "dossier : \t7\t\n",
       "288\t\n",
       "dossier : \t7\t\n",
       "288\t\n"
      ]
     },
     "execution_count": 32,
     "metadata": {},
     "output_type": "execute_result"
    },
    {
     "data": {
      "text/plain": [
       "dossier : \t7\t\n",
       "288\t\n",
       "dossier : \t7\t\n",
       "288\t\n",
       "dossier : \t7\t\n",
       "288\t\n",
       "dossier : \t7\t\n",
       "288\t\n",
       "dossier : \t7\t\n",
       "288\t\n"
      ]
     },
     "execution_count": 32,
     "metadata": {},
     "output_type": "execute_result"
    },
    {
     "data": {
      "text/plain": [
       "dossier : \t7\t\n",
       "288\t\n",
       "dossier : \t7\t\n",
       "288\t\n",
       "dossier : \t7\t\n",
       "288\t\n"
      ]
     },
     "execution_count": 32,
     "metadata": {},
     "output_type": "execute_result"
    },
    {
     "data": {
      "text/plain": [
       "dossier : \t7\t\n",
       "288\t\n",
       "dossier : \t7\t\n",
       "288\t\n",
       "dossier : \t7\t\n",
       "288\t\n",
       "dossier : \t7\t\n",
       "288\t\n"
      ]
     },
     "execution_count": 32,
     "metadata": {},
     "output_type": "execute_result"
    },
    {
     "data": {
      "text/plain": [
       "dossier : \t7\t\n",
       "288\t\n",
       "dossier : \t7\t\n",
       "288\t\n",
       "dossier : \t7\t\n",
       "288\t\n"
      ]
     },
     "execution_count": 32,
     "metadata": {},
     "output_type": "execute_result"
    },
    {
     "data": {
      "text/plain": [
       "dossier : \t7\t\n",
       "288\t\n",
       "dossier : \t7\t\n",
       "288\t\n",
       "dossier : \t7\t\n",
       "288\t\n",
       "dossier : \t7\t\n",
       "288\t\n",
       "dossier : \t7\t\n",
       "288\t\n"
      ]
     },
     "execution_count": 32,
     "metadata": {},
     "output_type": "execute_result"
    },
    {
     "data": {
      "text/plain": [
       "dossier : \t7\t\n",
       "288\t\n",
       "dossier : \t7\t\n",
       "288\t\n",
       "dossier : \t7\t\n",
       "288\t\n",
       "dossier : \t7\t\n",
       "288\t\n",
       "dossier : \t7\t\n",
       "288\t\n"
      ]
     },
     "execution_count": 32,
     "metadata": {},
     "output_type": "execute_result"
    },
    {
     "data": {
      "text/plain": [
       "dossier : \t7\t\n",
       "288\t\n",
       "dossier : \t7\t\n",
       "288\t\n",
       "dossier : \t7\t\n",
       "288\t\n"
      ]
     },
     "execution_count": 32,
     "metadata": {},
     "output_type": "execute_result"
    },
    {
     "data": {
      "text/plain": [
       "dossier : \t7\t\n",
       "288\t\n",
       "dossier : \t7\t\n",
       "288\t\n",
       "dossier : \t7\t\n",
       "288\t\n",
       "dossier : \t7\t\n",
       "288\t\n"
      ]
     },
     "execution_count": 32,
     "metadata": {},
     "output_type": "execute_result"
    },
    {
     "data": {
      "text/plain": [
       "dossier : \t7\t\n",
       "288\t\n",
       "dossier : \t7\t\n",
       "288\t\n",
       "dossier : \t7\t\n",
       "288\t\n",
       "dossier : \t7\t\n",
       "288\t\n"
      ]
     },
     "execution_count": 32,
     "metadata": {},
     "output_type": "execute_result"
    },
    {
     "data": {
      "text/plain": [
       "dossier : \t7\t\n",
       "288\t\n",
       "dossier : \t7\t\n",
       "288\t\n",
       "dossier : \t7\t\n",
       "288\t\n",
       "dossier : \t7\t\n",
       "288\t\n",
       "dossier : \t7\t\n"
      ]
     },
     "execution_count": 32,
     "metadata": {},
     "output_type": "execute_result"
    },
    {
     "data": {
      "text/plain": [
       "288\t\n",
       "dossier : \t7\t\n",
       "288\t\n",
       "dossier : \t7\t\n",
       "288\t\n",
       "dossier : \t7\t\n",
       "288\t\n"
      ]
     },
     "execution_count": 32,
     "metadata": {},
     "output_type": "execute_result"
    },
    {
     "data": {
      "text/plain": [
       "dossier : \t7\t\n",
       "288\t\n",
       "dossier : \t7\t\n",
       "288\t\n",
       "dossier : \t7\t\n",
       "288\t\n",
       "dossier : \t7\t\n",
       "288\t\n",
       "dossier : \t7\t\n",
       "288\t\n"
      ]
     },
     "execution_count": 32,
     "metadata": {},
     "output_type": "execute_result"
    },
    {
     "data": {
      "text/plain": [
       "dossier : \t7\t\n",
       "288\t\n",
       "dossier : \t7\t\n",
       "288\t\n",
       "dossier : \t7\t\n",
       "288\t\n",
       "dossier : \t7\t\n",
       "288\t\n",
       "dossier : \t7\t\n",
       "288\t\n"
      ]
     },
     "execution_count": 32,
     "metadata": {},
     "output_type": "execute_result"
    },
    {
     "data": {
      "text/plain": [
       "dossier : \t7\t\n",
       "288\t\n",
       "dossier : \t7\t\n",
       "288\t\n",
       "dossier : \t7\t\n",
       "288\t\n",
       "dossier : \t7\t\n",
       "288\t\n",
       "dossier : \t7\t\n",
       "288\t\n"
      ]
     },
     "execution_count": 32,
     "metadata": {},
     "output_type": "execute_result"
    },
    {
     "data": {
      "text/plain": [
       "dossier : \t7\t\n",
       "288\t\n",
       "dossier : \t7\t\n",
       "288\t\n",
       "dossier : \t7\t\n",
       "288\t\n",
       "dossier : \t7\t\n",
       "288\t\n",
       "dossier : \t7\t\n",
       "288\t\n"
      ]
     },
     "execution_count": 32,
     "metadata": {},
     "output_type": "execute_result"
    },
    {
     "data": {
      "text/plain": [
       "dossier : \t7\t\n",
       "288\t\n",
       "dossier : \t7\t\n",
       "288\t\n",
       "dossier : \t7\t\n",
       "288\t\n",
       "dossier : \t7\t\n",
       "288\t\n",
       "dossier : \t"
      ]
     },
     "execution_count": 32,
     "metadata": {},
     "output_type": "execute_result"
    },
    {
     "data": {
      "text/plain": [
       "7\t\n",
       "288\t\n",
       "dossier : \t7\t\n",
       "288\t\n",
       "dossier : \t7\t\n",
       "288\t\n",
       "dossier : \t7\t\n",
       "288\t\n",
       "dossier : \t7\t\n",
       "288\t\n"
      ]
     },
     "execution_count": 32,
     "metadata": {},
     "output_type": "execute_result"
    },
    {
     "data": {
      "text/plain": [
       "dossier : \t7\t\n",
       "288\t\n",
       "dossier : \t7\t\n",
       "288\t\n",
       "dossier : \t7\t\n",
       "288\t\n",
       "dossier : \t7\t\n",
       "288\t\n"
      ]
     },
     "execution_count": 32,
     "metadata": {},
     "output_type": "execute_result"
    },
    {
     "data": {
      "text/plain": [
       "dossier : \t7\t\n",
       "288\t\n",
       "dossier : \t7\t\n",
       "288\t\n",
       "dossier : \t7\t\n",
       "288\t\n",
       "dossier : \t7\t\n",
       "288\t\n"
      ]
     },
     "execution_count": 32,
     "metadata": {},
     "output_type": "execute_result"
    },
    {
     "data": {
      "text/plain": [
       "dossier : \t7\t\n",
       "288\t\n",
       "dossier : \t7\t\n",
       "288\t\n",
       "dossier : \t7\t\n",
       "288\t\n",
       "dossier : \t7\t\n",
       "288\t\n"
      ]
     },
     "execution_count": 32,
     "metadata": {},
     "output_type": "execute_result"
    },
    {
     "data": {
      "text/plain": [
       "dossier : \t7\t\n",
       "288\t\n",
       "dossier : \t7\t\n",
       "288\t\n",
       "dossier : \t7\t\n",
       "288\t\n",
       "dossier : \t7\t\n",
       "288\t\n",
       "dossier : \t7\t\n",
       "288\t\n"
      ]
     },
     "execution_count": 32,
     "metadata": {},
     "output_type": "execute_result"
    },
    {
     "data": {
      "text/plain": [
       "dossier : \t7\t\n",
       "288\t\n",
       "dossier : \t7\t\n",
       "288\t\n",
       "dossier : \t7\t\n",
       "288\t\n",
       "dossier : \t7\t\n",
       "288\t\n"
      ]
     },
     "execution_count": 32,
     "metadata": {},
     "output_type": "execute_result"
    },
    {
     "data": {
      "text/plain": [
       "dossier : \t7\t\n",
       "288\t\n",
       "dossier : \t7\t\n",
       "288\t\n",
       "dossier : \t7\t\n",
       "288\t\n"
      ]
     },
     "execution_count": 32,
     "metadata": {},
     "output_type": "execute_result"
    },
    {
     "data": {
      "text/plain": [
       "dossier : \t7\t\n",
       "288\t\n",
       "dossier : \t7\t\n",
       "288\t\n",
       "dossier : \t7\t\n",
       "288\t\n",
       "dossier : \t7\t\n",
       "288\t\n",
       "dossier : \t7\t\n",
       "288\t\n",
       "dossier : \t7\t\n",
       "288\t\n"
      ]
     },
     "execution_count": 32,
     "metadata": {},
     "output_type": "execute_result"
    },
    {
     "data": {
      "text/plain": [
       "dossier : \t7\t\n",
       "288\t\n",
       "dossier : \t7\t\n",
       "288\t\n",
       "dossier : \t7\t\n",
       "288\t\n",
       "dossier : \t7\t\n",
       "288\t\n"
      ]
     },
     "execution_count": 32,
     "metadata": {},
     "output_type": "execute_result"
    },
    {
     "data": {
      "text/plain": [
       "dossier : \t7\t\n",
       "288\t\n",
       "dossier : \t7\t\n",
       "288\t\n",
       "dossier : \t7\t\n",
       "288\t\n",
       "dossier : \t7\t\n",
       "288\t\n"
      ]
     },
     "execution_count": 32,
     "metadata": {},
     "output_type": "execute_result"
    },
    {
     "data": {
      "text/plain": [
       "dossier : \t7\t\n",
       "288\t\n",
       "dossier : \t7\t\n",
       "288\t\n",
       "dossier : \t7\t\n",
       "288\t\n",
       "dossier : \t7\t\n",
       "288\t\n",
       "dossier : \t7\t\n",
       "288\t\n"
      ]
     },
     "execution_count": 32,
     "metadata": {},
     "output_type": "execute_result"
    },
    {
     "data": {
      "text/plain": [
       "dossier : \t7\t\n",
       "288\t\n",
       "dossier : \t7\t\n",
       "288\t\n",
       "dossier : \t7\t\n",
       "288\t\n",
       "dossier : \t7\t\n",
       "288\t\n",
       "dossier : \t7\t\n",
       "288\t\n"
      ]
     },
     "execution_count": 32,
     "metadata": {},
     "output_type": "execute_result"
    },
    {
     "data": {
      "text/plain": [
       "dossier : \t7\t\n",
       "288\t\n",
       "dossier : \t7\t\n",
       "288\t\n",
       "dossier : \t7\t\n",
       "288\t\n"
      ]
     },
     "execution_count": 32,
     "metadata": {},
     "output_type": "execute_result"
    },
    {
     "data": {
      "text/plain": [
       "dossier : \t7\t\n",
       "288\t\n",
       "dossier : \t7\t\n",
       "288\t\n",
       "dossier : \t7\t\n",
       "288\t\n",
       "dossier : \t7\t\n",
       "288\t\n"
      ]
     },
     "execution_count": 32,
     "metadata": {},
     "output_type": "execute_result"
    },
    {
     "data": {
      "text/plain": [
       "dossier : \t7\t\n",
       "288\t\n",
       "dossier : \t7\t\n",
       "288\t\n",
       "dossier : \t7\t\n",
       "288\t\n",
       "dossier : \t7\t\n",
       "288\t\n",
       "dossier : \t7\t\n",
       "288\t\n"
      ]
     },
     "execution_count": 32,
     "metadata": {},
     "output_type": "execute_result"
    },
    {
     "data": {
      "text/plain": [
       "dossier : \t7\t\n",
       "288\t\n",
       "dossier : \t7\t\n",
       "288\t\n",
       "dossier : \t7\t\n",
       "288\t\n",
       "dossier : \t7\t\n",
       "288\t\n",
       "dossier : \t"
      ]
     },
     "execution_count": 32,
     "metadata": {},
     "output_type": "execute_result"
    },
    {
     "data": {
      "text/plain": [
       "7\t\n",
       "288\t\n",
       "dossier : \t7\t\n",
       "288\t\n",
       "dossier : \t7\t\n",
       "288\t\n",
       "dossier : \t7\t\n",
       "288\t\n"
      ]
     },
     "execution_count": 32,
     "metadata": {},
     "output_type": "execute_result"
    },
    {
     "data": {
      "text/plain": [
       "dossier : \t7\t\n",
       "288\t\n",
       "dossier : \t7\t\n",
       "288\t\n",
       "dossier : \t7\t\n",
       "288\t\n",
       "dossier : \t7\t\n",
       "288\t\n"
      ]
     },
     "execution_count": 32,
     "metadata": {},
     "output_type": "execute_result"
    },
    {
     "data": {
      "text/plain": [
       "dossier : \t7\t\n",
       "288\t\n",
       "dossier : \t7\t\n",
       "288\t\n",
       "dossier : \t7\t\n",
       "288\t\n"
      ]
     },
     "execution_count": 32,
     "metadata": {},
     "output_type": "execute_result"
    },
    {
     "data": {
      "text/plain": [
       "dossier : \t7\t\n",
       "288\t\n",
       "dossier : \t7\t\n",
       "288\t\n",
       "dossier : \t"
      ]
     },
     "execution_count": 32,
     "metadata": {},
     "output_type": "execute_result"
    },
    {
     "data": {
      "text/plain": [
       "7\t\n",
       "288\t\n",
       "dossier : \t7\t\n",
       "288\t\n",
       "dossier : \t7\t\n",
       "288\t\n",
       "dossier : \t7\t\n",
       "288\t\n"
      ]
     },
     "execution_count": 32,
     "metadata": {},
     "output_type": "execute_result"
    },
    {
     "data": {
      "text/plain": [
       "dossier : \t7\t\n",
       "288\t\n",
       "dossier : \t7\t\n",
       "288\t\n",
       "dossier : \t7\t\n",
       "288\t\n",
       "dossier : \t7\t\n",
       "288\t\n",
       "dossier : \t7\t\n",
       "288\t\n"
      ]
     },
     "execution_count": 32,
     "metadata": {},
     "output_type": "execute_result"
    },
    {
     "data": {
      "text/plain": [
       "dossier : \t7\t\n",
       "288\t\n",
       "dossier : \t7\t\n",
       "288\t\n",
       "dossier : \t7\t\n",
       "288\t\n",
       "dossier : \t7\t\n",
       "288\t\n"
      ]
     },
     "execution_count": 32,
     "metadata": {},
     "output_type": "execute_result"
    },
    {
     "data": {
      "text/plain": [
       "dossier : \t7\t\n",
       "288\t\n",
       "dossier : \t7\t\n",
       "288\t\n",
       "dossier : \t7\t\n",
       "288\t\n",
       "dossier : \t7\t\n",
       "288\t\n",
       "dossier : \t7\t\n",
       "288\t\n"
      ]
     },
     "execution_count": 32,
     "metadata": {},
     "output_type": "execute_result"
    },
    {
     "data": {
      "text/plain": [
       "dossier : \t7\t\n",
       "288\t\n",
       "dossier : \t7\t\n",
       "288\t\n",
       "dossier : \t7\t\n",
       "288\t\n",
       "dossier : \t7\t\n",
       "288\t\n"
      ]
     },
     "execution_count": 32,
     "metadata": {},
     "output_type": "execute_result"
    },
    {
     "data": {
      "text/plain": [
       "dossier : \t7\t\n",
       "288\t\n",
       "dossier : \t7\t\n",
       "288\t\n",
       "dossier : \t7\t\n",
       "288\t\n",
       "dossier : \t7\t\n",
       "288\t\n",
       "dossier : \t7\t\n",
       "288\t\n"
      ]
     },
     "execution_count": 32,
     "metadata": {},
     "output_type": "execute_result"
    },
    {
     "data": {
      "text/plain": [
       "dossier : \t7\t\n",
       "288\t\n",
       "dossier : \t7\t\n",
       "288\t\n",
       "dossier : \t7\t\n",
       "288\t\n",
       "dossier : \t7\t\n",
       "288\t\n"
      ]
     },
     "execution_count": 32,
     "metadata": {},
     "output_type": "execute_result"
    },
    {
     "data": {
      "text/plain": [
       "dossier : \t7\t\n",
       "288\t\n",
       "dossier : \t7\t\n",
       "288\t\n",
       "dossier : \t7\t\n",
       "288\t\n",
       "dossier : \t7\t\n",
       "288\t\n",
       "dossier : \t7\t\n",
       "288\t\n"
      ]
     },
     "execution_count": 32,
     "metadata": {},
     "output_type": "execute_result"
    },
    {
     "data": {
      "text/plain": [
       "dossier : \t7\t\n",
       "288\t\n",
       "dossier : \t7\t\n",
       "288\t\n",
       "dossier : \t7\t\n",
       "288\t\n",
       "dossier : \t7\t\n",
       "288\t\n"
      ]
     },
     "execution_count": 32,
     "metadata": {},
     "output_type": "execute_result"
    },
    {
     "data": {
      "text/plain": [
       "dossier : \t7\t\n",
       "288\t\n",
       "dossier : \t7\t\n",
       "288\t\n"
      ]
     },
     "execution_count": 32,
     "metadata": {},
     "output_type": "execute_result"
    },
    {
     "data": {
      "text/plain": [
       "dossier : \t7\t\n",
       "288\t\n",
       "dossier : \t7\t\n",
       "288\t\n",
       "dossier : \t7\t\n",
       "288\t\n",
       "dossier : \t7\t\n",
       "288\t\n"
      ]
     },
     "execution_count": 32,
     "metadata": {},
     "output_type": "execute_result"
    },
    {
     "data": {
      "text/plain": [
       "dossier : \t7\t\n",
       "288\t\n",
       "dossier : \t7\t\n",
       "288\t\n",
       "dossier : \t7\t\n",
       "288\t\n",
       "dossier : \t7\t\n",
       "288\t\n",
       "dossier : \t7\t\n",
       "288\t\n"
      ]
     },
     "execution_count": 32,
     "metadata": {},
     "output_type": "execute_result"
    },
    {
     "data": {
      "text/plain": [
       "dossier : \t7\t\n",
       "288\t\n",
       "dossier : \t7\t\n",
       "288\t\n",
       "dossier : \t7\t\n",
       "288\t\n",
       "dossier : \t7\t\n",
       "288\t\n"
      ]
     },
     "execution_count": 32,
     "metadata": {},
     "output_type": "execute_result"
    },
    {
     "data": {
      "text/plain": [
       "dossier : \t7\t\n",
       "288\t\n",
       "dossier : \t7\t\n",
       "288\t\n",
       "dossier : \t7\t\n",
       "288\t\n",
       "dossier : \t7\t\n",
       "288\t\n",
       "dossier : \t7\t\n",
       "288\t\n"
      ]
     },
     "execution_count": 32,
     "metadata": {},
     "output_type": "execute_result"
    },
    {
     "data": {
      "text/plain": [
       "dossier : \t7\t\n",
       "288\t\n",
       "dossier : \t7\t\n",
       "288\t\n",
       "dossier : \t7\t\n",
       "288\t\n"
      ]
     },
     "execution_count": 32,
     "metadata": {},
     "output_type": "execute_result"
    },
    {
     "data": {
      "text/plain": [
       "dossier : \t7\t\n",
       "288\t\n",
       "dossier : \t7\t\n",
       "288\t\n",
       "dossier : \t7\t\n",
       "288\t\n",
       "dossier : \t7\t\n",
       "288\t\n",
       "dossier : \t"
      ]
     },
     "execution_count": 32,
     "metadata": {},
     "output_type": "execute_result"
    },
    {
     "data": {
      "text/plain": [
       "7\t\n",
       "288\t\n",
       "dossier : \t7\t\n",
       "288\t\n",
       "dossier : \t7\t\n",
       "288\t\n",
       "dossier : \t7\t\n",
       "288\t\n",
       "dossier : \t7\t\n",
       "288\t\n"
      ]
     },
     "execution_count": 32,
     "metadata": {},
     "output_type": "execute_result"
    },
    {
     "data": {
      "text/plain": [
       "dossier : \t7\t\n",
       "288\t\n",
       "dossier : \t7\t\n",
       "288\t\n",
       "dossier : \t7\t\n",
       "288\t\n"
      ]
     },
     "execution_count": 32,
     "metadata": {},
     "output_type": "execute_result"
    },
    {
     "data": {
      "text/plain": [
       "dossier : \t8\t\n",
       "215\t\n",
       "dossier : \t8\t\n",
       "215\t\n",
       "dossier : \t8\t\n",
       "215\t\n",
       "dossier : \t8\t\n",
       "215\t\n"
      ]
     },
     "execution_count": 32,
     "metadata": {},
     "output_type": "execute_result"
    },
    {
     "data": {
      "text/plain": [
       "dossier : \t8\t\n",
       "215\t\n",
       "dossier : \t8\t\n",
       "215\t\n",
       "dossier : \t8\t\n",
       "215\t\n"
      ]
     },
     "execution_count": 32,
     "metadata": {},
     "output_type": "execute_result"
    },
    {
     "data": {
      "text/plain": [
       "dossier : \t8\t\n",
       "215\t\n",
       "dossier : \t8\t\n",
       "215\t\n",
       "dossier : \t8\t\n",
       "215\t\n",
       "dossier : \t8\t\n",
       "215\t\n"
      ]
     },
     "execution_count": 32,
     "metadata": {},
     "output_type": "execute_result"
    },
    {
     "data": {
      "text/plain": [
       "dossier : \t8\t\n",
       "215\t\n",
       "dossier : \t8\t\n",
       "215\t\n",
       "dossier : \t8\t\n",
       "215\t\n",
       "dossier : \t8\t\n",
       "215\t\n",
       "dossier : \t8\t\n",
       "215\t\n"
      ]
     },
     "execution_count": 32,
     "metadata": {},
     "output_type": "execute_result"
    },
    {
     "data": {
      "text/plain": [
       "dossier : \t8\t\n",
       "215\t\n",
       "dossier : \t8\t\n",
       "215\t\n",
       "dossier : \t8\t\n",
       "215\t\n",
       "dossier : \t8\t\n",
       "215\t\n",
       "dossier : \t8\t\n",
       "215\t\n"
      ]
     },
     "execution_count": 32,
     "metadata": {},
     "output_type": "execute_result"
    },
    {
     "data": {
      "text/plain": [
       "dossier : \t8\t\n",
       "215\t\n",
       "dossier : \t8\t\n",
       "215\t\n",
       "dossier : \t8\t\n",
       "215\t\n",
       "dossier : \t8\t\n",
       "215\t\n",
       "dossier : \t8\t\n",
       "215\t\n"
      ]
     },
     "execution_count": 32,
     "metadata": {},
     "output_type": "execute_result"
    },
    {
     "data": {
      "text/plain": [
       "dossier : \t8\t\n",
       "215\t\n",
       "dossier : \t8\t\n",
       "215\t\n",
       "dossier : \t8\t\n",
       "215\t\n",
       "dossier : \t8\t\n",
       "215\t\n",
       "dossier : \t8\t\n",
       "215\t\n"
      ]
     },
     "execution_count": 32,
     "metadata": {},
     "output_type": "execute_result"
    },
    {
     "data": {
      "text/plain": [
       "dossier : \t8\t\n",
       "215\t\n",
       "dossier : \t8\t\n",
       "215\t\n",
       "dossier : \t8\t\n",
       "215\t\n",
       "dossier : \t8\t\n",
       "215\t\n",
       "dossier : \t8\t\n",
       "215\t\n",
       "dossier : \t8\t\n",
       "215\t\n"
      ]
     },
     "execution_count": 32,
     "metadata": {},
     "output_type": "execute_result"
    },
    {
     "data": {
      "text/plain": [
       "dossier : \t8\t\n",
       "215\t\n",
       "dossier : \t8\t\n",
       "215\t\n",
       "dossier : \t8\t\n",
       "215\t\n",
       "dossier : \t8\t\n",
       "215\t\n",
       "dossier : \t8\t\n",
       "215\t\n"
      ]
     },
     "execution_count": 32,
     "metadata": {},
     "output_type": "execute_result"
    },
    {
     "data": {
      "text/plain": [
       "dossier : \t8\t\n",
       "215\t\n",
       "dossier : \t8\t\n",
       "215\t\n",
       "dossier : \t8\t\n",
       "215\t\n",
       "dossier : \t8\t\n",
       "215\t\n",
       "dossier : \t8\t\n",
       "215\t\n"
      ]
     },
     "execution_count": 32,
     "metadata": {},
     "output_type": "execute_result"
    },
    {
     "data": {
      "text/plain": [
       "dossier : \t8\t\n",
       "215\t\n",
       "dossier : \t8\t\n",
       "215\t\n",
       "dossier : \t8\t\n",
       "215\t\n"
      ]
     },
     "execution_count": 32,
     "metadata": {},
     "output_type": "execute_result"
    },
    {
     "data": {
      "text/plain": [
       "dossier : \t8\t\n",
       "215\t\n",
       "dossier : \t8\t\n",
       "215\t\n",
       "dossier : \t8\t\n",
       "215\t\n",
       "dossier : \t8\t\n",
       "215\t\n",
       "dossier : \t8\t\n",
       "215\t\n"
      ]
     },
     "execution_count": 32,
     "metadata": {},
     "output_type": "execute_result"
    },
    {
     "data": {
      "text/plain": [
       "dossier : \t8\t\n",
       "215\t\n",
       "dossier : \t8\t\n",
       "215\t\n",
       "dossier : \t8\t\n",
       "215\t\n"
      ]
     },
     "execution_count": 32,
     "metadata": {},
     "output_type": "execute_result"
    },
    {
     "data": {
      "text/plain": [
       "dossier : \t8\t\n",
       "215\t\n",
       "dossier : \t8\t\n",
       "215\t\n",
       "dossier : \t8\t\n",
       "215\t\n",
       "dossier : \t8\t\n",
       "215\t\n"
      ]
     },
     "execution_count": 32,
     "metadata": {},
     "output_type": "execute_result"
    },
    {
     "data": {
      "text/plain": [
       "dossier : \t8\t\n",
       "215\t\n",
       "dossier : \t8\t\n",
       "215\t\n",
       "dossier : \t8\t\n",
       "215\t\n",
       "dossier : \t8\t\n",
       "215\t\n"
      ]
     },
     "execution_count": 32,
     "metadata": {},
     "output_type": "execute_result"
    },
    {
     "data": {
      "text/plain": [
       "dossier : \t8\t\n",
       "215\t\n",
       "dossier : \t8\t\n",
       "215\t\n",
       "dossier : \t8\t\n",
       "215\t\n",
       "dossier : \t8\t\n",
       "215\t\n",
       "dossier : \t8\t\n",
       "215\t\n",
       "dossier : \t8\t\n",
       "215\t\n"
      ]
     },
     "execution_count": 32,
     "metadata": {},
     "output_type": "execute_result"
    },
    {
     "data": {
      "text/plain": [
       "dossier : \t8\t\n",
       "215\t\n",
       "dossier : \t8\t\n",
       "215\t\n",
       "dossier : \t8\t\n",
       "215\t\n",
       "dossier : \t8\t\n",
       "215\t\n",
       "dossier : \t8\t\n",
       "215\t\n"
      ]
     },
     "execution_count": 32,
     "metadata": {},
     "output_type": "execute_result"
    },
    {
     "data": {
      "text/plain": [
       "dossier : \t8\t\n",
       "215\t\n",
       "dossier : \t8\t\n",
       "215\t\n",
       "dossier : \t8\t\n",
       "215\t\n",
       "dossier : \t8\t\n",
       "215\t\n",
       "dossier : \t8\t\n",
       "215\t\n"
      ]
     },
     "execution_count": 32,
     "metadata": {},
     "output_type": "execute_result"
    },
    {
     "data": {
      "text/plain": [
       "dossier : \t8\t\n",
       "215\t\n",
       "dossier : \t8\t\n",
       "215\t\n",
       "dossier : \t8\t\n",
       "215\t\n",
       "dossier : \t8\t\n",
       "215\t\n"
      ]
     },
     "execution_count": 32,
     "metadata": {},
     "output_type": "execute_result"
    },
    {
     "data": {
      "text/plain": [
       "dossier : \t8\t\n",
       "215\t\n",
       "dossier : \t8\t\n",
       "215\t\n",
       "dossier : \t8\t\n",
       "215\t\n",
       "dossier : \t8\t\n",
       "215\t\n",
       "dossier : \t8\t\n",
       "215\t\n",
       "dossier : \t8\t"
      ]
     },
     "execution_count": 32,
     "metadata": {},
     "output_type": "execute_result"
    },
    {
     "data": {
      "text/plain": [
       "\n",
       "215\t\n",
       "dossier : \t8\t\n",
       "215\t\n",
       "dossier : \t8\t\n",
       "215\t\n",
       "dossier : \t8\t\n",
       "215\t\n",
       "dossier : \t8\t\n",
       "215\t\n"
      ]
     },
     "execution_count": 32,
     "metadata": {},
     "output_type": "execute_result"
    },
    {
     "data": {
      "text/plain": [
       "dossier : \t8\t\n",
       "215\t\n",
       "dossier : \t8\t\n",
       "215\t\n",
       "dossier : \t8\t\n",
       "215\t\n",
       "dossier : \t8\t\n",
       "215\t\n"
      ]
     },
     "execution_count": 32,
     "metadata": {},
     "output_type": "execute_result"
    },
    {
     "data": {
      "text/plain": [
       "dossier : \t8\t\n",
       "215\t\n",
       "dossier : \t8\t\n",
       "215\t\n",
       "dossier : \t8\t\n",
       "215\t\n",
       "dossier : \t8\t\n",
       "215\t\n",
       "dossier : \t8\t\n",
       "215\t\n"
      ]
     },
     "execution_count": 32,
     "metadata": {},
     "output_type": "execute_result"
    },
    {
     "data": {
      "text/plain": [
       "dossier : \t8\t\n",
       "215\t\n",
       "dossier : \t8\t\n",
       "215\t\n",
       "dossier : \t8\t\n",
       "215\t\n",
       "dossier : \t8\t\n",
       "215\t\n"
      ]
     },
     "execution_count": 32,
     "metadata": {},
     "output_type": "execute_result"
    },
    {
     "data": {
      "text/plain": [
       "dossier : \t8\t\n",
       "215\t\n",
       "dossier : \t8\t\n",
       "215\t\n",
       "dossier : \t8\t\n",
       "215\t\n",
       "dossier : \t8\t\n",
       "215\t\n",
       "dossier : \t8\t\n",
       "215\t\n"
      ]
     },
     "execution_count": 32,
     "metadata": {},
     "output_type": "execute_result"
    },
    {
     "data": {
      "text/plain": [
       "dossier : \t8\t\n",
       "215\t\n",
       "dossier : \t8\t\n",
       "215\t\n",
       "dossier : \t8\t\n",
       "215\t\n",
       "dossier : \t8\t\n",
       "215\t\n",
       "dossier : \t8\t\n",
       "215\t\n",
       "dossier : \t8\t\n",
       "215\t\n"
      ]
     },
     "execution_count": 32,
     "metadata": {},
     "output_type": "execute_result"
    },
    {
     "data": {
      "text/plain": [
       "dossier : \t8\t\n",
       "215\t\n",
       "dossier : \t8\t\n",
       "215\t\n",
       "dossier : \t8\t\n",
       "215\t\n"
      ]
     },
     "execution_count": 32,
     "metadata": {},
     "output_type": "execute_result"
    },
    {
     "data": {
      "text/plain": [
       "dossier : \t8\t\n",
       "215\t\n",
       "dossier : \t8\t\n",
       "215\t\n",
       "dossier : \t8\t\n",
       "215\t\n",
       "dossier : \t8\t\n",
       "215\t\n"
      ]
     },
     "execution_count": 32,
     "metadata": {},
     "output_type": "execute_result"
    },
    {
     "data": {
      "text/plain": [
       "dossier : \t8\t\n",
       "215\t\n",
       "dossier : \t8\t\n",
       "215\t\n",
       "dossier : \t8\t\n",
       "215\t\n",
       "dossier : \t8\t\n",
       "215\t\n"
      ]
     },
     "execution_count": 32,
     "metadata": {},
     "output_type": "execute_result"
    },
    {
     "data": {
      "text/plain": [
       "dossier : \t8\t\n",
       "215\t\n",
       "dossier : \t8\t\n",
       "215\t\n",
       "dossier : \t8\t\n",
       "215\t\n",
       "dossier : \t8\t\n",
       "215\t\n"
      ]
     },
     "execution_count": 32,
     "metadata": {},
     "output_type": "execute_result"
    },
    {
     "data": {
      "text/plain": [
       "dossier : \t8\t\n",
       "215\t\n",
       "dossier : \t8\t\n",
       "215\t\n",
       "dossier : \t8\t\n",
       "215\t\n",
       "dossier : \t8\t\n",
       "215\t\n",
       "dossier : \t8\t\n",
       "215\t\n"
      ]
     },
     "execution_count": 32,
     "metadata": {},
     "output_type": "execute_result"
    },
    {
     "data": {
      "text/plain": [
       "dossier : \t8\t\n",
       "215\t\n",
       "dossier : \t8\t\n",
       "215\t\n",
       "dossier : \t8\t\n",
       "215\t\n",
       "dossier : \t8\t\n",
       "215\t\n",
       "dossier : \t8\t\n",
       "215\t\n"
      ]
     },
     "execution_count": 32,
     "metadata": {},
     "output_type": "execute_result"
    },
    {
     "data": {
      "text/plain": [
       "dossier : \t8\t\n",
       "215\t\n",
       "dossier : \t8\t\n",
       "215\t\n",
       "dossier : \t8\t\n",
       "215\t\n",
       "dossier : \t8\t\n",
       "215\t\n",
       "dossier : \t8\t\n",
       "215\t\n",
       "dossier : \t8\t\n"
      ]
     },
     "execution_count": 32,
     "metadata": {},
     "output_type": "execute_result"
    },
    {
     "data": {
      "text/plain": [
       "215\t\n",
       "dossier : \t8\t\n",
       "215\t\n",
       "dossier : \t8\t\n",
       "215\t\n",
       "dossier : \t8\t\n",
       "215\t\n",
       "dossier : \t8\t\n",
       "215\t\n"
      ]
     },
     "execution_count": 32,
     "metadata": {},
     "output_type": "execute_result"
    },
    {
     "data": {
      "text/plain": [
       "dossier : \t8\t\n",
       "215\t\n",
       "dossier : \t8\t\n",
       "215\t\n",
       "dossier : \t8\t\n",
       "215\t\n",
       "dossier : \t8\t\n",
       "215\t\n",
       "dossier : \t8\t\n",
       "215\t\n"
      ]
     },
     "execution_count": 32,
     "metadata": {},
     "output_type": "execute_result"
    },
    {
     "data": {
      "text/plain": [
       "dossier : \t8\t\n",
       "215\t\n",
       "dossier : \t8\t\n",
       "215\t\n",
       "dossier : \t8\t\n",
       "215\t\n",
       "dossier : \t8\t\n",
       "215\t\n",
       "dossier : \t8\t\n",
       "215\t\n"
      ]
     },
     "execution_count": 32,
     "metadata": {},
     "output_type": "execute_result"
    },
    {
     "data": {
      "text/plain": [
       "dossier : \t8\t\n",
       "215\t\n",
       "dossier : \t8\t\n",
       "215\t\n",
       "dossier : \t8\t\n",
       "215\t\n",
       "dossier : \t8\t\n",
       "215\t\n",
       "dossier : \t8\t\n",
       "215\t\n"
      ]
     },
     "execution_count": 32,
     "metadata": {},
     "output_type": "execute_result"
    },
    {
     "data": {
      "text/plain": [
       "dossier : \t8\t\n",
       "215\t\n",
       "dossier : \t8\t\n",
       "215\t\n",
       "dossier : \t8\t\n",
       "215\t\n",
       "dossier : \t8\t\n",
       "215\t\n"
      ]
     },
     "execution_count": 32,
     "metadata": {},
     "output_type": "execute_result"
    },
    {
     "data": {
      "text/plain": [
       "dossier : \t8\t\n",
       "215\t\n",
       "dossier : \t8\t\n",
       "215\t\n",
       "dossier : \t8\t\n",
       "215\t\n",
       "dossier : \t8\t\n",
       "215\t\n",
       "dossier : \t8\t\n",
       "215\t\n"
      ]
     },
     "execution_count": 32,
     "metadata": {},
     "output_type": "execute_result"
    },
    {
     "data": {
      "text/plain": [
       "dossier : \t8\t\n",
       "215\t\n",
       "dossier : \t8\t\n",
       "215\t\n",
       "dossier : \t8\t\n",
       "215\t\n"
      ]
     },
     "execution_count": 32,
     "metadata": {},
     "output_type": "execute_result"
    },
    {
     "data": {
      "text/plain": [
       "dossier : \t8\t\n",
       "215\t\n",
       "dossier : \t8\t\n",
       "215\t\n",
       "dossier : \t8\t\n",
       "215\t\n"
      ]
     },
     "execution_count": 32,
     "metadata": {},
     "output_type": "execute_result"
    },
    {
     "data": {
      "text/plain": [
       "dossier : \t8\t\n",
       "215\t\n",
       "dossier : \t8\t\n",
       "215\t\n",
       "dossier : \t8\t\n",
       "215\t\n",
       "dossier : \t8\t\n",
       "215\t\n",
       "dossier : \t8\t\n",
       "215\t\n"
      ]
     },
     "execution_count": 32,
     "metadata": {},
     "output_type": "execute_result"
    },
    {
     "data": {
      "text/plain": [
       "dossier : \t8\t\n",
       "215\t\n",
       "dossier : \t8\t\n",
       "215\t\n",
       "dossier : \t8\t\n",
       "215\t\n",
       "dossier : \t8\t\n",
       "215\t\n"
      ]
     },
     "execution_count": 32,
     "metadata": {},
     "output_type": "execute_result"
    },
    {
     "data": {
      "text/plain": [
       "dossier : \t8\t\n",
       "215\t\n",
       "dossier : \t8\t\n",
       "215\t\n",
       "dossier : \t8\t\n",
       "215\t\n"
      ]
     },
     "execution_count": 32,
     "metadata": {},
     "output_type": "execute_result"
    },
    {
     "data": {
      "text/plain": [
       "dossier : \t8\t\n",
       "215\t\n",
       "dossier : \t8\t\n",
       "215\t\n",
       "dossier : \t8\t\n",
       "215\t\n"
      ]
     },
     "execution_count": 32,
     "metadata": {},
     "output_type": "execute_result"
    },
    {
     "data": {
      "text/plain": [
       "dossier : \t8\t\n",
       "215\t\n",
       "dossier : \t8\t\n",
       "215\t\n",
       "dossier : \t8\t\n",
       "215\t\n"
      ]
     },
     "execution_count": 32,
     "metadata": {},
     "output_type": "execute_result"
    },
    {
     "data": {
      "text/plain": [
       "dossier : \t8\t\n",
       "215\t\n",
       "dossier : \t8\t\n",
       "215\t\n",
       "dossier : \t8\t\n",
       "215\t\n",
       "dossier : \t8\t\n",
       "215\t\n",
       "dossier : \t8\t\n",
       "215\t\n"
      ]
     },
     "execution_count": 32,
     "metadata": {},
     "output_type": "execute_result"
    },
    {
     "data": {
      "text/plain": [
       "dossier : \t8\t\n",
       "215\t\n",
       "dossier : \t8\t\n",
       "215\t\n",
       "dossier : \t8\t\n",
       "215\t\n",
       "dossier : \t8\t\n",
       "215\t\n",
       "dossier : \t8\t\n",
       "215\t\n"
      ]
     },
     "execution_count": 32,
     "metadata": {},
     "output_type": "execute_result"
    },
    {
     "data": {
      "text/plain": [
       "dossier : \t8\t\n",
       "215\t\n",
       "dossier : \t8\t\n",
       "215\t\n"
      ]
     },
     "execution_count": 32,
     "metadata": {},
     "output_type": "execute_result"
    },
    {
     "data": {
      "text/plain": [
       "dossier : \t9\t\n",
       "164\t\n"
      ]
     },
     "execution_count": 32,
     "metadata": {},
     "output_type": "execute_result"
    },
    {
     "data": {
      "text/plain": [
       "dossier : \t9\t\n",
       "164\t\n",
       "dossier : \t9\t\n",
       "164\t\n",
       "dossier : \t9\t\n",
       "164\t\n",
       "dossier : \t9\t\n",
       "164\t\n"
      ]
     },
     "execution_count": 32,
     "metadata": {},
     "output_type": "execute_result"
    },
    {
     "data": {
      "text/plain": [
       "dossier : \t9\t\n",
       "164\t\n",
       "dossier : \t9\t\n",
       "164\t\n",
       "dossier : \t9\t\n",
       "164\t\n",
       "dossier : \t9\t\n",
       "164\t\n"
      ]
     },
     "execution_count": 32,
     "metadata": {},
     "output_type": "execute_result"
    },
    {
     "data": {
      "text/plain": [
       "dossier : \t9\t\n",
       "164\t\n",
       "dossier : \t9\t\n",
       "164\t\n",
       "dossier : \t9\t\n",
       "164\t\n",
       "dossier : \t9\t\n",
       "164\t\n"
      ]
     },
     "execution_count": 32,
     "metadata": {},
     "output_type": "execute_result"
    },
    {
     "data": {
      "text/plain": [
       "dossier : \t9\t\n",
       "164\t\n",
       "dossier : \t9\t\n",
       "164\t\n",
       "dossier : \t9\t\n",
       "164\t\n",
       "dossier : \t9\t\n",
       "164\t\n",
       "dossier : \t9\t\n",
       "164\t\n"
      ]
     },
     "execution_count": 32,
     "metadata": {},
     "output_type": "execute_result"
    },
    {
     "data": {
      "text/plain": [
       "dossier : \t9\t\n",
       "164\t\n",
       "dossier : \t9\t\n",
       "164\t\n",
       "dossier : \t9\t\n",
       "164\t\n",
       "dossier : \t9\t\n",
       "164\t\n"
      ]
     },
     "execution_count": 32,
     "metadata": {},
     "output_type": "execute_result"
    },
    {
     "data": {
      "text/plain": [
       "dossier : \t9\t\n",
       "164\t\n",
       "dossier : \t9\t\n",
       "164\t\n",
       "dossier : \t9\t\n",
       "164\t\n",
       "dossier : \t9\t\n",
       "164\t\n",
       "dossier : \t9\t\n",
       "164\t\n"
      ]
     },
     "execution_count": 32,
     "metadata": {},
     "output_type": "execute_result"
    },
    {
     "data": {
      "text/plain": [
       "dossier : \t9\t\n",
       "164\t\n",
       "dossier : \t9\t\n",
       "164\t\n",
       "dossier : \t9\t\n",
       "164\t\n",
       "dossier : \t9\t\n",
       "164\t\n"
      ]
     },
     "execution_count": 32,
     "metadata": {},
     "output_type": "execute_result"
    },
    {
     "data": {
      "text/plain": [
       "dossier : \t9\t\n",
       "164\t\n",
       "dossier : \t9\t\n",
       "164\t\n",
       "dossier : \t9\t\n",
       "164\t\n",
       "dossier : \t9\t\n",
       "164\t\n"
      ]
     },
     "execution_count": 32,
     "metadata": {},
     "output_type": "execute_result"
    },
    {
     "data": {
      "text/plain": [
       "dossier : \t9\t\n",
       "164\t\n",
       "dossier : \t9\t\n",
       "164\t\n",
       "dossier : \t9\t\n",
       "164\t\n",
       "dossier : \t9\t\n",
       "164\t\n"
      ]
     },
     "execution_count": 32,
     "metadata": {},
     "output_type": "execute_result"
    },
    {
     "data": {
      "text/plain": [
       "dossier : \t9\t\n",
       "164\t\n",
       "dossier : \t9\t\n",
       "164\t\n",
       "dossier : \t9\t\n",
       "164\t\n",
       "dossier : \t9\t\n",
       "164\t\n"
      ]
     },
     "execution_count": 32,
     "metadata": {},
     "output_type": "execute_result"
    },
    {
     "data": {
      "text/plain": [
       "dossier : \t9\t\n",
       "164\t\n",
       "dossier : \t9\t\n",
       "164\t\n",
       "dossier : \t9\t\n",
       "164\t\n",
       "dossier : \t9\t\n",
       "164\t\n"
      ]
     },
     "execution_count": 32,
     "metadata": {},
     "output_type": "execute_result"
    },
    {
     "data": {
      "text/plain": [
       "dossier : \t9\t\n",
       "164\t\n",
       "dossier : \t9\t\n",
       "164\t\n",
       "dossier : \t9\t\n",
       "164\t\n"
      ]
     },
     "execution_count": 32,
     "metadata": {},
     "output_type": "execute_result"
    },
    {
     "data": {
      "text/plain": [
       "dossier : \t9\t\n",
       "164\t\n",
       "dossier : \t9\t\n",
       "164\t\n",
       "dossier : \t9\t\n",
       "164\t\n",
       "dossier : \t9\t\n",
       "164\t\n",
       "dossier : \t9\t\n",
       "164\t\n"
      ]
     },
     "execution_count": 32,
     "metadata": {},
     "output_type": "execute_result"
    },
    {
     "data": {
      "text/plain": [
       "dossier : \t9\t\n",
       "164\t\n",
       "dossier : \t9\t\n",
       "164\t\n",
       "dossier : \t9\t\n",
       "164\t\n",
       "dossier : \t9\t\n",
       "164\t\n"
      ]
     },
     "execution_count": 32,
     "metadata": {},
     "output_type": "execute_result"
    },
    {
     "data": {
      "text/plain": [
       "dossier : \t9\t\n",
       "164\t\n",
       "dossier : \t9\t\n",
       "164\t\n",
       "dossier : \t9\t\n",
       "164\t\n",
       "dossier : \t9\t\n",
       "164\t\n",
       "dossier : \t9\t\n",
       "164\t\n"
      ]
     },
     "execution_count": 32,
     "metadata": {},
     "output_type": "execute_result"
    },
    {
     "data": {
      "text/plain": [
       "dossier : \t9\t\n",
       "164\t\n",
       "dossier : \t9\t\n",
       "164\t\n",
       "dossier : \t9\t\n",
       "164\t\n",
       "dossier : \t9\t\n",
       "164\t\n"
      ]
     },
     "execution_count": 32,
     "metadata": {},
     "output_type": "execute_result"
    },
    {
     "data": {
      "text/plain": [
       "dossier : \t9\t\n",
       "164\t\n",
       "dossier : \t9\t\n",
       "164\t\n",
       "dossier : \t9\t\n",
       "164\t\n",
       "dossier : \t9\t\n",
       "164\t\n"
      ]
     },
     "execution_count": 32,
     "metadata": {},
     "output_type": "execute_result"
    },
    {
     "data": {
      "text/plain": [
       "dossier : \t9\t\n",
       "164\t\n",
       "dossier : \t9\t\n",
       "164\t\n",
       "dossier : \t9\t\n",
       "164\t\n",
       "dossier : \t9\t\n",
       "164\t\n",
       "dossier : \t9\t\n",
       "164\t\n"
      ]
     },
     "execution_count": 32,
     "metadata": {},
     "output_type": "execute_result"
    },
    {
     "data": {
      "text/plain": [
       "dossier : \t9\t\n",
       "164\t\n",
       "dossier : \t9\t\n",
       "164\t\n",
       "dossier : \t9\t\n",
       "164\t\n",
       "dossier : \t9\t\n",
       "164\t\n"
      ]
     },
     "execution_count": 32,
     "metadata": {},
     "output_type": "execute_result"
    },
    {
     "data": {
      "text/plain": [
       "dossier : \t9\t\n",
       "164\t\n",
       "dossier : \t9\t\n",
       "164\t\n",
       "dossier : \t9\t\n",
       "164\t\n",
       "dossier : \t9\t\n",
       "164\t\n"
      ]
     },
     "execution_count": 32,
     "metadata": {},
     "output_type": "execute_result"
    },
    {
     "data": {
      "text/plain": [
       "dossier : \t9\t\n",
       "164\t\n",
       "dossier : \t9\t\n",
       "164\t\n",
       "dossier : \t9\t\n",
       "164\t\n"
      ]
     },
     "execution_count": 32,
     "metadata": {},
     "output_type": "execute_result"
    },
    {
     "data": {
      "text/plain": [
       "dossier : \t9\t\n",
       "164\t\n",
       "dossier : \t9\t\n",
       "164\t\n",
       "dossier : \t9\t\n",
       "164\t\n",
       "dossier : \t9\t\n",
       "164\t\n"
      ]
     },
     "execution_count": 32,
     "metadata": {},
     "output_type": "execute_result"
    },
    {
     "data": {
      "text/plain": [
       "dossier : \t9\t\n",
       "164\t\n",
       "dossier : \t9\t\n",
       "164\t\n",
       "dossier : \t9\t\n",
       "164\t\n",
       "dossier : \t9\t\n",
       "164\t\n"
      ]
     },
     "execution_count": 32,
     "metadata": {},
     "output_type": "execute_result"
    },
    {
     "data": {
      "text/plain": [
       "dossier : \t9\t\n",
       "164\t\n",
       "dossier : \t9\t\n",
       "164\t\n",
       "dossier : \t9\t\n",
       "164\t\n",
       "dossier : \t9\t\n",
       "164\t\n"
      ]
     },
     "execution_count": 32,
     "metadata": {},
     "output_type": "execute_result"
    },
    {
     "data": {
      "text/plain": [
       "dossier : \t9\t\n",
       "164\t\n",
       "dossier : \t9\t\n",
       "164\t\n",
       "dossier : \t9\t\n",
       "164\t\n",
       "dossier : \t9\t\n",
       "164\t\n",
       "dossier : \t9\t\n",
       "164\t\n"
      ]
     },
     "execution_count": 32,
     "metadata": {},
     "output_type": "execute_result"
    },
    {
     "data": {
      "text/plain": [
       "dossier : \t9\t\n",
       "164\t\n",
       "dossier : \t9\t\n",
       "164\t\n",
       "dossier : \t9\t\n",
       "164\t\n",
       "dossier : \t9\t\n",
       "164\t\n"
      ]
     },
     "execution_count": 32,
     "metadata": {},
     "output_type": "execute_result"
    },
    {
     "data": {
      "text/plain": [
       "dossier : \t9\t\n",
       "164\t\n",
       "dossier : \t9\t\n",
       "164\t\n"
      ]
     },
     "execution_count": 32,
     "metadata": {},
     "output_type": "execute_result"
    },
    {
     "data": {
      "text/plain": [
       "dossier : \t9\t\n",
       "164\t\n",
       "dossier : \t9\t\n",
       "164\t\n",
       "dossier : \t9\t\n",
       "164\t\n",
       "dossier : \t9\t\n",
       "164\t\n"
      ]
     },
     "execution_count": 32,
     "metadata": {},
     "output_type": "execute_result"
    },
    {
     "data": {
      "text/plain": [
       "dossier : \t9\t\n",
       "164\t\n",
       "dossier : \t9\t\n",
       "164\t\n",
       "dossier : \t9\t\n",
       "164\t\n"
      ]
     },
     "execution_count": 32,
     "metadata": {},
     "output_type": "execute_result"
    },
    {
     "data": {
      "text/plain": [
       "dossier : \t9\t\n",
       "164\t\n",
       "dossier : \t9\t\n",
       "164\t\n",
       "dossier : \t9\t\n",
       "164\t\n"
      ]
     },
     "execution_count": 32,
     "metadata": {},
     "output_type": "execute_result"
    },
    {
     "data": {
      "text/plain": [
       "dossier : \t9\t\n",
       "164\t\n",
       "dossier : \t9\t\n",
       "164\t\n",
       "dossier : \t9\t\n",
       "164\t\n",
       "dossier : \t9\t\n",
       "164\t\n"
      ]
     },
     "execution_count": 32,
     "metadata": {},
     "output_type": "execute_result"
    },
    {
     "data": {
      "text/plain": [
       "dossier : \t9\t\n",
       "164\t\n",
       "dossier : \t9\t\n",
       "164\t\n",
       "dossier : \t9\t\n",
       "164\t\n",
       "dossier : \t9\t\n",
       "164\t\n",
       "dossier : \t9\t\n",
       "164\t\n"
      ]
     },
     "execution_count": 32,
     "metadata": {},
     "output_type": "execute_result"
    },
    {
     "data": {
      "text/plain": [
       "dossier : \t9\t\n",
       "164\t\n",
       "dossier : \t9\t\n",
       "164\t\n",
       "dossier : \t9\t\n",
       "164\t\n",
       "dossier : \t9\t\n",
       "164\t\n",
       "dossier : \t9\t\n",
       "164\t\n"
      ]
     },
     "execution_count": 32,
     "metadata": {},
     "output_type": "execute_result"
    },
    {
     "data": {
      "text/plain": [
       "dossier : \t9\t\n",
       "164\t\n",
       "dossier : \t9\t\n",
       "164\t\n",
       "dossier : \t9\t\n",
       "164\t\n",
       "dossier : \t9\t\n",
       "164\t\n"
      ]
     },
     "execution_count": 32,
     "metadata": {},
     "output_type": "execute_result"
    },
    {
     "data": {
      "text/plain": [
       "dossier : \t9\t\n",
       "164\t\n",
       "dossier : \t9\t\n",
       "164\t\n",
       "dossier : \t9\t\n",
       "164\t\n",
       "dossier : \t9\t\n",
       "164\t\n",
       "dossier : \t9\t\n",
       "164\t\n"
      ]
     },
     "execution_count": 32,
     "metadata": {},
     "output_type": "execute_result"
    },
    {
     "data": {
      "text/plain": [
       "dossier : \t9\t\n",
       "164\t\n",
       "dossier : \t9\t\n",
       "164\t\n",
       "dossier : \t9\t\n",
       "164\t\n",
       "dossier : \t9\t\n",
       "164\t\n",
       "dossier : \t9\t\n",
       "164\t\n"
      ]
     },
     "execution_count": 32,
     "metadata": {},
     "output_type": "execute_result"
    },
    {
     "data": {
      "text/plain": [
       "dossier : \t9\t\n",
       "164\t\n",
       "dossier : \t9\t\n",
       "164\t\n",
       "dossier : \t9\t\n",
       "164\t\n",
       "dossier : \t9\t\n",
       "164\t\n"
      ]
     },
     "execution_count": 32,
     "metadata": {},
     "output_type": "execute_result"
    },
    {
     "data": {
      "text/plain": [
       "dossier : \t9\t\n",
       "164\t\n",
       "dossier : \t9\t\n",
       "164\t\n",
       "dossier : \t9\t\n",
       "164\t\n",
       "dossier : \t9\t\n",
       "164\t\n"
      ]
     },
     "execution_count": 32,
     "metadata": {},
     "output_type": "execute_result"
    },
    {
     "data": {
      "text/plain": [
       "dossier : \t9\t\n",
       "164\t\n",
       "dossier : \t9\t\n",
       "164\t\n",
       "dossier : \t9\t\n",
       "164\t\n",
       "dossier : \t9\t\n",
       "164\t\n"
      ]
     },
     "execution_count": 32,
     "metadata": {},
     "output_type": "execute_result"
    },
    {
     "data": {
      "text/plain": [
       "dossier : \t9\t\n",
       "164\t\n",
       "dossier : \t9\t\n",
       "164\t\n",
       "dossier : \t9\t\n",
       "164\t\n"
      ]
     },
     "execution_count": 32,
     "metadata": {},
     "output_type": "execute_result"
    },
    {
     "data": {
      "text/plain": [
       "dossier : \t10\t\n",
       "153\t\n",
       "dossier : \t10\t\n",
       "153\t\n"
      ]
     },
     "execution_count": 32,
     "metadata": {},
     "output_type": "execute_result"
    },
    {
     "data": {
      "text/plain": [
       "dossier : \t10\t\n",
       "153\t\n",
       "dossier : \t10\t\n",
       "153\t\n",
       "dossier : \t10\t\n",
       "153\t\n",
       "dossier : \t10\t\n",
       "153\t\n"
      ]
     },
     "execution_count": 32,
     "metadata": {},
     "output_type": "execute_result"
    },
    {
     "data": {
      "text/plain": [
       "dossier : \t10\t\n",
       "153\t\n",
       "dossier : \t10\t\n",
       "153\t\n",
       "dossier : \t10\t\n",
       "153\t\n",
       "dossier : \t10\t\n",
       "153\t\n"
      ]
     },
     "execution_count": 32,
     "metadata": {},
     "output_type": "execute_result"
    },
    {
     "data": {
      "text/plain": [
       "dossier : \t10\t\n",
       "153\t\n",
       "dossier : \t10\t\n",
       "153\t\n",
       "dossier : \t10\t\n",
       "153\t\n",
       "dossier : \t10\t\n",
       "153\t\n"
      ]
     },
     "execution_count": 32,
     "metadata": {},
     "output_type": "execute_result"
    },
    {
     "data": {
      "text/plain": [
       "dossier : \t10\t\n",
       "153\t\n",
       "dossier : \t10\t\n",
       "153\t\n",
       "dossier : \t10\t\n",
       "153\t\n",
       "dossier : \t10\t\n",
       "153\t\n"
      ]
     },
     "execution_count": 32,
     "metadata": {},
     "output_type": "execute_result"
    },
    {
     "data": {
      "text/plain": [
       "dossier : \t10\t\n",
       "153\t\n",
       "dossier : \t10\t\n",
       "153\t\n",
       "dossier : \t10\t\n",
       "153\t\n",
       "dossier : \t10\t\n",
       "153\t\n",
       "dossier : \t10\t"
      ]
     },
     "execution_count": 32,
     "metadata": {},
     "output_type": "execute_result"
    },
    {
     "data": {
      "text/plain": [
       "\n",
       "153\t\n",
       "dossier : \t10\t\n",
       "153\t\n",
       "dossier : \t10\t\n",
       "153\t\n",
       "dossier : \t10\t\n",
       "153\t\n",
       "dossier : \t10\t\n",
       "153\t\n"
      ]
     },
     "execution_count": 32,
     "metadata": {},
     "output_type": "execute_result"
    },
    {
     "data": {
      "text/plain": [
       "dossier : \t10\t\n",
       "153\t\n",
       "dossier : \t10\t\n",
       "153\t\n",
       "dossier : \t10\t\n",
       "153\t\n"
      ]
     },
     "execution_count": 32,
     "metadata": {},
     "output_type": "execute_result"
    },
    {
     "data": {
      "text/plain": [
       "dossier : \t10\t\n",
       "153\t\n",
       "dossier : \t10\t\n",
       "153\t\n",
       "dossier : \t10\t\n",
       "153\t\n"
      ]
     },
     "execution_count": 32,
     "metadata": {},
     "output_type": "execute_result"
    },
    {
     "data": {
      "text/plain": [
       "dossier : \t10\t\n",
       "153\t\n",
       "dossier : \t10\t\n",
       "153\t\n",
       "dossier : \t10\t\n",
       "153\t\n",
       "dossier : \t10\t\n",
       "153\t\n",
       "dossier : \t10\t\n",
       "153\t\n",
       "dossier : \t10\t"
      ]
     },
     "execution_count": 32,
     "metadata": {},
     "output_type": "execute_result"
    },
    {
     "data": {
      "text/plain": [
       "\n",
       "153\t\n",
       "dossier : \t10\t\n",
       "153\t\n",
       "dossier : \t10\t\n",
       "153\t\n",
       "dossier : \t10\t\n",
       "153\t\n",
       "dossier : \t10\t\n",
       "153\t\n",
       "dossier : \t10\t\n",
       "153\t\n"
      ]
     },
     "execution_count": 32,
     "metadata": {},
     "output_type": "execute_result"
    },
    {
     "data": {
      "text/plain": [
       "dossier : \t10\t\n",
       "153\t\n",
       "dossier : \t10\t\n",
       "153\t\n",
       "dossier : \t10\t\n",
       "153\t\n",
       "dossier : \t10\t\n",
       "153\t\n",
       "dossier : \t10\t\n",
       "153\t\n"
      ]
     },
     "execution_count": 32,
     "metadata": {},
     "output_type": "execute_result"
    },
    {
     "data": {
      "text/plain": [
       "dossier : \t10\t\n",
       "153\t\n",
       "dossier : \t10\t\n",
       "153\t\n",
       "dossier : \t10\t\n",
       "153\t\n",
       "dossier : \t10\t\n",
       "153\t\n",
       "dossier : \t10\t\n",
       "153\t\n"
      ]
     },
     "execution_count": 32,
     "metadata": {},
     "output_type": "execute_result"
    },
    {
     "data": {
      "text/plain": [
       "dossier : \t10\t\n",
       "153\t\n",
       "dossier : \t10\t\n",
       "153\t\n",
       "dossier : \t10\t\n",
       "153\t\n",
       "dossier : \t10\t\n",
       "153\t\n",
       "dossier : \t10\t\n",
       "153\t\n"
      ]
     },
     "execution_count": 32,
     "metadata": {},
     "output_type": "execute_result"
    },
    {
     "data": {
      "text/plain": [
       "dossier : \t10\t\n",
       "153\t\n",
       "dossier : \t10\t\n",
       "153\t\n",
       "dossier : \t10\t\n",
       "153\t\n",
       "dossier : \t10\t\n",
       "153\t\n",
       "dossier : \t10\t\n",
       "153\t\n",
       "dossier : \t10\t\n",
       "153\t\n"
      ]
     },
     "execution_count": 32,
     "metadata": {},
     "output_type": "execute_result"
    },
    {
     "data": {
      "text/plain": [
       "dossier : \t10\t\n",
       "153\t\n",
       "dossier : \t10\t\n",
       "153\t\n",
       "dossier : \t10\t\n",
       "153\t\n",
       "dossier : \t10\t\n",
       "153\t\n",
       "dossier : \t10\t\n",
       "153\t\n",
       "dossier : \t10\t\n",
       "153\t\n"
      ]
     },
     "execution_count": 32,
     "metadata": {},
     "output_type": "execute_result"
    },
    {
     "data": {
      "text/plain": [
       "dossier : \t10\t\n",
       "153\t\n",
       "dossier : \t10\t\n",
       "153\t\n",
       "dossier : \t10\t\n",
       "153\t\n",
       "dossier : \t10\t\n",
       "153\t\n",
       "dossier : \t10\t\n",
       "153\t\n"
      ]
     },
     "execution_count": 32,
     "metadata": {},
     "output_type": "execute_result"
    },
    {
     "data": {
      "text/plain": [
       "dossier : \t10\t\n",
       "153\t\n",
       "dossier : \t10\t\n",
       "153\t\n",
       "dossier : \t10\t\n",
       "153\t\n",
       "dossier : \t10\t\n",
       "153\t\n"
      ]
     },
     "execution_count": 32,
     "metadata": {},
     "output_type": "execute_result"
    },
    {
     "data": {
      "text/plain": [
       "dossier : \t10\t\n",
       "153\t\n",
       "dossier : \t10\t\n",
       "153\t\n",
       "dossier : \t10\t\n",
       "153\t\n",
       "dossier : \t10\t\n",
       "153\t\n",
       "dossier : \t10\t\n",
       "153\t\n"
      ]
     },
     "execution_count": 32,
     "metadata": {},
     "output_type": "execute_result"
    },
    {
     "data": {
      "text/plain": [
       "dossier : \t10\t\n",
       "153\t\n",
       "dossier : \t10\t\n",
       "153\t\n",
       "dossier : \t10\t\n",
       "153\t\n"
      ]
     },
     "execution_count": 32,
     "metadata": {},
     "output_type": "execute_result"
    },
    {
     "data": {
      "text/plain": [
       "dossier : \t10\t\n",
       "153\t\n",
       "dossier : \t10\t\n",
       "153\t\n",
       "dossier : \t10\t\n",
       "153\t\n",
       "dossier : \t10\t\n",
       "153\t\n"
      ]
     },
     "execution_count": 32,
     "metadata": {},
     "output_type": "execute_result"
    },
    {
     "data": {
      "text/plain": [
       "dossier : \t10\t\n",
       "153\t\n",
       "dossier : \t10\t\n",
       "153\t\n",
       "dossier : \t10\t\n",
       "153\t\n",
       "dossier : \t10\t\n",
       "153\t\n",
       "dossier : \t10\t\n",
       "153\t\n",
       "dossier : \t10\t\n",
       "153\t\n"
      ]
     },
     "execution_count": 32,
     "metadata": {},
     "output_type": "execute_result"
    },
    {
     "data": {
      "text/plain": [
       "dossier : \t10\t\n",
       "153\t\n",
       "dossier : \t10\t\n",
       "153\t\n",
       "dossier : \t10\t\n",
       "153\t\n",
       "dossier : \t10\t\n",
       "153\t\n",
       "dossier : \t10\t\n",
       "153\t\n"
      ]
     },
     "execution_count": 32,
     "metadata": {},
     "output_type": "execute_result"
    },
    {
     "data": {
      "text/plain": [
       "dossier : \t10\t\n",
       "153\t\n",
       "dossier : \t10\t\n",
       "153\t\n",
       "dossier : \t10\t\n",
       "153\t\n",
       "dossier : \t10\t\n",
       "153\t\n",
       "dossier : \t10\t\n",
       "153\t\n"
      ]
     },
     "execution_count": 32,
     "metadata": {},
     "output_type": "execute_result"
    },
    {
     "data": {
      "text/plain": [
       "dossier : \t10\t\n",
       "153\t\n",
       "dossier : \t10\t\n",
       "153\t\n",
       "dossier : \t10\t\n",
       "153\t\n",
       "dossier : \t10\t\n",
       "153\t\n",
       "dossier : \t10\t\n",
       "153\t\n",
       "dossier : \t10\t\n",
       "153\t\n"
      ]
     },
     "execution_count": 32,
     "metadata": {},
     "output_type": "execute_result"
    },
    {
     "data": {
      "text/plain": [
       "dossier : \t10\t\n",
       "153\t\n",
       "dossier : \t10\t\n",
       "153\t\n",
       "dossier : \t10\t\n",
       "153\t\n",
       "dossier : \t10\t\n",
       "153\t\n",
       "dossier : \t10\t\n",
       "153\t\n"
      ]
     },
     "execution_count": 32,
     "metadata": {},
     "output_type": "execute_result"
    },
    {
     "data": {
      "text/plain": [
       "dossier : \t10\t\n",
       "153\t\n",
       "dossier : \t10\t\n",
       "153\t\n",
       "dossier : \t10\t\n",
       "153\t\n",
       "dossier : \t10\t\n",
       "153\t\n"
      ]
     },
     "execution_count": 32,
     "metadata": {},
     "output_type": "execute_result"
    },
    {
     "data": {
      "text/plain": [
       "dossier : \t10\t\n",
       "153\t\n",
       "dossier : \t10\t\n",
       "153\t\n",
       "dossier : \t10\t\n",
       "153\t\n",
       "dossier : \t10\t\n",
       "153\t\n",
       "dossier : \t10\t\n",
       "153\t\n"
      ]
     },
     "execution_count": 32,
     "metadata": {},
     "output_type": "execute_result"
    },
    {
     "data": {
      "text/plain": [
       "dossier : \t10\t\n",
       "153\t\n",
       "dossier : \t10\t\n",
       "153\t\n",
       "dossier : \t10\t\n",
       "153\t\n",
       "dossier : \t10\t\n",
       "153\t\n"
      ]
     },
     "execution_count": 32,
     "metadata": {},
     "output_type": "execute_result"
    },
    {
     "data": {
      "text/plain": [
       "dossier : \t10\t\n",
       "153\t\n",
       "dossier : \t10\t\n",
       "153\t\n",
       "dossier : \t10\t\n",
       "153\t\n",
       "dossier : \t10\t\n",
       "153\t\n"
      ]
     },
     "execution_count": 32,
     "metadata": {},
     "output_type": "execute_result"
    },
    {
     "data": {
      "text/plain": [
       "dossier : \t10\t\n",
       "153\t\n",
       "dossier : \t10\t\n",
       "153\t\n",
       "dossier : \t10\t\n",
       "153\t\n",
       "dossier : \t10\t\n",
       "153\t\n"
      ]
     },
     "execution_count": 32,
     "metadata": {},
     "output_type": "execute_result"
    },
    {
     "data": {
      "text/plain": [
       "dossier : \t10\t\n",
       "153\t\n",
       "dossier : \t10\t\n",
       "153\t\n",
       "dossier : \t10\t\n",
       "153\t\n",
       "dossier : \t10\t\n",
       "153\t\n",
       "dossier : \t10\t\n",
       "153\t\n"
      ]
     },
     "execution_count": 32,
     "metadata": {},
     "output_type": "execute_result"
    },
    {
     "data": {
      "text/plain": [
       "dossier : \t10\t\n",
       "153\t\n",
       "dossier : \t10\t\n",
       "153\t\n",
       "dossier : \t10\t\n",
       "153\t\n",
       "dossier : \t10\t\n",
       "153\t\n"
      ]
     },
     "execution_count": 32,
     "metadata": {},
     "output_type": "execute_result"
    },
    {
     "data": {
      "text/plain": [
       "dossier : \t10\t\n",
       "153\t\n",
       "dossier : \t10\t\n",
       "153\t\n",
       "dossier : \t10\t\n",
       "153\t\n"
      ]
     },
     "execution_count": 32,
     "metadata": {},
     "output_type": "execute_result"
    },
    {
     "data": {
      "text/plain": [
       "dossier : \t10\t\n",
       "153\t\n"
      ]
     },
     "execution_count": 32,
     "metadata": {},
     "output_type": "execute_result"
    },
    {
     "data": {
      "text/plain": [
       "dossier : \t11\t\n",
       "190\t\n",
       "dossier : \t11\t\n",
       "190\t\n",
       "dossier : \t11\t\n",
       "190\t\n"
      ]
     },
     "execution_count": 32,
     "metadata": {},
     "output_type": "execute_result"
    },
    {
     "data": {
      "text/plain": [
       "dossier : \t11\t\n",
       "190\t\n",
       "dossier : \t11\t\n",
       "190\t\n",
       "dossier : \t11\t\n",
       "190\t\n",
       "dossier : \t11\t\n",
       "190\t\n"
      ]
     },
     "execution_count": 32,
     "metadata": {},
     "output_type": "execute_result"
    },
    {
     "data": {
      "text/plain": [
       "dossier : \t11\t\n",
       "190\t\n",
       "dossier : \t11\t\n",
       "190\t\n",
       "dossier : \t11\t\n",
       "190\t\n",
       "dossier : \t11\t\n",
       "190\t\n",
       "dossier : \t11\t\n",
       "190\t\n"
      ]
     },
     "execution_count": 32,
     "metadata": {},
     "output_type": "execute_result"
    },
    {
     "data": {
      "text/plain": [
       "dossier : \t11\t\n",
       "190\t\n",
       "dossier : \t11\t\n",
       "190\t\n",
       "dossier : \t11\t\n",
       "190\t\n",
       "dossier : \t11\t\n",
       "190\t\n"
      ]
     },
     "execution_count": 32,
     "metadata": {},
     "output_type": "execute_result"
    },
    {
     "data": {
      "text/plain": [
       "dossier : \t11\t\n",
       "190\t\n",
       "dossier : \t11\t\n",
       "190\t\n",
       "dossier : \t11\t\n",
       "190\t\n",
       "dossier : \t11\t\n",
       "190\t\n",
       "dossier : \t11\t\n",
       "190\t\n"
      ]
     },
     "execution_count": 32,
     "metadata": {},
     "output_type": "execute_result"
    },
    {
     "data": {
      "text/plain": [
       "dossier : \t11\t\n",
       "190\t\n",
       "dossier : \t11\t\n",
       "190\t\n",
       "dossier : \t11\t\n",
       "190\t\n",
       "dossier : \t11\t\n",
       "190\t\n",
       "dossier : \t11\t\n",
       "190\t\n"
      ]
     },
     "execution_count": 32,
     "metadata": {},
     "output_type": "execute_result"
    },
    {
     "data": {
      "text/plain": [
       "dossier : \t11\t\n",
       "190\t\n",
       "dossier : \t11\t\n",
       "190\t\n",
       "dossier : \t11\t\n",
       "190\t\n",
       "dossier : \t11\t\n",
       "190\t\n",
       "dossier : \t11\t\n",
       "190\t\n"
      ]
     },
     "execution_count": 32,
     "metadata": {},
     "output_type": "execute_result"
    },
    {
     "data": {
      "text/plain": [
       "dossier : \t11\t\n",
       "190\t\n",
       "dossier : \t11\t\n",
       "190\t\n",
       "dossier : \t11\t\n",
       "190\t\n",
       "dossier : \t11\t\n",
       "190\t\n"
      ]
     },
     "execution_count": 32,
     "metadata": {},
     "output_type": "execute_result"
    },
    {
     "data": {
      "text/plain": [
       "dossier : \t11\t\n",
       "190\t\n",
       "dossier : \t11\t\n",
       "190\t\n",
       "dossier : \t11\t\n",
       "190\t\n",
       "dossier : \t11\t\n",
       "190\t\n",
       "dossier : \t11\t\n",
       "190\t\n"
      ]
     },
     "execution_count": 32,
     "metadata": {},
     "output_type": "execute_result"
    },
    {
     "data": {
      "text/plain": [
       "dossier : \t11\t\n",
       "190\t\n",
       "dossier : \t11\t\n",
       "190\t\n",
       "dossier : \t11\t\n",
       "190\t\n",
       "dossier : \t11\t\n",
       "190\t\n",
       "dossier : \t11\t\n",
       "190\t\n"
      ]
     },
     "execution_count": 32,
     "metadata": {},
     "output_type": "execute_result"
    },
    {
     "data": {
      "text/plain": [
       "dossier : \t11\t\n",
       "190\t\n",
       "dossier : \t11\t\n",
       "190\t\n",
       "dossier : \t11\t\n",
       "190\t\n",
       "dossier : \t11\t\n",
       "190\t\n",
       "dossier : \t11\t\n",
       "190\t\n"
      ]
     },
     "execution_count": 32,
     "metadata": {},
     "output_type": "execute_result"
    },
    {
     "data": {
      "text/plain": [
       "dossier : \t11\t\n",
       "190\t\n",
       "dossier : \t11\t\n",
       "190\t\n",
       "dossier : \t11\t\n",
       "190\t\n",
       "dossier : \t11\t\n",
       "190\t\n",
       "dossier : \t11\t\n",
       "190\t\n"
      ]
     },
     "execution_count": 32,
     "metadata": {},
     "output_type": "execute_result"
    },
    {
     "data": {
      "text/plain": [
       "dossier : \t11\t\n",
       "190\t\n",
       "dossier : \t11\t\n",
       "190\t\n",
       "dossier : \t11\t\n",
       "190\t\n",
       "dossier : \t11\t\n",
       "190\t\n",
       "dossier : \t11\t\n",
       "190\t\n"
      ]
     },
     "execution_count": 32,
     "metadata": {},
     "output_type": "execute_result"
    },
    {
     "data": {
      "text/plain": [
       "dossier : \t11\t\n",
       "190\t\n",
       "dossier : \t11\t\n",
       "190\t\n",
       "dossier : \t11\t\n",
       "190\t\n",
       "dossier : \t11\t\n",
       "190\t\n"
      ]
     },
     "execution_count": 32,
     "metadata": {},
     "output_type": "execute_result"
    },
    {
     "data": {
      "text/plain": [
       "dossier : \t11\t\n",
       "190\t\n",
       "dossier : \t11\t\n",
       "190\t\n",
       "dossier : \t11\t\n",
       "190\t\n",
       "dossier : \t11\t\n",
       "190\t\n"
      ]
     },
     "execution_count": 32,
     "metadata": {},
     "output_type": "execute_result"
    },
    {
     "data": {
      "text/plain": [
       "dossier : \t11\t\n",
       "190\t\n",
       "dossier : \t11\t\n",
       "190\t\n",
       "dossier : \t11\t\n",
       "190\t\n",
       "dossier : \t11\t\n",
       "190\t\n"
      ]
     },
     "execution_count": 32,
     "metadata": {},
     "output_type": "execute_result"
    },
    {
     "data": {
      "text/plain": [
       "dossier : \t11\t\n",
       "190\t\n",
       "dossier : \t11\t\n",
       "190\t\n",
       "dossier : \t11\t\n",
       "190\t\n",
       "dossier : \t11\t\n",
       "190\t\n",
       "dossier : \t11\t\n",
       "190\t\n"
      ]
     },
     "execution_count": 32,
     "metadata": {},
     "output_type": "execute_result"
    },
    {
     "data": {
      "text/plain": [
       "dossier : \t11\t\n",
       "190\t\n",
       "dossier : \t11\t\n",
       "190\t\n",
       "dossier : \t11\t\n",
       "190\t\n"
      ]
     },
     "execution_count": 32,
     "metadata": {},
     "output_type": "execute_result"
    },
    {
     "data": {
      "text/plain": [
       "dossier : \t11\t\n",
       "190\t\n",
       "dossier : \t11\t\n",
       "190\t\n",
       "dossier : \t11\t\n",
       "190\t\n",
       "dossier : \t11\t\n",
       "190\t\n",
       "dossier : \t11\t\n",
       "190\t\n"
      ]
     },
     "execution_count": 32,
     "metadata": {},
     "output_type": "execute_result"
    },
    {
     "data": {
      "text/plain": [
       "dossier : \t11\t\n",
       "190\t\n",
       "dossier : \t11\t\n",
       "190\t\n",
       "dossier : \t11\t\n",
       "190\t\n",
       "dossier : \t11\t\n",
       "190\t\n",
       "dossier : \t11\t\n",
       "190\t\n"
      ]
     },
     "execution_count": 32,
     "metadata": {},
     "output_type": "execute_result"
    },
    {
     "data": {
      "text/plain": [
       "dossier : \t11\t\n",
       "190\t\n",
       "dossier : \t11\t\n",
       "190\t\n",
       "dossier : \t11\t\n",
       "190\t\n",
       "dossier : \t11\t\n",
       "190\t\n"
      ]
     },
     "execution_count": 32,
     "metadata": {},
     "output_type": "execute_result"
    },
    {
     "data": {
      "text/plain": [
       "dossier : \t11\t\n",
       "190\t\n",
       "dossier : \t11\t\n",
       "190\t\n"
      ]
     },
     "execution_count": 32,
     "metadata": {},
     "output_type": "execute_result"
    },
    {
     "data": {
      "text/plain": [
       "dossier : \t11\t\n",
       "190\t\n",
       "dossier : \t11\t\n",
       "190\t\n",
       "dossier : \t11\t\n",
       "190\t\n",
       "dossier : \t11\t\n",
       "190\t\n",
       "dossier : \t11\t\n",
       "190\t\n",
       "dossier : \t11\t\n",
       "190\t\n"
      ]
     },
     "execution_count": 32,
     "metadata": {},
     "output_type": "execute_result"
    },
    {
     "data": {
      "text/plain": [
       "dossier : \t11\t\n",
       "190\t\n",
       "dossier : \t11\t\n",
       "190\t\n",
       "dossier : \t11\t\n",
       "190\t\n",
       "dossier : \t11\t\n",
       "190\t\n",
       "dossier : \t11\t\n",
       "190\t\n"
      ]
     },
     "execution_count": 32,
     "metadata": {},
     "output_type": "execute_result"
    },
    {
     "data": {
      "text/plain": [
       "dossier : \t11\t\n",
       "190\t\n",
       "dossier : \t11\t\n",
       "190\t\n",
       "dossier : \t11\t\n",
       "190\t\n",
       "dossier : \t11\t\n",
       "190\t\n"
      ]
     },
     "execution_count": 32,
     "metadata": {},
     "output_type": "execute_result"
    },
    {
     "data": {
      "text/plain": [
       "dossier : \t11\t\n",
       "190\t\n",
       "dossier : \t11\t\n",
       "190\t\n",
       "dossier : \t11\t\n",
       "190\t\n",
       "dossier : \t11\t\n",
       "190\t\n",
       "dossier : \t11\t\n",
       "190\t\n",
       "dossier : \t11\t\n",
       "190\t\n"
      ]
     },
     "execution_count": 32,
     "metadata": {},
     "output_type": "execute_result"
    },
    {
     "data": {
      "text/plain": [
       "dossier : \t11\t\n",
       "190\t\n",
       "dossier : \t11\t\n",
       "190\t\n",
       "dossier : \t11\t\n",
       "190\t\n",
       "dossier : \t11\t\n",
       "190\t\n"
      ]
     },
     "execution_count": 32,
     "metadata": {},
     "output_type": "execute_result"
    },
    {
     "data": {
      "text/plain": [
       "dossier : \t11\t\n",
       "190\t\n",
       "dossier : \t11\t\n",
       "190\t\n",
       "dossier : \t11\t\n",
       "190\t\n",
       "dossier : \t11\t\n",
       "190\t\n",
       "dossier : \t11\t\n",
       "190\t\n",
       "dossier : \t11\t\n",
       "190\t\n"
      ]
     },
     "execution_count": 32,
     "metadata": {},
     "output_type": "execute_result"
    },
    {
     "data": {
      "text/plain": [
       "dossier : \t11\t\n",
       "190\t\n",
       "dossier : \t11\t\n",
       "190\t\n",
       "dossier : \t11\t\n",
       "190\t\n",
       "dossier : \t11\t\n",
       "190\t\n",
       "dossier : \t11\t\n",
       "190\t\n"
      ]
     },
     "execution_count": 32,
     "metadata": {},
     "output_type": "execute_result"
    },
    {
     "data": {
      "text/plain": [
       "dossier : \t11\t\n",
       "190\t\n",
       "dossier : \t11\t\n",
       "190\t\n",
       "dossier : \t11\t\n",
       "190\t\n",
       "dossier : \t11\t\n",
       "190\t\n",
       "dossier : \t11\t\n",
       "190\t\n"
      ]
     },
     "execution_count": 32,
     "metadata": {},
     "output_type": "execute_result"
    },
    {
     "data": {
      "text/plain": [
       "dossier : \t11\t\n",
       "190\t\n",
       "dossier : \t11\t\n",
       "190\t\n",
       "dossier : \t11\t\n",
       "190\t\n",
       "dossier : \t11\t\n",
       "190\t\n"
      ]
     },
     "execution_count": 32,
     "metadata": {},
     "output_type": "execute_result"
    },
    {
     "data": {
      "text/plain": [
       "dossier : \t11\t\n",
       "190\t\n",
       "dossier : \t11\t\n",
       "190\t\n",
       "dossier : \t11\t\n",
       "190\t\n"
      ]
     },
     "execution_count": 32,
     "metadata": {},
     "output_type": "execute_result"
    },
    {
     "data": {
      "text/plain": [
       "dossier : \t11\t\n",
       "190\t\n",
       "dossier : \t11\t\n",
       "190\t\n",
       "dossier : \t11\t\n",
       "190\t\n",
       "dossier : \t11\t\n",
       "190\t\n",
       "dossier : \t11\t\n",
       "190\t\n"
      ]
     },
     "execution_count": 32,
     "metadata": {},
     "output_type": "execute_result"
    },
    {
     "data": {
      "text/plain": [
       "dossier : \t11\t\n",
       "190\t\n",
       "dossier : \t11\t\n",
       "190\t\n",
       "dossier : \t11\t\n",
       "190\t\n",
       "dossier : \t11\t\n",
       "190\t\n"
      ]
     },
     "execution_count": 32,
     "metadata": {},
     "output_type": "execute_result"
    },
    {
     "data": {
      "text/plain": [
       "dossier : \t11\t\n",
       "190\t\n",
       "dossier : \t11\t\n",
       "190\t\n",
       "dossier : \t11\t\n",
       "190\t\n",
       "dossier : \t11\t\n",
       "190\t\n"
      ]
     },
     "execution_count": 32,
     "metadata": {},
     "output_type": "execute_result"
    },
    {
     "data": {
      "text/plain": [
       "dossier : \t11\t\n",
       "190\t\n",
       "dossier : \t11\t\n",
       "190\t\n",
       "dossier : \t11\t\n",
       "190\t\n"
      ]
     },
     "execution_count": 32,
     "metadata": {},
     "output_type": "execute_result"
    },
    {
     "data": {
      "text/plain": [
       "dossier : \t11\t\n",
       "190\t\n",
       "dossier : \t11\t\n",
       "190\t\n",
       "dossier : \t11\t\n",
       "190\t\n",
       "dossier : \t11\t\n",
       "190\t\n",
       "dossier : \t11\t\n",
       "190\t\n",
       "dossier : \t11\t\n",
       "190\t\n"
      ]
     },
     "execution_count": 32,
     "metadata": {},
     "output_type": "execute_result"
    },
    {
     "data": {
      "text/plain": [
       "dossier : \t11\t\n",
       "190\t\n",
       "dossier : \t11\t\n",
       "190\t\n",
       "dossier : \t11\t\n",
       "190\t\n",
       "dossier : \t11\t\n",
       "190\t\n",
       "dossier : \t11\t\n"
      ]
     },
     "execution_count": 32,
     "metadata": {},
     "output_type": "execute_result"
    },
    {
     "data": {
      "text/plain": [
       "190\t\n",
       "dossier : \t11\t\n",
       "190\t\n",
       "dossier : \t11\t\n",
       "190\t\n",
       "dossier : \t11\t\n",
       "190\t\n",
       "dossier : \t11\t\n",
       "190\t\n"
      ]
     },
     "execution_count": 32,
     "metadata": {},
     "output_type": "execute_result"
    },
    {
     "data": {
      "text/plain": [
       "dossier : \t11\t\n",
       "190\t\n",
       "dossier : \t11\t\n",
       "190\t\n",
       "dossier : \t11\t\n",
       "190\t\n",
       "dossier : \t11\t\n",
       "190\t\n"
      ]
     },
     "execution_count": 32,
     "metadata": {},
     "output_type": "execute_result"
    },
    {
     "data": {
      "text/plain": [
       "dossier : \t11\t\n",
       "190\t\n",
       "dossier : \t11\t\n",
       "190\t\n",
       "dossier : \t11\t\n",
       "190\t\n",
       "dossier : \t11\t\n",
       "190\t\n"
      ]
     },
     "execution_count": 32,
     "metadata": {},
     "output_type": "execute_result"
    },
    {
     "data": {
      "text/plain": [
       "dossier : \t11\t\n",
       "190\t\n",
       "dossier : \t11\t\n",
       "190\t\n",
       "dossier : \t11\t\n",
       "190\t\n",
       "dossier : \t11\t\n",
       "190\t\n"
      ]
     },
     "execution_count": 32,
     "metadata": {},
     "output_type": "execute_result"
    },
    {
     "data": {
      "text/plain": [
       "dossier : \t11\t\n",
       "190\t\n",
       "dossier : \t11\t\n",
       "190\t\n",
       "dossier : \t11\t\n",
       "190\t\n"
      ]
     },
     "execution_count": 32,
     "metadata": {},
     "output_type": "execute_result"
    },
    {
     "data": {
      "text/plain": [
       "190\t\n"
      ]
     },
     "execution_count": 32,
     "metadata": {},
     "output_type": "execute_result"
    }
   ],
   "source": [
    "require 'torch'\n",
    "require 'xlua'\n",
    "require 'image'\n",
    "\n",
    "\n",
    "--classes={'bridge', 'building', 'city', 'eiffel_tower','elephant', 'landscape', 'lion', 'monkey', 'people', 'tower', 'water'}\n",
    "\n",
    "\n",
    "imagesAll = torch.Tensor(1721,3,64,64) \n",
    "labelsAll = torch.Tensor(1721)\n",
    "compteur = 0\n",
    "for dir in paths.iterdirs(\"./dataset/train/\") do\n",
    "    --print(dir)\n",
    "    compteur = compteur +1\n",
    "    files = {}\n",
    "    for file in paths.files(paths.concat('./dataset/train/', dir)) do\n",
    "       if file:find('JPEG' .. '$') then\n",
    "            --print(paths.concat(paths.concat('./dataset/train/',dir),file))\n",
    "          table.insert(files, paths.concat(paths.concat('./dataset/train/',dir), file))\n",
    "       end\n",
    "    end\n",
    "   \n",
    "    if #files == 0 then\n",
    "       error('given directory doesnt contain any files of type: ')\n",
    "    end\n",
    "\n",
    "\n",
    "    for i=1,(#files) do\n",
    "        print('dossier : ', compteur)\n",
    "        print(#files)\n",
    "        temp = image.load(files[i])\n",
    "        --print(files[i])\n",
    "        if (temp:size()[1]==3) then\n",
    "            imagesAll[i] = image.load(files[i]) \n",
    "            labelsAll[i] = compteur\n",
    "        end\n",
    "    end\n",
    "    collectgarbage()\n",
    "end\n",
    "print(#files)"
   ]
  },
  {
   "cell_type": "code",
   "execution_count": 2,
   "metadata": {
    "collapsed": false
   },
   "outputs": [],
   "source": [
    "trainData = {\n",
    "   data = torch.Tensor(1721, 3, 64, 64),\n",
    "   labels = torch.Tensor(1721),\n",
    "}\n",
    "--[[create test set:\n",
    "testData = {\n",
    "      data = torch.Tensor(tesize, 1, 32, 32),\n",
    "      labels = torch.Tensor(tesize),\n",
    "      size = function() return tesize end\n",
    "   }\n",
    "]]--\n",
    "\n",
    "for i=1,1721 do\n",
    "   trainData.data[i] = imagesAll[i]\n",
    "   trainData.labels[i] = labelsAll[i]\n",
    "end\n",
    "--for i=trsize+1,tesize+trsize do\n",
    "   --testData.data[i-trsize] = imagesAll[labelsShuffle[i]][1]:clone()\n",
    "   --testData.labels[i-trsize] = labelsAll[labelsShuffle[i]]\n",
    "--end"
   ]
  },
  {
   "cell_type": "code",
   "execution_count": 3,
   "metadata": {
    "collapsed": false
   },
   "outputs": [
    {
     "data": {
      "text/plain": [
       "{\n",
       "  data : DoubleTensor - size: 1721x3x64x64\n",
       "  labels : DoubleTensor - size: 1721\n",
       "}\n"
      ]
     },
     "execution_count": 3,
     "metadata": {},
     "output_type": "execute_result"
    }
   ],
   "source": [
    "trainData"
   ]
  },
  {
   "cell_type": "code",
   "execution_count": 22,
   "metadata": {
    "collapsed": false
   },
   "outputs": [
    {
     "data": {
      "image/png": "[encoded data removed]",
      "text/plain": [
       "Console does not support images"
      ]
     },
     "metadata": {
      "image/png": {
       "height": 64,
       "width": 64
      }
     },
     "output_type": "display_data"
    },
    {
     "data": {
      "image/png": "[encoded data removed]",
      "text/plain": [
       "Console does not support images"
      ]
     },
     "metadata": {
      "image/png": {
       "height": 64,
       "width": 64
      }
     },
     "output_type": "display_data"
    }
   ],
   "source": [
    "itorch.image(trainData.data[288])\n",
    "itorch.image(imagesAll[1538])\n",
    "--print(trainData.labels)"
   ]
  },
  {
   "cell_type": "code",
   "execution_count": 35,
   "metadata": {
    "collapsed": false
   },
   "outputs": [
    {
     "data": {
      "text/plain": [
       "287\t\n"
      ]
     },
     "execution_count": 35,
     "metadata": {},
     "output_type": "execute_result"
    }
   ],
   "source": [
    "labels_nul=0\n",
    "for i=1,1721 do\n",
    "    if (trainData.labels[i]~=0) then\n",
    "           labels_nul=labels_nul+1\n",
    "    end\n",
    "end\n",
    "print(labels_nul)"
   ]
  },
  {
   "cell_type": "markdown",
   "metadata": {},
   "source": [
    "<b>Problème :</b> à partir de l'image 288, les images sont entierement noirs et le label est nul. Je pense qu'il y a un probleme avec le `if (temp:size()[1]==3) then` ! En fait c'est avant je crois, quand on print le nombre de files ils en mettent que 190 .. --> J'ai compris on a un probleme dans la boucle, en fait, elle repart de 0 à chaque fois pour imageAll, donc à chaque fois qu'on parcourt un repertory d'images on réécrit sur les images anciennes (la liste `files` est temporaire. Le nombres d'images dans imagesAll est donc 288 car le nombre maximal d'images des dossiers du dataset est 288. \n",
    "\n",
    "``for i=1,(#files) do\n",
    "        print('dossier : ', compteur)\n",
    "        print(#files)\n",
    "        temp = image.load(files[i])\n",
    "        --print(files[i])\n",
    "        if (temp:size()[1]==3) then\n",
    "            imagesAll[i] = image.load(files[i]) \n",
    "            labelsAll[i] = compteur\n",
    "        end\n",
    "    end\n",
    "``\n",
    "\n",
    "Est ce que ce code là on le sort pas de la grosse boucle ?"
   ]
  },
  {
   "cell_type": "markdown",
   "metadata": {},
   "source": [
    "## Preprocessing Data"
   ]
  },
  {
   "cell_type": "code",
   "execution_count": null,
   "metadata": {
    "collapsed": true
   },
   "outputs": [],
   "source": []
  }
 ],
 "metadata": {
  "kernelspec": {
   "display_name": "iTorch",
   "language": "lua",
   "name": "itorch"
  },
  "language_info": {
   "name": "lua",
   "version": "5.1"
  }
 },
 "nbformat": 4,
 "nbformat_minor": 0
}
