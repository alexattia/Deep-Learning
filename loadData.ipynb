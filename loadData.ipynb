{
 "cells": [
  {
   "cell_type": "markdown",
   "metadata": {},
   "source": [
    "### Loading Data\n",
    "Dan Constantini, Tom Hayat et Alexandre Attia\n",
    "This script loads 11 data class from imagenet and sort the files according to their name"
   ]
  },
  {
   "cell_type": "code",
   "execution_count": 2,
   "metadata": {
    "collapsed": false
   },
   "outputs": [],
   "source": [
    "require 'torch'\n",
    "require 'xlua'\n",
    "require 'image'\n",
    "\n",
    "\n",
    "collectgarbage()\n",
    "\n",
    "\n",
    "files = {}\n",
    "compteur=0\n",
    "--classes={'bridge', 'building', 'city', 'eiffel_tower','elephant', 'landscape', 'lion', 'monkey', 'people', 'tower', 'water'}\n",
    "trainData={data,labels}\n",
    "trainData.labels = {}\n",
    "trainData.data = {}\n",
    "\n",
    "for dir in paths.iterdirs(\"./dataset/train/\") do\n",
    "    for file in paths.files(paths.concat('./dataset/train/',dir)) do\n",
    "       if file:find('JPEG' .. '$') then\n",
    "          table.insert(files, paths.concat('./dataset/train/',dir, file))\n",
    "       end\n",
    "    end\n",
    "\n",
    "    if #files == 0 then\n",
    "       error('given directory doesnt contain any files of type: ')\n",
    "    end\n",
    "\n",
    "    table.sort(files, function (a,b) return a < b end)\n",
    "\n",
    "\n",
    "    for i,file in ipairs(files) do\n",
    "       -- load each image\n",
    "       table.insert(trainData.data, image.load(file))\n",
    "       table.insert(trainData.labels,dir)\n",
    "    end\n",
    "\n",
    "\n",
    "    for i = 1,math.min(#files,1) do\n",
    "       itorch.image(trainData.data[i])\n",
    "       print(trainData.labels[i])\n",
    "    end\n",
    "    collectgarbage()\n",
    "end\n"
   ]
  },
  {
   "cell_type": "code",
   "execution_count": null,
   "metadata": {
    "collapsed": true
   },
   "outputs": [],
   "source": []
  }
 ],
 "metadata": {
  "kernelspec": {
   "display_name": "iTorch",
   "language": "lua",
   "name": "itorch"
  },
  "language_info": {
   "name": "lua",
   "version": "20100"
  }
 },
 "nbformat": 4,
 "nbformat_minor": 0
}
